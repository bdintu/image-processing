{
 "cells": [
  {
   "cell_type": "markdown",
   "metadata": {},
   "source": [
    "# LAB 2-1 : Sobel filter"
   ]
  },
  {
   "cell_type": "markdown",
   "metadata": {},
   "source": [
    "### 1.Inclusion of libraries."
   ]
  },
  {
   "cell_type": "code",
   "execution_count": null,
   "metadata": {},
   "outputs": [],
   "source": [
    "import cv2\n",
    "import numpy as np\n",
    "import matplotlib.pyplot as plt\n",
    "from scipy import signal\n",
    "from scipy import misc\n",
    "from IPython.display import Video\n",
    "\n",
    "%matplotlib notebook"
   ]
  },
  {
   "cell_type": "markdown",
   "metadata": {},
   "source": [
    "### 2.Image source specifications."
   ]
  },
  {
   "cell_type": "code",
   "execution_count": null,
   "metadata": {},
   "outputs": [],
   "source": [
    "img_path = 'thai.jpg'"
   ]
  },
  {
   "cell_type": "markdown",
   "metadata": {},
   "source": [
    "### 3.Image loading and color conversions."
   ]
  },
  {
   "cell_type": "code",
   "execution_count": null,
   "metadata": {},
   "outputs": [],
   "source": [
    "img = cv2.imread(img_path)\n",
    "img_gray = cv2.cvtColor(img, cv2.COLOR_BGR2GRAY)\n",
    "\n",
    "print('Image shape : %d x %d' % (img_gray.shape[1],img_gray.shape[0]),\"pixels\")\n",
    "print('Image data type :', img_gray.dtype)"
   ]
  },
  {
   "cell_type": "markdown",
   "metadata": {},
   "source": [
    "### 4.Sobel filter coefficients."
   ]
  },
  {
   "cell_type": "code",
   "execution_count": null,
   "metadata": {},
   "outputs": [],
   "source": [
    "Wx = np.array([[-1,-2,-1],\n",
    "              [0,0,0],\n",
    "              [1,2,1]])\n",
    "\n",
    "Wy = np.array([[-1,0,1],\n",
    "              [-2,0,2],\n",
    "              [-1,0,1]])"
   ]
  },
  {
   "cell_type": "markdown",
   "metadata": {},
   "source": [
    "### 5.Convolution."
   ]
  },
  {
   "cell_type": "code",
   "execution_count": null,
   "metadata": {},
   "outputs": [],
   "source": [
    "gradient_x = signal.convolve2d(img_gray, Wx, mode='same', boundary='fill', fillvalue=0)\n",
    "gradient_y = signal.convolve2d(img_gray, Wy, mode='same', boundary='fill', fillvalue=0)\n",
    "\n",
    "plt.subplot(1, 2, 1)\n",
    "plt.imshow(gradient_x, 'gray')\n",
    "plt.subplot(1, 2, 2)\n",
    "plt.imshow(gradient_y, 'gray')"
   ]
  },
  {
   "cell_type": "markdown",
   "metadata": {},
   "source": [
    "### 6.Gradient magnitude computations."
   ]
  },
  {
   "cell_type": "code",
   "execution_count": null,
   "metadata": {},
   "outputs": [],
   "source": [
    "Gxy = np.sqrt(np.power(gradient_x, 2) + np.power(gradient_y, 2))\n",
    "\n",
    "print('Shape : %d x %d' % (Gxy.shape[1],Gxy.shape[0]))\n",
    "print('Maximum :', np.max(Gxy))\n",
    "print('Mininum', np.min(Gxy))\n",
    "print('Standard deviation :', np.std(Gxy))\n",
    "\n",
    "plt.imshow(Gxy, 'gray')"
   ]
  },
  {
   "cell_type": "markdown",
   "metadata": {},
   "source": [
    "### 7.Gradient magnitude normalizations."
   ]
  },
  {
   "cell_type": "code",
   "execution_count": null,
   "metadata": {},
   "outputs": [],
   "source": [
    "Gxy = Gxy / np.max(Gxy) * 255\n",
    "\n",
    "print('Shape : %d x %d' % (Gxy.shape[1],Gxy.shape[0]))\n",
    "print('Maximum :', np.max(Gxy))\n",
    "print('Mininum', np.min(Gxy))\n",
    "print('Standard deviation :', np.std(Gxy))\n",
    "\n",
    "plt.imshow(Gxy, 'gray')"
   ]
  },
  {
   "cell_type": "markdown",
   "metadata": {},
   "source": [
    "### 8.Gradient histogram visualizations."
   ]
  },
  {
   "cell_type": "code",
   "execution_count": null,
   "metadata": {},
   "outputs": [],
   "source": [
    "plt.hist(Gxy.ravel(),256,[0,255]); plt.show()"
   ]
  },
  {
   "cell_type": "markdown",
   "metadata": {},
   "source": [
    "### 9.Video file creation."
   ]
  },
  {
   "cell_type": "code",
   "execution_count": null,
   "metadata": {},
   "outputs": [],
   "source": [
    "filename = 'lab2-1.avi'\n",
    "output = cv2.VideoWriter(filename,cv2.VideoWriter_fourcc('M','J','P','G'), 30, (Gxy.shape[1],Gxy.shape[0]))\n",
    "\n",
    "w = np.arange(250, 10, -1)\n",
    "v = np.arange(10, 250,1)\n",
    "\n",
    "for i in w:\n",
    "    ret,thresh = cv2.threshold(Gxy,i,255,cv2.THRESH_BINARY)\n",
    "\n",
    "    thresh = thresh.astype(np.uint8)\n",
    "    thresh_3d = np.stack((thresh, thresh, thresh), axis=2)\n",
    "\n",
    "    output.write(thresh_3d)\n",
    "    \n",
    "for i in v:\n",
    "    ret,thresh = cv2.threshold(Gxy,i,255,cv2.THRESH_BINARY)\n",
    "\n",
    "    thresh = thresh.astype(np.uint8)\n",
    "    thresh_3d = np.stack((thresh, thresh, thresh), axis=2)\n",
    "    \n",
    "    output.write(thresh_3d)\n",
    "    \n",
    "output.release()\n",
    "print(\"Video file creation successful!\")"
   ]
  },
  {
   "cell_type": "markdown",
   "metadata": {},
   "source": [
    "### 10.Video file playback."
   ]
  },
  {
   "cell_type": "code",
   "execution_count": null,
   "metadata": {},
   "outputs": [],
   "source": [
    "Video(filename)"
   ]
  },
  {
   "cell_type": "code",
   "execution_count": null,
   "metadata": {},
   "outputs": [],
   "source": []
  }
 ],
 "metadata": {
  "kernelspec": {
   "display_name": "Python 3",
   "language": "python",
   "name": "python3"
  },
  "language_info": {
   "codemirror_mode": {
    "name": "ipython",
    "version": 3
   },
   "file_extension": ".py",
   "mimetype": "text/x-python",
   "name": "python",
   "nbconvert_exporter": "python",
   "pygments_lexer": "ipython3",
   "version": "3.7.3"
  }
 },
 "nbformat": 4,
 "nbformat_minor": 4
}
