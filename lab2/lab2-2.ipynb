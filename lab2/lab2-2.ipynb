{
 "cells": [
  {
   "cell_type": "markdown",
   "metadata": {},
   "source": [
    "# LAB 2-2 : Fading"
   ]
  },
  {
   "cell_type": "markdown",
   "metadata": {},
   "source": [
    "### 1.Inclusion of libraries."
   ]
  },
  {
   "cell_type": "code",
   "execution_count": null,
   "metadata": {},
   "outputs": [],
   "source": [
    "import cv2\n",
    "import numpy as np\n",
    "import matplotlib.pyplot as plt\n",
    "from scipy import signal\n",
    "from IPython.display import Video\n",
    "\n",
    "%matplotlib notebook"
   ]
  },
  {
   "cell_type": "markdown",
   "metadata": {},
   "source": [
    "### 2.Image source specifications."
   ]
  },
  {
   "cell_type": "code",
   "execution_count": null,
   "metadata": {},
   "outputs": [],
   "source": [
    "img1_path = 'falcon.jpg'\n",
    "img2_path = 'gripen.jpg'"
   ]
  },
  {
   "cell_type": "markdown",
   "metadata": {},
   "source": [
    "### 3.Image loading and color conversions."
   ]
  },
  {
   "cell_type": "code",
   "execution_count": null,
   "metadata": {},
   "outputs": [],
   "source": [
    "img1_org = cv2.imread(img1_path)\n",
    "img2_org = cv2.imread(img2_path)\n",
    "\n",
    "img1_rgb = cv2.cvtColor(img1_org,cv2.COLOR_BGR2RGB)\n",
    "img2_rgb = cv2.cvtColor(img2_org,cv2.COLOR_BGR2RGB)"
   ]
  },
  {
   "cell_type": "markdown",
   "metadata": {},
   "source": [
    "### 4.Simple weighted image additions."
   ]
  },
  {
   "cell_type": "code",
   "execution_count": null,
   "metadata": {},
   "outputs": [],
   "source": [
    "w1 = 0.5\n",
    "w2 = 0.5\n",
    "\n",
    "lm_result = w1 * img1_rgb + w2 * img2_rgb\n",
    "lm_result = lm_result.astype(int)\n",
    "\n",
    "plt.imshow(lm_result)"
   ]
  },
  {
   "cell_type": "markdown",
   "metadata": {},
   "source": [
    "### 5.Video file creation."
   ]
  },
  {
   "cell_type": "code",
   "execution_count": null,
   "metadata": {},
   "outputs": [],
   "source": [
    "filename = 'lab2-2.avi'\n",
    "output = cv2.VideoWriter(filename,cv2.VideoWriter_fourcc('M','J','P','G'), 10, (lm_result.shape[1],lm_result.shape[0]))\n",
    "\n",
    "w1= np.arange(1,0,-0.025)\n",
    "w2 = 1-w1\n",
    "\n",
    "for i in range(0,w1.shape[0]):\n",
    "    lm_result = w1[i] * img1_org + w2[i] * img2_org\n",
    "    lm_result = lm_result.astype(np.uint8)\n",
    "    output.write(lm_result)\n",
    "\n",
    "for i in range(1,w2.shape[0]):\n",
    "    lm_result = w1[-i] * img1_org + w2[-i] * img2_org\n",
    "    lm_result = lm_result.astype(np.uint8)\n",
    "    output.write(lm_result)\n",
    "    \n",
    "output.release()\n",
    "print(\"Video file creation successful!\")"
   ]
  },
  {
   "cell_type": "markdown",
   "metadata": {},
   "source": [
    "### 6.Video file playback."
   ]
  },
  {
   "cell_type": "code",
   "execution_count": null,
   "metadata": {},
   "outputs": [],
   "source": [
    "Video(filename)"
   ]
  }
 ],
 "metadata": {
  "kernelspec": {
   "display_name": "Python 3",
   "language": "python",
   "name": "python3"
  },
  "language_info": {
   "codemirror_mode": {
    "name": "ipython",
    "version": 3
   },
   "file_extension": ".py",
   "mimetype": "text/x-python",
   "name": "python",
   "nbconvert_exporter": "python",
   "pygments_lexer": "ipython3",
   "version": "3.7.3"
  }
 },
 "nbformat": 4,
 "nbformat_minor": 4
}
