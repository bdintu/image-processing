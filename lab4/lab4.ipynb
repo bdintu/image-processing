{
 "cells": [
  {
   "cell_type": "code",
   "execution_count": 1,
   "metadata": {},
   "outputs": [
    {
     "name": "stderr",
     "output_type": "stream",
     "text": [
      "Using TensorFlow backend.\n"
     ]
    }
   ],
   "source": [
    "import numpy as np\n",
    "import pandas as pd\n",
    "import matplotlib.pyplot as plt\n",
    "\n",
    "from sklearn.model_selection import train_test_split, cross_val_score, StratifiedKFold, GridSearchCV\n",
    "from sklearn.preprocessing import LabelEncoder\n",
    "from sklearn.metrics import classification_report, confusion_matrix\n",
    "from sklearn.svm import SVC\n",
    "from sklearn.neural_network import MLPClassifier\n",
    "\n",
    "from keras.models import Sequential\n",
    "from keras.layers import Conv2D, MaxPooling2D, Flatten, Dense, Dropout\n",
    "from keras import optimizers"
   ]
  },
  {
   "cell_type": "markdown",
   "metadata": {},
   "source": [
    "# Preprocessing Data"
   ]
  },
  {
   "cell_type": "code",
   "execution_count": 2,
   "metadata": {},
   "outputs": [
    {
     "data": {
      "text/html": [
       "<div>\n",
       "<style scoped>\n",
       "    .dataframe tbody tr th:only-of-type {\n",
       "        vertical-align: middle;\n",
       "    }\n",
       "\n",
       "    .dataframe tbody tr th {\n",
       "        vertical-align: top;\n",
       "    }\n",
       "\n",
       "    .dataframe thead th {\n",
       "        text-align: right;\n",
       "    }\n",
       "</style>\n",
       "<table border=\"1\" class=\"dataframe\">\n",
       "  <thead>\n",
       "    <tr style=\"text-align: right;\">\n",
       "      <th></th>\n",
       "      <th>nose_x</th>\n",
       "      <th>nose_y</th>\n",
       "      <th>neck_x</th>\n",
       "      <th>neck_y</th>\n",
       "      <th>Rshoulder_x</th>\n",
       "      <th>Rshoulder_y</th>\n",
       "      <th>Relbow_x</th>\n",
       "      <th>Relbow_y</th>\n",
       "      <th>Rwrist_x</th>\n",
       "      <th>RWrist_y</th>\n",
       "      <th>...</th>\n",
       "      <th>LAnkle_y</th>\n",
       "      <th>REye_x</th>\n",
       "      <th>REye_y</th>\n",
       "      <th>LEye_x</th>\n",
       "      <th>LEye_y</th>\n",
       "      <th>REar_x</th>\n",
       "      <th>REar_y</th>\n",
       "      <th>LEar_x</th>\n",
       "      <th>LEar_y</th>\n",
       "      <th>class</th>\n",
       "    </tr>\n",
       "  </thead>\n",
       "  <tbody>\n",
       "    <tr>\n",
       "      <th>0</th>\n",
       "      <td>0.643519</td>\n",
       "      <td>0.157609</td>\n",
       "      <td>0.634259</td>\n",
       "      <td>0.250000</td>\n",
       "      <td>0.587963</td>\n",
       "      <td>0.244565</td>\n",
       "      <td>0.555556</td>\n",
       "      <td>0.342391</td>\n",
       "      <td>0.550926</td>\n",
       "      <td>0.434783</td>\n",
       "      <td>...</td>\n",
       "      <td>0.755435</td>\n",
       "      <td>0.629630</td>\n",
       "      <td>0.146739</td>\n",
       "      <td>0.652778</td>\n",
       "      <td>0.146739</td>\n",
       "      <td>0.615741</td>\n",
       "      <td>0.157609</td>\n",
       "      <td>0.666667</td>\n",
       "      <td>0.152174</td>\n",
       "      <td>kick</td>\n",
       "    </tr>\n",
       "    <tr>\n",
       "      <th>1</th>\n",
       "      <td>0.643519</td>\n",
       "      <td>0.157609</td>\n",
       "      <td>0.634259</td>\n",
       "      <td>0.250000</td>\n",
       "      <td>0.587963</td>\n",
       "      <td>0.244565</td>\n",
       "      <td>0.560185</td>\n",
       "      <td>0.342391</td>\n",
       "      <td>0.555556</td>\n",
       "      <td>0.429348</td>\n",
       "      <td>...</td>\n",
       "      <td>0.766304</td>\n",
       "      <td>0.629630</td>\n",
       "      <td>0.146739</td>\n",
       "      <td>0.652778</td>\n",
       "      <td>0.146739</td>\n",
       "      <td>0.615741</td>\n",
       "      <td>0.157609</td>\n",
       "      <td>0.666667</td>\n",
       "      <td>0.152174</td>\n",
       "      <td>kick</td>\n",
       "    </tr>\n",
       "    <tr>\n",
       "      <th>2</th>\n",
       "      <td>0.643519</td>\n",
       "      <td>0.157609</td>\n",
       "      <td>0.638889</td>\n",
       "      <td>0.250000</td>\n",
       "      <td>0.587963</td>\n",
       "      <td>0.244565</td>\n",
       "      <td>0.560185</td>\n",
       "      <td>0.342391</td>\n",
       "      <td>0.555556</td>\n",
       "      <td>0.429348</td>\n",
       "      <td>...</td>\n",
       "      <td>0.760870</td>\n",
       "      <td>0.634259</td>\n",
       "      <td>0.146739</td>\n",
       "      <td>0.652778</td>\n",
       "      <td>0.146739</td>\n",
       "      <td>0.615741</td>\n",
       "      <td>0.157609</td>\n",
       "      <td>0.671296</td>\n",
       "      <td>0.152174</td>\n",
       "      <td>kick</td>\n",
       "    </tr>\n",
       "    <tr>\n",
       "      <th>3</th>\n",
       "      <td>0.643519</td>\n",
       "      <td>0.157609</td>\n",
       "      <td>0.638889</td>\n",
       "      <td>0.250000</td>\n",
       "      <td>0.587963</td>\n",
       "      <td>0.244565</td>\n",
       "      <td>0.560185</td>\n",
       "      <td>0.342391</td>\n",
       "      <td>0.555556</td>\n",
       "      <td>0.429348</td>\n",
       "      <td>...</td>\n",
       "      <td>0.755435</td>\n",
       "      <td>0.629630</td>\n",
       "      <td>0.146739</td>\n",
       "      <td>0.652778</td>\n",
       "      <td>0.146739</td>\n",
       "      <td>0.615741</td>\n",
       "      <td>0.157609</td>\n",
       "      <td>0.666667</td>\n",
       "      <td>0.152174</td>\n",
       "      <td>kick</td>\n",
       "    </tr>\n",
       "    <tr>\n",
       "      <th>4</th>\n",
       "      <td>0.643519</td>\n",
       "      <td>0.157609</td>\n",
       "      <td>0.638889</td>\n",
       "      <td>0.250000</td>\n",
       "      <td>0.587963</td>\n",
       "      <td>0.244565</td>\n",
       "      <td>0.560185</td>\n",
       "      <td>0.342391</td>\n",
       "      <td>0.555556</td>\n",
       "      <td>0.429348</td>\n",
       "      <td>...</td>\n",
       "      <td>0.760870</td>\n",
       "      <td>0.629630</td>\n",
       "      <td>0.146739</td>\n",
       "      <td>0.652778</td>\n",
       "      <td>0.146739</td>\n",
       "      <td>0.615741</td>\n",
       "      <td>0.157609</td>\n",
       "      <td>0.666667</td>\n",
       "      <td>0.152174</td>\n",
       "      <td>kick</td>\n",
       "    </tr>\n",
       "    <tr>\n",
       "      <th>...</th>\n",
       "      <td>...</td>\n",
       "      <td>...</td>\n",
       "      <td>...</td>\n",
       "      <td>...</td>\n",
       "      <td>...</td>\n",
       "      <td>...</td>\n",
       "      <td>...</td>\n",
       "      <td>...</td>\n",
       "      <td>...</td>\n",
       "      <td>...</td>\n",
       "      <td>...</td>\n",
       "      <td>...</td>\n",
       "      <td>...</td>\n",
       "      <td>...</td>\n",
       "      <td>...</td>\n",
       "      <td>...</td>\n",
       "      <td>...</td>\n",
       "      <td>...</td>\n",
       "      <td>...</td>\n",
       "      <td>...</td>\n",
       "      <td>...</td>\n",
       "    </tr>\n",
       "    <tr>\n",
       "      <th>3219</th>\n",
       "      <td>0.587963</td>\n",
       "      <td>0.152174</td>\n",
       "      <td>0.587963</td>\n",
       "      <td>0.233696</td>\n",
       "      <td>0.541667</td>\n",
       "      <td>0.217391</td>\n",
       "      <td>0.500000</td>\n",
       "      <td>0.163043</td>\n",
       "      <td>0.486111</td>\n",
       "      <td>0.092391</td>\n",
       "      <td>...</td>\n",
       "      <td>0.755435</td>\n",
       "      <td>0.578704</td>\n",
       "      <td>0.141304</td>\n",
       "      <td>0.597222</td>\n",
       "      <td>0.141304</td>\n",
       "      <td>0.564815</td>\n",
       "      <td>0.152174</td>\n",
       "      <td>0.620370</td>\n",
       "      <td>0.146739</td>\n",
       "      <td>wave</td>\n",
       "    </tr>\n",
       "    <tr>\n",
       "      <th>3220</th>\n",
       "      <td>0.583333</td>\n",
       "      <td>0.157609</td>\n",
       "      <td>0.587963</td>\n",
       "      <td>0.233696</td>\n",
       "      <td>0.541667</td>\n",
       "      <td>0.222826</td>\n",
       "      <td>0.490741</td>\n",
       "      <td>0.179348</td>\n",
       "      <td>0.458333</td>\n",
       "      <td>0.114130</td>\n",
       "      <td>...</td>\n",
       "      <td>0.755435</td>\n",
       "      <td>0.574074</td>\n",
       "      <td>0.141304</td>\n",
       "      <td>0.597222</td>\n",
       "      <td>0.141304</td>\n",
       "      <td>0.564815</td>\n",
       "      <td>0.152174</td>\n",
       "      <td>0.615741</td>\n",
       "      <td>0.146739</td>\n",
       "      <td>wave</td>\n",
       "    </tr>\n",
       "    <tr>\n",
       "      <th>3221</th>\n",
       "      <td>0.583333</td>\n",
       "      <td>0.157609</td>\n",
       "      <td>0.587963</td>\n",
       "      <td>0.228261</td>\n",
       "      <td>0.537037</td>\n",
       "      <td>0.222826</td>\n",
       "      <td>0.481481</td>\n",
       "      <td>0.179348</td>\n",
       "      <td>0.439815</td>\n",
       "      <td>0.108696</td>\n",
       "      <td>...</td>\n",
       "      <td>0.755435</td>\n",
       "      <td>0.574074</td>\n",
       "      <td>0.141304</td>\n",
       "      <td>0.000000</td>\n",
       "      <td>0.000000</td>\n",
       "      <td>0.560185</td>\n",
       "      <td>0.146739</td>\n",
       "      <td>0.615741</td>\n",
       "      <td>0.146739</td>\n",
       "      <td>wave</td>\n",
       "    </tr>\n",
       "    <tr>\n",
       "      <th>3222</th>\n",
       "      <td>0.578704</td>\n",
       "      <td>0.157609</td>\n",
       "      <td>0.583333</td>\n",
       "      <td>0.228261</td>\n",
       "      <td>0.532407</td>\n",
       "      <td>0.222826</td>\n",
       "      <td>0.476852</td>\n",
       "      <td>0.184783</td>\n",
       "      <td>0.421296</td>\n",
       "      <td>0.125000</td>\n",
       "      <td>...</td>\n",
       "      <td>0.755435</td>\n",
       "      <td>0.569444</td>\n",
       "      <td>0.146739</td>\n",
       "      <td>0.592593</td>\n",
       "      <td>0.141304</td>\n",
       "      <td>0.560185</td>\n",
       "      <td>0.152174</td>\n",
       "      <td>0.611111</td>\n",
       "      <td>0.146739</td>\n",
       "      <td>wave</td>\n",
       "    </tr>\n",
       "    <tr>\n",
       "      <th>3223</th>\n",
       "      <td>0.574074</td>\n",
       "      <td>0.157609</td>\n",
       "      <td>0.583333</td>\n",
       "      <td>0.228261</td>\n",
       "      <td>0.532407</td>\n",
       "      <td>0.222826</td>\n",
       "      <td>0.476852</td>\n",
       "      <td>0.190217</td>\n",
       "      <td>0.412037</td>\n",
       "      <td>0.130435</td>\n",
       "      <td>...</td>\n",
       "      <td>0.750000</td>\n",
       "      <td>0.564815</td>\n",
       "      <td>0.146739</td>\n",
       "      <td>0.583333</td>\n",
       "      <td>0.141304</td>\n",
       "      <td>0.555556</td>\n",
       "      <td>0.152174</td>\n",
       "      <td>0.606481</td>\n",
       "      <td>0.146739</td>\n",
       "      <td>wave</td>\n",
       "    </tr>\n",
       "  </tbody>\n",
       "</table>\n",
       "<p>3224 rows × 37 columns</p>\n",
       "</div>"
      ],
      "text/plain": [
       "        nose_x    nose_y    neck_x    neck_y  Rshoulder_x  Rshoulder_y  \\\n",
       "0     0.643519  0.157609  0.634259  0.250000     0.587963     0.244565   \n",
       "1     0.643519  0.157609  0.634259  0.250000     0.587963     0.244565   \n",
       "2     0.643519  0.157609  0.638889  0.250000     0.587963     0.244565   \n",
       "3     0.643519  0.157609  0.638889  0.250000     0.587963     0.244565   \n",
       "4     0.643519  0.157609  0.638889  0.250000     0.587963     0.244565   \n",
       "...        ...       ...       ...       ...          ...          ...   \n",
       "3219  0.587963  0.152174  0.587963  0.233696     0.541667     0.217391   \n",
       "3220  0.583333  0.157609  0.587963  0.233696     0.541667     0.222826   \n",
       "3221  0.583333  0.157609  0.587963  0.228261     0.537037     0.222826   \n",
       "3222  0.578704  0.157609  0.583333  0.228261     0.532407     0.222826   \n",
       "3223  0.574074  0.157609  0.583333  0.228261     0.532407     0.222826   \n",
       "\n",
       "      Relbow_x  Relbow_y  Rwrist_x  RWrist_y  ...  LAnkle_y    REye_x  \\\n",
       "0     0.555556  0.342391  0.550926  0.434783  ...  0.755435  0.629630   \n",
       "1     0.560185  0.342391  0.555556  0.429348  ...  0.766304  0.629630   \n",
       "2     0.560185  0.342391  0.555556  0.429348  ...  0.760870  0.634259   \n",
       "3     0.560185  0.342391  0.555556  0.429348  ...  0.755435  0.629630   \n",
       "4     0.560185  0.342391  0.555556  0.429348  ...  0.760870  0.629630   \n",
       "...        ...       ...       ...       ...  ...       ...       ...   \n",
       "3219  0.500000  0.163043  0.486111  0.092391  ...  0.755435  0.578704   \n",
       "3220  0.490741  0.179348  0.458333  0.114130  ...  0.755435  0.574074   \n",
       "3221  0.481481  0.179348  0.439815  0.108696  ...  0.755435  0.574074   \n",
       "3222  0.476852  0.184783  0.421296  0.125000  ...  0.755435  0.569444   \n",
       "3223  0.476852  0.190217  0.412037  0.130435  ...  0.750000  0.564815   \n",
       "\n",
       "        REye_y    LEye_x    LEye_y    REar_x    REar_y    LEar_x    LEar_y  \\\n",
       "0     0.146739  0.652778  0.146739  0.615741  0.157609  0.666667  0.152174   \n",
       "1     0.146739  0.652778  0.146739  0.615741  0.157609  0.666667  0.152174   \n",
       "2     0.146739  0.652778  0.146739  0.615741  0.157609  0.671296  0.152174   \n",
       "3     0.146739  0.652778  0.146739  0.615741  0.157609  0.666667  0.152174   \n",
       "4     0.146739  0.652778  0.146739  0.615741  0.157609  0.666667  0.152174   \n",
       "...        ...       ...       ...       ...       ...       ...       ...   \n",
       "3219  0.141304  0.597222  0.141304  0.564815  0.152174  0.620370  0.146739   \n",
       "3220  0.141304  0.597222  0.141304  0.564815  0.152174  0.615741  0.146739   \n",
       "3221  0.141304  0.000000  0.000000  0.560185  0.146739  0.615741  0.146739   \n",
       "3222  0.146739  0.592593  0.141304  0.560185  0.152174  0.611111  0.146739   \n",
       "3223  0.146739  0.583333  0.141304  0.555556  0.152174  0.606481  0.146739   \n",
       "\n",
       "      class  \n",
       "0      kick  \n",
       "1      kick  \n",
       "2      kick  \n",
       "3      kick  \n",
       "4      kick  \n",
       "...     ...  \n",
       "3219   wave  \n",
       "3220   wave  \n",
       "3221   wave  \n",
       "3222   wave  \n",
       "3223   wave  \n",
       "\n",
       "[3224 rows x 37 columns]"
      ]
     },
     "execution_count": 2,
     "metadata": {},
     "output_type": "execute_result"
    }
   ],
   "source": [
    "df = pd.read_csv('data/skeleton_filtered.csv')\n",
    "\n",
    "df"
   ]
  },
  {
   "cell_type": "code",
   "execution_count": 3,
   "metadata": {},
   "outputs": [
    {
     "data": {
      "text/plain": [
       "['kick', 'stand', 'wave']"
      ]
     },
     "execution_count": 3,
     "metadata": {},
     "output_type": "execute_result"
    }
   ],
   "source": [
    "# activity = df['class'].drop_duplicates().to_list()\n",
    "activity = ['kick', 'stand', 'wave']\n",
    "\n",
    "activity"
   ]
  },
  {
   "cell_type": "code",
   "execution_count": 4,
   "metadata": {},
   "outputs": [
    {
     "data": {
      "text/plain": [
       "array([['kick', 525],\n",
       "       ['punch', 438],\n",
       "       ['squat', 571],\n",
       "       ['stand', 861],\n",
       "       ['wave', 829]], dtype=object)"
      ]
     },
     "execution_count": 4,
     "metadata": {},
     "output_type": "execute_result"
    }
   ],
   "source": [
    "unique, counts = np.unique(df['class'], return_counts=True)\n",
    "itemfreq = np.vstack((unique, counts)).T\n",
    "\n",
    "itemfreq"
   ]
  },
  {
   "cell_type": "code",
   "execution_count": 5,
   "metadata": {},
   "outputs": [],
   "source": [
    "def process_create_WindowTimeSeries(activity, df, activity_start, activity_len, time_window, n_feature, step_stride):\n",
    "    df_series = df[df['class'] == activity].iloc[:,:-1][activity_start:(activity_start+activity_len)]\n",
    "    segments = []\n",
    "    labels = []\n",
    "\n",
    "    for i in range(0, df_series.shape[0] - time_window, step_stride):\n",
    "        df_series_feature = df_series.iloc[i: i + time_window]\n",
    "        segments.append(df_series_feature.to_numpy())\n",
    "\n",
    "    segments = np.asarray(segments)\n",
    "    reshaped_segments = np.asarray(segments, dtype= np.float32).reshape(-1, time_window, n_feature,1)\n",
    "\n",
    "    labels = np.repeat(activity, reshaped_segments.shape[0])\n",
    "\n",
    "    return reshaped_segments, labels"
   ]
  },
  {
   "cell_type": "code",
   "execution_count": 6,
   "metadata": {},
   "outputs": [
    {
     "data": {
      "text/plain": [
       "((2316, 100, 3, 1), (2316,))"
      ]
     },
     "execution_count": 6,
     "metadata": {},
     "output_type": "execute_result"
    }
   ],
   "source": [
    "activity_start = 0\n",
    "activity_len = df.shape[0]\n",
    "time_window = 100\n",
    "n_feature = len(activity)\n",
    "step_stride = 10\n",
    "\n",
    "X = []\n",
    "y = []\n",
    "\n",
    "for i in activity:\n",
    "    reshaped_segments, labels = process_create_WindowTimeSeries(i, df, activity_start, activity_len, time_window, n_feature, step_stride)\n",
    "    X.append(reshaped_segments)\n",
    "    y.append(labels)\n",
    "    \n",
    "X = np.concatenate(X)\n",
    "y = np.concatenate(y)\n",
    "\n",
    "X.shape, y.shape"
   ]
  },
  {
   "cell_type": "code",
   "execution_count": 7,
   "metadata": {},
   "outputs": [],
   "source": [
    "encoder = LabelEncoder()\n",
    "encoder.fit(y)\n",
    "encoded_y = encoder.transform(y)\n",
    "\n",
    "dummy_y = np.zeros((encoded_y.shape[0], len(activity)))\n",
    "dummy_y[np.arange(encoded_y.shape[0]), encoded_y] = 1"
   ]
  },
  {
   "cell_type": "code",
   "execution_count": 8,
   "metadata": {},
   "outputs": [
    {
     "data": {
      "text/plain": [
       "((1852, 100, 3, 1), (464, 100, 3, 1), (1852, 3), (464, 3))"
      ]
     },
     "execution_count": 8,
     "metadata": {},
     "output_type": "execute_result"
    }
   ],
   "source": [
    "train_size = 0.8\n",
    "test_size = 0.2\n",
    "random_state = 0\n",
    "\n",
    "X_train, X_validate, y_train, y_validate = train_test_split(X, dummy_y, train_size=train_size, test_size=test_size, random_state=random_state, stratify=y)\n",
    "\n",
    "X_train.shape, X_validate.shape, y_train.shape, y_validate.shape"
   ]
  },
  {
   "cell_type": "markdown",
   "metadata": {},
   "source": [
    "# SVC"
   ]
  },
  {
   "cell_type": "code",
   "execution_count": 9,
   "metadata": {},
   "outputs": [],
   "source": [
    "k = 3\n",
    "seed = random_state\n",
    "\n",
    "skfold = StratifiedKFold(n_splits=k, shuffle =True,random_state=seed)"
   ]
  },
  {
   "cell_type": "code",
   "execution_count": 10,
   "metadata": {},
   "outputs": [],
   "source": [
    "c_val = 100\n",
    "gmm = 0.1\n",
    "\n",
    "SVC_lin = SVC(kernel='linear', C=c_val)\n",
    "SVC_rbf = SVC(kernel='rbf', C=c_val, gamma=gmm)"
   ]
  },
  {
   "cell_type": "code",
   "execution_count": 11,
   "metadata": {},
   "outputs": [
    {
     "ename": "ValueError",
     "evalue": "Supported target types are: ('binary', 'multiclass'). Got 'multilabel-indicator' instead.",
     "output_type": "error",
     "traceback": [
      "\u001b[0;31m---------------------------------------------------------------------------\u001b[0m",
      "\u001b[0;31mEmpty\u001b[0m                                     Traceback (most recent call last)",
      "\u001b[0;32m~/.local/lib/python3.7/site-packages/joblib/parallel.py\u001b[0m in \u001b[0;36mdispatch_one_batch\u001b[0;34m(self, iterator)\u001b[0m\n\u001b[1;32m    795\u001b[0m             \u001b[0;32mtry\u001b[0m\u001b[0;34m:\u001b[0m\u001b[0;34m\u001b[0m\u001b[0;34m\u001b[0m\u001b[0m\n\u001b[0;32m--> 796\u001b[0;31m                 \u001b[0mtasks\u001b[0m \u001b[0;34m=\u001b[0m \u001b[0mself\u001b[0m\u001b[0;34m.\u001b[0m\u001b[0m_ready_batches\u001b[0m\u001b[0;34m.\u001b[0m\u001b[0mget\u001b[0m\u001b[0;34m(\u001b[0m\u001b[0mblock\u001b[0m\u001b[0;34m=\u001b[0m\u001b[0;32mFalse\u001b[0m\u001b[0;34m)\u001b[0m\u001b[0;34m\u001b[0m\u001b[0;34m\u001b[0m\u001b[0m\n\u001b[0m\u001b[1;32m    797\u001b[0m             \u001b[0;32mexcept\u001b[0m \u001b[0mqueue\u001b[0m\u001b[0;34m.\u001b[0m\u001b[0mEmpty\u001b[0m\u001b[0;34m:\u001b[0m\u001b[0;34m\u001b[0m\u001b[0;34m\u001b[0m\u001b[0m\n",
      "\u001b[0;32m/usr/lib/python3.7/queue.py\u001b[0m in \u001b[0;36mget\u001b[0;34m(self, block, timeout)\u001b[0m\n\u001b[1;32m    166\u001b[0m                 \u001b[0;32mif\u001b[0m \u001b[0;32mnot\u001b[0m \u001b[0mself\u001b[0m\u001b[0;34m.\u001b[0m\u001b[0m_qsize\u001b[0m\u001b[0;34m(\u001b[0m\u001b[0;34m)\u001b[0m\u001b[0;34m:\u001b[0m\u001b[0;34m\u001b[0m\u001b[0;34m\u001b[0m\u001b[0m\n\u001b[0;32m--> 167\u001b[0;31m                     \u001b[0;32mraise\u001b[0m \u001b[0mEmpty\u001b[0m\u001b[0;34m\u001b[0m\u001b[0;34m\u001b[0m\u001b[0m\n\u001b[0m\u001b[1;32m    168\u001b[0m             \u001b[0;32melif\u001b[0m \u001b[0mtimeout\u001b[0m \u001b[0;32mis\u001b[0m \u001b[0;32mNone\u001b[0m\u001b[0;34m:\u001b[0m\u001b[0;34m\u001b[0m\u001b[0;34m\u001b[0m\u001b[0m\n",
      "\u001b[0;31mEmpty\u001b[0m: ",
      "\nDuring handling of the above exception, another exception occurred:\n",
      "\u001b[0;31mValueError\u001b[0m                                Traceback (most recent call last)",
      "\u001b[0;32m<ipython-input-11-17b90bdb7b36>\u001b[0m in \u001b[0;36m<module>\u001b[0;34m\u001b[0m\n\u001b[0;32m----> 1\u001b[0;31m \u001b[0mscore_lin\u001b[0m \u001b[0;34m=\u001b[0m \u001b[0mcross_val_score\u001b[0m\u001b[0;34m(\u001b[0m\u001b[0mSVC_lin\u001b[0m\u001b[0;34m,\u001b[0m \u001b[0mX_train\u001b[0m\u001b[0;34m,\u001b[0m \u001b[0my_train\u001b[0m\u001b[0;34m,\u001b[0m \u001b[0mcv\u001b[0m\u001b[0;34m=\u001b[0m\u001b[0mskfold\u001b[0m\u001b[0;34m)\u001b[0m\u001b[0;34m\u001b[0m\u001b[0;34m\u001b[0m\u001b[0m\n\u001b[0m\u001b[1;32m      2\u001b[0m \u001b[0mscore_rbf\u001b[0m \u001b[0;34m=\u001b[0m \u001b[0mcross_val_score\u001b[0m\u001b[0;34m(\u001b[0m\u001b[0mSVC_rbf\u001b[0m\u001b[0;34m,\u001b[0m \u001b[0mX_train\u001b[0m\u001b[0;34m,\u001b[0m \u001b[0my_train\u001b[0m\u001b[0;34m,\u001b[0m \u001b[0mcv\u001b[0m\u001b[0;34m=\u001b[0m\u001b[0mskfold\u001b[0m\u001b[0;34m)\u001b[0m\u001b[0;34m\u001b[0m\u001b[0;34m\u001b[0m\u001b[0m\n",
      "\u001b[0;32m~/.local/lib/python3.7/site-packages/sklearn/model_selection/_validation.py\u001b[0m in \u001b[0;36mcross_val_score\u001b[0;34m(estimator, X, y, groups, scoring, cv, n_jobs, verbose, fit_params, pre_dispatch, error_score)\u001b[0m\n\u001b[1;32m    389\u001b[0m                                 \u001b[0mfit_params\u001b[0m\u001b[0;34m=\u001b[0m\u001b[0mfit_params\u001b[0m\u001b[0;34m,\u001b[0m\u001b[0;34m\u001b[0m\u001b[0;34m\u001b[0m\u001b[0m\n\u001b[1;32m    390\u001b[0m                                 \u001b[0mpre_dispatch\u001b[0m\u001b[0;34m=\u001b[0m\u001b[0mpre_dispatch\u001b[0m\u001b[0;34m,\u001b[0m\u001b[0;34m\u001b[0m\u001b[0;34m\u001b[0m\u001b[0m\n\u001b[0;32m--> 391\u001b[0;31m                                 error_score=error_score)\n\u001b[0m\u001b[1;32m    392\u001b[0m     \u001b[0;32mreturn\u001b[0m \u001b[0mcv_results\u001b[0m\u001b[0;34m[\u001b[0m\u001b[0;34m'test_score'\u001b[0m\u001b[0;34m]\u001b[0m\u001b[0;34m\u001b[0m\u001b[0;34m\u001b[0m\u001b[0m\n\u001b[1;32m    393\u001b[0m \u001b[0;34m\u001b[0m\u001b[0m\n",
      "\u001b[0;32m~/.local/lib/python3.7/site-packages/sklearn/model_selection/_validation.py\u001b[0m in \u001b[0;36mcross_validate\u001b[0;34m(estimator, X, y, groups, scoring, cv, n_jobs, verbose, fit_params, pre_dispatch, return_train_score, return_estimator, error_score)\u001b[0m\n\u001b[1;32m    230\u001b[0m             \u001b[0mreturn_times\u001b[0m\u001b[0;34m=\u001b[0m\u001b[0;32mTrue\u001b[0m\u001b[0;34m,\u001b[0m \u001b[0mreturn_estimator\u001b[0m\u001b[0;34m=\u001b[0m\u001b[0mreturn_estimator\u001b[0m\u001b[0;34m,\u001b[0m\u001b[0;34m\u001b[0m\u001b[0;34m\u001b[0m\u001b[0m\n\u001b[1;32m    231\u001b[0m             error_score=error_score)\n\u001b[0;32m--> 232\u001b[0;31m         for train, test in cv.split(X, y, groups))\n\u001b[0m\u001b[1;32m    233\u001b[0m \u001b[0;34m\u001b[0m\u001b[0m\n\u001b[1;32m    234\u001b[0m     \u001b[0mzipped_scores\u001b[0m \u001b[0;34m=\u001b[0m \u001b[0mlist\u001b[0m\u001b[0;34m(\u001b[0m\u001b[0mzip\u001b[0m\u001b[0;34m(\u001b[0m\u001b[0;34m*\u001b[0m\u001b[0mscores\u001b[0m\u001b[0;34m)\u001b[0m\u001b[0;34m)\u001b[0m\u001b[0;34m\u001b[0m\u001b[0;34m\u001b[0m\u001b[0m\n",
      "\u001b[0;32m~/.local/lib/python3.7/site-packages/joblib/parallel.py\u001b[0m in \u001b[0;36m__call__\u001b[0;34m(self, iterable)\u001b[0m\n\u001b[1;32m   1001\u001b[0m             \u001b[0;31m# remaining jobs.\u001b[0m\u001b[0;34m\u001b[0m\u001b[0;34m\u001b[0m\u001b[0;34m\u001b[0m\u001b[0m\n\u001b[1;32m   1002\u001b[0m             \u001b[0mself\u001b[0m\u001b[0;34m.\u001b[0m\u001b[0m_iterating\u001b[0m \u001b[0;34m=\u001b[0m \u001b[0;32mFalse\u001b[0m\u001b[0;34m\u001b[0m\u001b[0;34m\u001b[0m\u001b[0m\n\u001b[0;32m-> 1003\u001b[0;31m             \u001b[0;32mif\u001b[0m \u001b[0mself\u001b[0m\u001b[0;34m.\u001b[0m\u001b[0mdispatch_one_batch\u001b[0m\u001b[0;34m(\u001b[0m\u001b[0miterator\u001b[0m\u001b[0;34m)\u001b[0m\u001b[0;34m:\u001b[0m\u001b[0;34m\u001b[0m\u001b[0;34m\u001b[0m\u001b[0m\n\u001b[0m\u001b[1;32m   1004\u001b[0m                 \u001b[0mself\u001b[0m\u001b[0;34m.\u001b[0m\u001b[0m_iterating\u001b[0m \u001b[0;34m=\u001b[0m \u001b[0mself\u001b[0m\u001b[0;34m.\u001b[0m\u001b[0m_original_iterator\u001b[0m \u001b[0;32mis\u001b[0m \u001b[0;32mnot\u001b[0m \u001b[0;32mNone\u001b[0m\u001b[0;34m\u001b[0m\u001b[0;34m\u001b[0m\u001b[0m\n\u001b[1;32m   1005\u001b[0m \u001b[0;34m\u001b[0m\u001b[0m\n",
      "\u001b[0;32m~/.local/lib/python3.7/site-packages/joblib/parallel.py\u001b[0m in \u001b[0;36mdispatch_one_batch\u001b[0;34m(self, iterator)\u001b[0m\n\u001b[1;32m    805\u001b[0m                 \u001b[0mbig_batch_size\u001b[0m \u001b[0;34m=\u001b[0m \u001b[0mbatch_size\u001b[0m \u001b[0;34m*\u001b[0m \u001b[0mn_jobs\u001b[0m\u001b[0;34m\u001b[0m\u001b[0;34m\u001b[0m\u001b[0m\n\u001b[1;32m    806\u001b[0m \u001b[0;34m\u001b[0m\u001b[0m\n\u001b[0;32m--> 807\u001b[0;31m                 \u001b[0mislice\u001b[0m \u001b[0;34m=\u001b[0m \u001b[0mlist\u001b[0m\u001b[0;34m(\u001b[0m\u001b[0mitertools\u001b[0m\u001b[0;34m.\u001b[0m\u001b[0mislice\u001b[0m\u001b[0;34m(\u001b[0m\u001b[0miterator\u001b[0m\u001b[0;34m,\u001b[0m \u001b[0mbig_batch_size\u001b[0m\u001b[0;34m)\u001b[0m\u001b[0;34m)\u001b[0m\u001b[0;34m\u001b[0m\u001b[0;34m\u001b[0m\u001b[0m\n\u001b[0m\u001b[1;32m    808\u001b[0m                 \u001b[0;32mif\u001b[0m \u001b[0mlen\u001b[0m\u001b[0;34m(\u001b[0m\u001b[0mislice\u001b[0m\u001b[0;34m)\u001b[0m \u001b[0;34m==\u001b[0m \u001b[0;36m0\u001b[0m\u001b[0;34m:\u001b[0m\u001b[0;34m\u001b[0m\u001b[0;34m\u001b[0m\u001b[0m\n\u001b[1;32m    809\u001b[0m                     \u001b[0;32mreturn\u001b[0m \u001b[0;32mFalse\u001b[0m\u001b[0;34m\u001b[0m\u001b[0;34m\u001b[0m\u001b[0m\n",
      "\u001b[0;32m~/.local/lib/python3.7/site-packages/sklearn/model_selection/_validation.py\u001b[0m in \u001b[0;36m<genexpr>\u001b[0;34m(.0)\u001b[0m\n\u001b[1;32m    225\u001b[0m                         pre_dispatch=pre_dispatch)\n\u001b[1;32m    226\u001b[0m     scores = parallel(\n\u001b[0;32m--> 227\u001b[0;31m         delayed(_fit_and_score)(\n\u001b[0m\u001b[1;32m    228\u001b[0m             \u001b[0mclone\u001b[0m\u001b[0;34m(\u001b[0m\u001b[0mestimator\u001b[0m\u001b[0;34m)\u001b[0m\u001b[0;34m,\u001b[0m \u001b[0mX\u001b[0m\u001b[0;34m,\u001b[0m \u001b[0my\u001b[0m\u001b[0;34m,\u001b[0m \u001b[0mscorers\u001b[0m\u001b[0;34m,\u001b[0m \u001b[0mtrain\u001b[0m\u001b[0;34m,\u001b[0m \u001b[0mtest\u001b[0m\u001b[0;34m,\u001b[0m \u001b[0mverbose\u001b[0m\u001b[0;34m,\u001b[0m \u001b[0;32mNone\u001b[0m\u001b[0;34m,\u001b[0m\u001b[0;34m\u001b[0m\u001b[0;34m\u001b[0m\u001b[0m\n\u001b[1;32m    229\u001b[0m             \u001b[0mfit_params\u001b[0m\u001b[0;34m,\u001b[0m \u001b[0mreturn_train_score\u001b[0m\u001b[0;34m=\u001b[0m\u001b[0mreturn_train_score\u001b[0m\u001b[0;34m,\u001b[0m\u001b[0;34m\u001b[0m\u001b[0;34m\u001b[0m\u001b[0m\n",
      "\u001b[0;32m~/.local/lib/python3.7/site-packages/sklearn/model_selection/_split.py\u001b[0m in \u001b[0;36msplit\u001b[0;34m(self, X, y, groups)\u001b[0m\n\u001b[1;32m    333\u001b[0m                 .format(self.n_splits, n_samples))\n\u001b[1;32m    334\u001b[0m \u001b[0;34m\u001b[0m\u001b[0m\n\u001b[0;32m--> 335\u001b[0;31m         \u001b[0;32mfor\u001b[0m \u001b[0mtrain\u001b[0m\u001b[0;34m,\u001b[0m \u001b[0mtest\u001b[0m \u001b[0;32min\u001b[0m \u001b[0msuper\u001b[0m\u001b[0;34m(\u001b[0m\u001b[0;34m)\u001b[0m\u001b[0;34m.\u001b[0m\u001b[0msplit\u001b[0m\u001b[0;34m(\u001b[0m\u001b[0mX\u001b[0m\u001b[0;34m,\u001b[0m \u001b[0my\u001b[0m\u001b[0;34m,\u001b[0m \u001b[0mgroups\u001b[0m\u001b[0;34m)\u001b[0m\u001b[0;34m:\u001b[0m\u001b[0;34m\u001b[0m\u001b[0;34m\u001b[0m\u001b[0m\n\u001b[0m\u001b[1;32m    336\u001b[0m             \u001b[0;32myield\u001b[0m \u001b[0mtrain\u001b[0m\u001b[0;34m,\u001b[0m \u001b[0mtest\u001b[0m\u001b[0;34m\u001b[0m\u001b[0;34m\u001b[0m\u001b[0m\n\u001b[1;32m    337\u001b[0m \u001b[0;34m\u001b[0m\u001b[0m\n",
      "\u001b[0;32m~/.local/lib/python3.7/site-packages/sklearn/model_selection/_split.py\u001b[0m in \u001b[0;36msplit\u001b[0;34m(self, X, y, groups)\u001b[0m\n\u001b[1;32m     87\u001b[0m         \u001b[0mX\u001b[0m\u001b[0;34m,\u001b[0m \u001b[0my\u001b[0m\u001b[0;34m,\u001b[0m \u001b[0mgroups\u001b[0m \u001b[0;34m=\u001b[0m \u001b[0mindexable\u001b[0m\u001b[0;34m(\u001b[0m\u001b[0mX\u001b[0m\u001b[0;34m,\u001b[0m \u001b[0my\u001b[0m\u001b[0;34m,\u001b[0m \u001b[0mgroups\u001b[0m\u001b[0;34m)\u001b[0m\u001b[0;34m\u001b[0m\u001b[0;34m\u001b[0m\u001b[0m\n\u001b[1;32m     88\u001b[0m         \u001b[0mindices\u001b[0m \u001b[0;34m=\u001b[0m \u001b[0mnp\u001b[0m\u001b[0;34m.\u001b[0m\u001b[0marange\u001b[0m\u001b[0;34m(\u001b[0m\u001b[0m_num_samples\u001b[0m\u001b[0;34m(\u001b[0m\u001b[0mX\u001b[0m\u001b[0;34m)\u001b[0m\u001b[0;34m)\u001b[0m\u001b[0;34m\u001b[0m\u001b[0;34m\u001b[0m\u001b[0m\n\u001b[0;32m---> 89\u001b[0;31m         \u001b[0;32mfor\u001b[0m \u001b[0mtest_index\u001b[0m \u001b[0;32min\u001b[0m \u001b[0mself\u001b[0m\u001b[0;34m.\u001b[0m\u001b[0m_iter_test_masks\u001b[0m\u001b[0;34m(\u001b[0m\u001b[0mX\u001b[0m\u001b[0;34m,\u001b[0m \u001b[0my\u001b[0m\u001b[0;34m,\u001b[0m \u001b[0mgroups\u001b[0m\u001b[0;34m)\u001b[0m\u001b[0;34m:\u001b[0m\u001b[0;34m\u001b[0m\u001b[0;34m\u001b[0m\u001b[0m\n\u001b[0m\u001b[1;32m     90\u001b[0m             \u001b[0mtrain_index\u001b[0m \u001b[0;34m=\u001b[0m \u001b[0mindices\u001b[0m\u001b[0;34m[\u001b[0m\u001b[0mnp\u001b[0m\u001b[0;34m.\u001b[0m\u001b[0mlogical_not\u001b[0m\u001b[0;34m(\u001b[0m\u001b[0mtest_index\u001b[0m\u001b[0;34m)\u001b[0m\u001b[0;34m]\u001b[0m\u001b[0;34m\u001b[0m\u001b[0;34m\u001b[0m\u001b[0m\n\u001b[1;32m     91\u001b[0m             \u001b[0mtest_index\u001b[0m \u001b[0;34m=\u001b[0m \u001b[0mindices\u001b[0m\u001b[0;34m[\u001b[0m\u001b[0mtest_index\u001b[0m\u001b[0;34m]\u001b[0m\u001b[0;34m\u001b[0m\u001b[0;34m\u001b[0m\u001b[0m\n",
      "\u001b[0;32m~/.local/lib/python3.7/site-packages/sklearn/model_selection/_split.py\u001b[0m in \u001b[0;36m_iter_test_masks\u001b[0;34m(self, X, y, groups)\u001b[0m\n\u001b[1;32m    684\u001b[0m \u001b[0;34m\u001b[0m\u001b[0m\n\u001b[1;32m    685\u001b[0m     \u001b[0;32mdef\u001b[0m \u001b[0m_iter_test_masks\u001b[0m\u001b[0;34m(\u001b[0m\u001b[0mself\u001b[0m\u001b[0;34m,\u001b[0m \u001b[0mX\u001b[0m\u001b[0;34m,\u001b[0m \u001b[0my\u001b[0m\u001b[0;34m=\u001b[0m\u001b[0;32mNone\u001b[0m\u001b[0;34m,\u001b[0m \u001b[0mgroups\u001b[0m\u001b[0;34m=\u001b[0m\u001b[0;32mNone\u001b[0m\u001b[0;34m)\u001b[0m\u001b[0;34m:\u001b[0m\u001b[0;34m\u001b[0m\u001b[0;34m\u001b[0m\u001b[0m\n\u001b[0;32m--> 686\u001b[0;31m         \u001b[0mtest_folds\u001b[0m \u001b[0;34m=\u001b[0m \u001b[0mself\u001b[0m\u001b[0;34m.\u001b[0m\u001b[0m_make_test_folds\u001b[0m\u001b[0;34m(\u001b[0m\u001b[0mX\u001b[0m\u001b[0;34m,\u001b[0m \u001b[0my\u001b[0m\u001b[0;34m)\u001b[0m\u001b[0;34m\u001b[0m\u001b[0;34m\u001b[0m\u001b[0m\n\u001b[0m\u001b[1;32m    687\u001b[0m         \u001b[0;32mfor\u001b[0m \u001b[0mi\u001b[0m \u001b[0;32min\u001b[0m \u001b[0mrange\u001b[0m\u001b[0;34m(\u001b[0m\u001b[0mself\u001b[0m\u001b[0;34m.\u001b[0m\u001b[0mn_splits\u001b[0m\u001b[0;34m)\u001b[0m\u001b[0;34m:\u001b[0m\u001b[0;34m\u001b[0m\u001b[0;34m\u001b[0m\u001b[0m\n\u001b[1;32m    688\u001b[0m             \u001b[0;32myield\u001b[0m \u001b[0mtest_folds\u001b[0m \u001b[0;34m==\u001b[0m \u001b[0mi\u001b[0m\u001b[0;34m\u001b[0m\u001b[0;34m\u001b[0m\u001b[0m\n",
      "\u001b[0;32m~/.local/lib/python3.7/site-packages/sklearn/model_selection/_split.py\u001b[0m in \u001b[0;36m_make_test_folds\u001b[0;34m(self, X, y)\u001b[0m\n\u001b[1;32m    639\u001b[0m             raise ValueError(\n\u001b[1;32m    640\u001b[0m                 'Supported target types are: {}. Got {!r} instead.'.format(\n\u001b[0;32m--> 641\u001b[0;31m                     allowed_target_types, type_of_target_y))\n\u001b[0m\u001b[1;32m    642\u001b[0m \u001b[0;34m\u001b[0m\u001b[0m\n\u001b[1;32m    643\u001b[0m         \u001b[0my\u001b[0m \u001b[0;34m=\u001b[0m \u001b[0mcolumn_or_1d\u001b[0m\u001b[0;34m(\u001b[0m\u001b[0my\u001b[0m\u001b[0;34m)\u001b[0m\u001b[0;34m\u001b[0m\u001b[0;34m\u001b[0m\u001b[0m\n",
      "\u001b[0;31mValueError\u001b[0m: Supported target types are: ('binary', 'multiclass'). Got 'multilabel-indicator' instead."
     ]
    }
   ],
   "source": [
    "score_lin = cross_val_score(SVC_lin, X_train, y_train, cv=skfold)\n",
    "score_rbf = cross_val_score(SVC_rbf, X_train, y_train, cv=skfold)"
   ]
  },
  {
   "cell_type": "code",
   "execution_count": null,
   "metadata": {},
   "outputs": [],
   "source": [
    "score_all = pd.DataFrame({'SVC_linear':score_lin, 'SVC_rbf': score_rbf })\n",
    "score_all.plot()"
   ]
  },
  {
   "cell_type": "code",
   "execution_count": null,
   "metadata": {},
   "outputs": [],
   "source": [
    "lin_pred = SVC_lin.fit(X_train, y_train).predict(X_test)"
   ]
  },
  {
   "cell_type": "code",
   "execution_count": null,
   "metadata": {},
   "outputs": [],
   "source": [
    "rbf_pred = SVC_rbf.fit(X_train, y_train).predict(X_test)"
   ]
  },
  {
   "cell_type": "code",
   "execution_count": null,
   "metadata": {},
   "outputs": [],
   "source": [
    "classification_report(y_test, lin_pred)"
   ]
  },
  {
   "cell_type": "code",
   "execution_count": null,
   "metadata": {},
   "outputs": [],
   "source": [
    "classification_report(y_test, rbf_pred)"
   ]
  },
  {
   "cell_type": "code",
   "execution_count": null,
   "metadata": {},
   "outputs": [],
   "source": [
    "confusion_matrix(y_test, lin_pred)"
   ]
  },
  {
   "cell_type": "code",
   "execution_count": null,
   "metadata": {},
   "outputs": [],
   "source": [
    "confusion_matrix(y_test, rbf_pred)"
   ]
  },
  {
   "cell_type": "markdown",
   "metadata": {},
   "source": [
    "# CNN"
   ]
  },
  {
   "cell_type": "code",
   "execution_count": null,
   "metadata": {},
   "outputs": [],
   "source": [
    "mlp = MLPClassifier(hidden_layer_sizes=(30,30,30), max_iter=500, solver='sgd')"
   ]
  },
  {
   "cell_type": "code",
   "execution_count": null,
   "metadata": {},
   "outputs": [],
   "source": [
    "\n",
    "\n",
    "model = Sequential()\n",
    "\n",
    "model.add(Conv2D(CNN_L1, kernel_size=Ker_size, activation=Act_func, input_shape=Input_shape,padding='same'))\n",
    "model.add(MaxPooling2D(pool_size=P_size))\n",
    "model.add(Dropout(0.2))\n",
    "\n",
    "model.add(Conv2D(CNN_L,n kernel_size=Ker_size, activation=Act_func,input_shape=Input_shape,padding='same'))\n",
    "model.add(MaxPooling2D(pool_size=P_size))\n",
    "model.add(Dropout(0.2))\n",
    "\n",
    "model.add(Flatten())\n",
    "model.add(Dense(Dense_size , activation= Act_func ))\n",
    "model.add(Dense(#output_class, activation='sigmoid'))\n",
    "model.compile(loss='categorical_crossentropy',\n",
    "optimizer=optimizers.Adam(lr=0.001, beta_1=0.9, beta_2=0.999,\n",
    "amsgrad=False), metrics=['accuracy'])"
   ]
  },
  {
   "cell_type": "code",
   "execution_count": null,
   "metadata": {},
   "outputs": [],
   "source": [
    "mlp.fit(X_train, y_train)"
   ]
  },
  {
   "cell_type": "code",
   "execution_count": null,
   "metadata": {},
   "outputs": [],
   "source": [
    "mlp_pred = mlp.predict(X_test)"
   ]
  },
  {
   "cell_type": "code",
   "execution_count": null,
   "metadata": {},
   "outputs": [],
   "source": [
    "model.summary()\n",
    "history = model.fit(X_train,y_train, epochs=#Ep,batch_size=#Bs, validation_data=(X_test,y_test), verbose=1)"
   ]
  },
  {
   "cell_type": "code",
   "execution_count": null,
   "metadata": {},
   "outputs": [],
   "source": [
    "cnn_pred = model.predict(X_test)\n",
    "cnn_pred_single = [np.argmax(p) for p in cnn_pred]\n",
    "y_test_single = [np.argmax(p) for p in y_test]"
   ]
  },
  {
   "cell_type": "code",
   "execution_count": null,
   "metadata": {},
   "outputs": [],
   "source": [
    "classification_report(y_test, mlp_pred)"
   ]
  },
  {
   "cell_type": "code",
   "execution_count": null,
   "metadata": {},
   "outputs": [],
   "source": [
    "classification_report(y_test_single, cnn_pred_single)"
   ]
  },
  {
   "cell_type": "code",
   "execution_count": null,
   "metadata": {},
   "outputs": [],
   "source": [
    "confusion_matrix(y_test, mlp_pred)"
   ]
  },
  {
   "cell_type": "code",
   "execution_count": null,
   "metadata": {},
   "outputs": [],
   "source": [
    "confusion_matrix(y_test_single, cnn_pred_single)"
   ]
  },
  {
   "cell_type": "markdown",
   "metadata": {},
   "source": [
    "# Tune Paraameter"
   ]
  },
  {
   "cell_type": "code",
   "execution_count": null,
   "metadata": {},
   "outputs": [],
   "source": []
  }
 ],
 "metadata": {
  "kernelspec": {
   "display_name": "Python 3",
   "language": "python",
   "name": "python3"
  },
  "language_info": {
   "codemirror_mode": {
    "name": "ipython",
    "version": 3
   },
   "file_extension": ".py",
   "mimetype": "text/x-python",
   "name": "python",
   "nbconvert_exporter": "python",
   "pygments_lexer": "ipython3",
   "version": "3.7.4"
  }
 },
 "nbformat": 4,
 "nbformat_minor": 4
}
