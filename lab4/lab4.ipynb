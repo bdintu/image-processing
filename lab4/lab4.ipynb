{
 "cells": [
  {
   "cell_type": "code",
   "execution_count": 1,
   "metadata": {},
   "outputs": [
    {
     "name": "stderr",
     "output_type": "stream",
     "text": [
      "Using TensorFlow backend.\n"
     ]
    }
   ],
   "source": [
    "import numpy as np\n",
    "import pandas as pd\n",
    "import matplotlib.pyplot as plt\n",
    "\n",
    "from sklearn.model_selection import train_test_split, cross_val_score, StratifiedKFold, GridSearchCV\n",
    "from sklearn.preprocessing import LabelEncoder\n",
    "from sklearn.metrics import classification_report, confusion_matrix\n",
    "from sklearn.svm import SVC\n",
    "from sklearn.neural_network import MLPClassifier\n",
    "\n",
    "from keras.models import Sequential\n",
    "from keras.layers import Conv2D, MaxPooling2D, Flatten, Dense, Dropout\n",
    "from keras import optimizers\n",
    "\n",
    "%matplotlib notebook"
   ]
  },
  {
   "cell_type": "markdown",
   "metadata": {},
   "source": [
    "# Preprocessing Data"
   ]
  },
  {
   "cell_type": "code",
   "execution_count": 2,
   "metadata": {},
   "outputs": [
    {
     "data": {
      "text/html": [
       "<div>\n",
       "<style scoped>\n",
       "    .dataframe tbody tr th:only-of-type {\n",
       "        vertical-align: middle;\n",
       "    }\n",
       "\n",
       "    .dataframe tbody tr th {\n",
       "        vertical-align: top;\n",
       "    }\n",
       "\n",
       "    .dataframe thead th {\n",
       "        text-align: right;\n",
       "    }\n",
       "</style>\n",
       "<table border=\"1\" class=\"dataframe\">\n",
       "  <thead>\n",
       "    <tr style=\"text-align: right;\">\n",
       "      <th></th>\n",
       "      <th>nose_x</th>\n",
       "      <th>nose_y</th>\n",
       "      <th>neck_x</th>\n",
       "      <th>neck_y</th>\n",
       "      <th>Rshoulder_x</th>\n",
       "      <th>Rshoulder_y</th>\n",
       "      <th>Relbow_x</th>\n",
       "      <th>Relbow_y</th>\n",
       "      <th>Rwrist_x</th>\n",
       "      <th>RWrist_y</th>\n",
       "      <th>...</th>\n",
       "      <th>LAnkle_y</th>\n",
       "      <th>REye_x</th>\n",
       "      <th>REye_y</th>\n",
       "      <th>LEye_x</th>\n",
       "      <th>LEye_y</th>\n",
       "      <th>REar_x</th>\n",
       "      <th>REar_y</th>\n",
       "      <th>LEar_x</th>\n",
       "      <th>LEar_y</th>\n",
       "      <th>class</th>\n",
       "    </tr>\n",
       "  </thead>\n",
       "  <tbody>\n",
       "    <tr>\n",
       "      <th>0</th>\n",
       "      <td>0.643519</td>\n",
       "      <td>0.157609</td>\n",
       "      <td>0.634259</td>\n",
       "      <td>0.250000</td>\n",
       "      <td>0.587963</td>\n",
       "      <td>0.244565</td>\n",
       "      <td>0.555556</td>\n",
       "      <td>0.342391</td>\n",
       "      <td>0.550926</td>\n",
       "      <td>0.434783</td>\n",
       "      <td>...</td>\n",
       "      <td>0.755435</td>\n",
       "      <td>0.629630</td>\n",
       "      <td>0.146739</td>\n",
       "      <td>0.652778</td>\n",
       "      <td>0.146739</td>\n",
       "      <td>0.615741</td>\n",
       "      <td>0.157609</td>\n",
       "      <td>0.666667</td>\n",
       "      <td>0.152174</td>\n",
       "      <td>kick</td>\n",
       "    </tr>\n",
       "    <tr>\n",
       "      <th>1</th>\n",
       "      <td>0.643519</td>\n",
       "      <td>0.157609</td>\n",
       "      <td>0.634259</td>\n",
       "      <td>0.250000</td>\n",
       "      <td>0.587963</td>\n",
       "      <td>0.244565</td>\n",
       "      <td>0.560185</td>\n",
       "      <td>0.342391</td>\n",
       "      <td>0.555556</td>\n",
       "      <td>0.429348</td>\n",
       "      <td>...</td>\n",
       "      <td>0.766304</td>\n",
       "      <td>0.629630</td>\n",
       "      <td>0.146739</td>\n",
       "      <td>0.652778</td>\n",
       "      <td>0.146739</td>\n",
       "      <td>0.615741</td>\n",
       "      <td>0.157609</td>\n",
       "      <td>0.666667</td>\n",
       "      <td>0.152174</td>\n",
       "      <td>kick</td>\n",
       "    </tr>\n",
       "    <tr>\n",
       "      <th>2</th>\n",
       "      <td>0.643519</td>\n",
       "      <td>0.157609</td>\n",
       "      <td>0.638889</td>\n",
       "      <td>0.250000</td>\n",
       "      <td>0.587963</td>\n",
       "      <td>0.244565</td>\n",
       "      <td>0.560185</td>\n",
       "      <td>0.342391</td>\n",
       "      <td>0.555556</td>\n",
       "      <td>0.429348</td>\n",
       "      <td>...</td>\n",
       "      <td>0.760870</td>\n",
       "      <td>0.634259</td>\n",
       "      <td>0.146739</td>\n",
       "      <td>0.652778</td>\n",
       "      <td>0.146739</td>\n",
       "      <td>0.615741</td>\n",
       "      <td>0.157609</td>\n",
       "      <td>0.671296</td>\n",
       "      <td>0.152174</td>\n",
       "      <td>kick</td>\n",
       "    </tr>\n",
       "    <tr>\n",
       "      <th>3</th>\n",
       "      <td>0.643519</td>\n",
       "      <td>0.157609</td>\n",
       "      <td>0.638889</td>\n",
       "      <td>0.250000</td>\n",
       "      <td>0.587963</td>\n",
       "      <td>0.244565</td>\n",
       "      <td>0.560185</td>\n",
       "      <td>0.342391</td>\n",
       "      <td>0.555556</td>\n",
       "      <td>0.429348</td>\n",
       "      <td>...</td>\n",
       "      <td>0.755435</td>\n",
       "      <td>0.629630</td>\n",
       "      <td>0.146739</td>\n",
       "      <td>0.652778</td>\n",
       "      <td>0.146739</td>\n",
       "      <td>0.615741</td>\n",
       "      <td>0.157609</td>\n",
       "      <td>0.666667</td>\n",
       "      <td>0.152174</td>\n",
       "      <td>kick</td>\n",
       "    </tr>\n",
       "    <tr>\n",
       "      <th>4</th>\n",
       "      <td>0.643519</td>\n",
       "      <td>0.157609</td>\n",
       "      <td>0.638889</td>\n",
       "      <td>0.250000</td>\n",
       "      <td>0.587963</td>\n",
       "      <td>0.244565</td>\n",
       "      <td>0.560185</td>\n",
       "      <td>0.342391</td>\n",
       "      <td>0.555556</td>\n",
       "      <td>0.429348</td>\n",
       "      <td>...</td>\n",
       "      <td>0.760870</td>\n",
       "      <td>0.629630</td>\n",
       "      <td>0.146739</td>\n",
       "      <td>0.652778</td>\n",
       "      <td>0.146739</td>\n",
       "      <td>0.615741</td>\n",
       "      <td>0.157609</td>\n",
       "      <td>0.666667</td>\n",
       "      <td>0.152174</td>\n",
       "      <td>kick</td>\n",
       "    </tr>\n",
       "    <tr>\n",
       "      <th>...</th>\n",
       "      <td>...</td>\n",
       "      <td>...</td>\n",
       "      <td>...</td>\n",
       "      <td>...</td>\n",
       "      <td>...</td>\n",
       "      <td>...</td>\n",
       "      <td>...</td>\n",
       "      <td>...</td>\n",
       "      <td>...</td>\n",
       "      <td>...</td>\n",
       "      <td>...</td>\n",
       "      <td>...</td>\n",
       "      <td>...</td>\n",
       "      <td>...</td>\n",
       "      <td>...</td>\n",
       "      <td>...</td>\n",
       "      <td>...</td>\n",
       "      <td>...</td>\n",
       "      <td>...</td>\n",
       "      <td>...</td>\n",
       "      <td>...</td>\n",
       "    </tr>\n",
       "    <tr>\n",
       "      <th>3219</th>\n",
       "      <td>0.587963</td>\n",
       "      <td>0.152174</td>\n",
       "      <td>0.587963</td>\n",
       "      <td>0.233696</td>\n",
       "      <td>0.541667</td>\n",
       "      <td>0.217391</td>\n",
       "      <td>0.500000</td>\n",
       "      <td>0.163043</td>\n",
       "      <td>0.486111</td>\n",
       "      <td>0.092391</td>\n",
       "      <td>...</td>\n",
       "      <td>0.755435</td>\n",
       "      <td>0.578704</td>\n",
       "      <td>0.141304</td>\n",
       "      <td>0.597222</td>\n",
       "      <td>0.141304</td>\n",
       "      <td>0.564815</td>\n",
       "      <td>0.152174</td>\n",
       "      <td>0.620370</td>\n",
       "      <td>0.146739</td>\n",
       "      <td>wave</td>\n",
       "    </tr>\n",
       "    <tr>\n",
       "      <th>3220</th>\n",
       "      <td>0.583333</td>\n",
       "      <td>0.157609</td>\n",
       "      <td>0.587963</td>\n",
       "      <td>0.233696</td>\n",
       "      <td>0.541667</td>\n",
       "      <td>0.222826</td>\n",
       "      <td>0.490741</td>\n",
       "      <td>0.179348</td>\n",
       "      <td>0.458333</td>\n",
       "      <td>0.114130</td>\n",
       "      <td>...</td>\n",
       "      <td>0.755435</td>\n",
       "      <td>0.574074</td>\n",
       "      <td>0.141304</td>\n",
       "      <td>0.597222</td>\n",
       "      <td>0.141304</td>\n",
       "      <td>0.564815</td>\n",
       "      <td>0.152174</td>\n",
       "      <td>0.615741</td>\n",
       "      <td>0.146739</td>\n",
       "      <td>wave</td>\n",
       "    </tr>\n",
       "    <tr>\n",
       "      <th>3221</th>\n",
       "      <td>0.583333</td>\n",
       "      <td>0.157609</td>\n",
       "      <td>0.587963</td>\n",
       "      <td>0.228261</td>\n",
       "      <td>0.537037</td>\n",
       "      <td>0.222826</td>\n",
       "      <td>0.481481</td>\n",
       "      <td>0.179348</td>\n",
       "      <td>0.439815</td>\n",
       "      <td>0.108696</td>\n",
       "      <td>...</td>\n",
       "      <td>0.755435</td>\n",
       "      <td>0.574074</td>\n",
       "      <td>0.141304</td>\n",
       "      <td>0.000000</td>\n",
       "      <td>0.000000</td>\n",
       "      <td>0.560185</td>\n",
       "      <td>0.146739</td>\n",
       "      <td>0.615741</td>\n",
       "      <td>0.146739</td>\n",
       "      <td>wave</td>\n",
       "    </tr>\n",
       "    <tr>\n",
       "      <th>3222</th>\n",
       "      <td>0.578704</td>\n",
       "      <td>0.157609</td>\n",
       "      <td>0.583333</td>\n",
       "      <td>0.228261</td>\n",
       "      <td>0.532407</td>\n",
       "      <td>0.222826</td>\n",
       "      <td>0.476852</td>\n",
       "      <td>0.184783</td>\n",
       "      <td>0.421296</td>\n",
       "      <td>0.125000</td>\n",
       "      <td>...</td>\n",
       "      <td>0.755435</td>\n",
       "      <td>0.569444</td>\n",
       "      <td>0.146739</td>\n",
       "      <td>0.592593</td>\n",
       "      <td>0.141304</td>\n",
       "      <td>0.560185</td>\n",
       "      <td>0.152174</td>\n",
       "      <td>0.611111</td>\n",
       "      <td>0.146739</td>\n",
       "      <td>wave</td>\n",
       "    </tr>\n",
       "    <tr>\n",
       "      <th>3223</th>\n",
       "      <td>0.574074</td>\n",
       "      <td>0.157609</td>\n",
       "      <td>0.583333</td>\n",
       "      <td>0.228261</td>\n",
       "      <td>0.532407</td>\n",
       "      <td>0.222826</td>\n",
       "      <td>0.476852</td>\n",
       "      <td>0.190217</td>\n",
       "      <td>0.412037</td>\n",
       "      <td>0.130435</td>\n",
       "      <td>...</td>\n",
       "      <td>0.750000</td>\n",
       "      <td>0.564815</td>\n",
       "      <td>0.146739</td>\n",
       "      <td>0.583333</td>\n",
       "      <td>0.141304</td>\n",
       "      <td>0.555556</td>\n",
       "      <td>0.152174</td>\n",
       "      <td>0.606481</td>\n",
       "      <td>0.146739</td>\n",
       "      <td>wave</td>\n",
       "    </tr>\n",
       "  </tbody>\n",
       "</table>\n",
       "<p>3224 rows × 37 columns</p>\n",
       "</div>"
      ],
      "text/plain": [
       "        nose_x    nose_y    neck_x    neck_y  Rshoulder_x  Rshoulder_y  \\\n",
       "0     0.643519  0.157609  0.634259  0.250000     0.587963     0.244565   \n",
       "1     0.643519  0.157609  0.634259  0.250000     0.587963     0.244565   \n",
       "2     0.643519  0.157609  0.638889  0.250000     0.587963     0.244565   \n",
       "3     0.643519  0.157609  0.638889  0.250000     0.587963     0.244565   \n",
       "4     0.643519  0.157609  0.638889  0.250000     0.587963     0.244565   \n",
       "...        ...       ...       ...       ...          ...          ...   \n",
       "3219  0.587963  0.152174  0.587963  0.233696     0.541667     0.217391   \n",
       "3220  0.583333  0.157609  0.587963  0.233696     0.541667     0.222826   \n",
       "3221  0.583333  0.157609  0.587963  0.228261     0.537037     0.222826   \n",
       "3222  0.578704  0.157609  0.583333  0.228261     0.532407     0.222826   \n",
       "3223  0.574074  0.157609  0.583333  0.228261     0.532407     0.222826   \n",
       "\n",
       "      Relbow_x  Relbow_y  Rwrist_x  RWrist_y  ...  LAnkle_y    REye_x  \\\n",
       "0     0.555556  0.342391  0.550926  0.434783  ...  0.755435  0.629630   \n",
       "1     0.560185  0.342391  0.555556  0.429348  ...  0.766304  0.629630   \n",
       "2     0.560185  0.342391  0.555556  0.429348  ...  0.760870  0.634259   \n",
       "3     0.560185  0.342391  0.555556  0.429348  ...  0.755435  0.629630   \n",
       "4     0.560185  0.342391  0.555556  0.429348  ...  0.760870  0.629630   \n",
       "...        ...       ...       ...       ...  ...       ...       ...   \n",
       "3219  0.500000  0.163043  0.486111  0.092391  ...  0.755435  0.578704   \n",
       "3220  0.490741  0.179348  0.458333  0.114130  ...  0.755435  0.574074   \n",
       "3221  0.481481  0.179348  0.439815  0.108696  ...  0.755435  0.574074   \n",
       "3222  0.476852  0.184783  0.421296  0.125000  ...  0.755435  0.569444   \n",
       "3223  0.476852  0.190217  0.412037  0.130435  ...  0.750000  0.564815   \n",
       "\n",
       "        REye_y    LEye_x    LEye_y    REar_x    REar_y    LEar_x    LEar_y  \\\n",
       "0     0.146739  0.652778  0.146739  0.615741  0.157609  0.666667  0.152174   \n",
       "1     0.146739  0.652778  0.146739  0.615741  0.157609  0.666667  0.152174   \n",
       "2     0.146739  0.652778  0.146739  0.615741  0.157609  0.671296  0.152174   \n",
       "3     0.146739  0.652778  0.146739  0.615741  0.157609  0.666667  0.152174   \n",
       "4     0.146739  0.652778  0.146739  0.615741  0.157609  0.666667  0.152174   \n",
       "...        ...       ...       ...       ...       ...       ...       ...   \n",
       "3219  0.141304  0.597222  0.141304  0.564815  0.152174  0.620370  0.146739   \n",
       "3220  0.141304  0.597222  0.141304  0.564815  0.152174  0.615741  0.146739   \n",
       "3221  0.141304  0.000000  0.000000  0.560185  0.146739  0.615741  0.146739   \n",
       "3222  0.146739  0.592593  0.141304  0.560185  0.152174  0.611111  0.146739   \n",
       "3223  0.146739  0.583333  0.141304  0.555556  0.152174  0.606481  0.146739   \n",
       "\n",
       "      class  \n",
       "0      kick  \n",
       "1      kick  \n",
       "2      kick  \n",
       "3      kick  \n",
       "4      kick  \n",
       "...     ...  \n",
       "3219   wave  \n",
       "3220   wave  \n",
       "3221   wave  \n",
       "3222   wave  \n",
       "3223   wave  \n",
       "\n",
       "[3224 rows x 37 columns]"
      ]
     },
     "execution_count": 2,
     "metadata": {},
     "output_type": "execute_result"
    }
   ],
   "source": [
    "df = pd.read_csv('data/skeleton_filtered.csv')\n",
    "\n",
    "df"
   ]
  },
  {
   "cell_type": "code",
   "execution_count": 3,
   "metadata": {},
   "outputs": [
    {
     "data": {
      "text/plain": [
       "(['kick', 'stand', 'wave'], 3)"
      ]
     },
     "execution_count": 3,
     "metadata": {},
     "output_type": "execute_result"
    }
   ],
   "source": [
    "# activity = df['class'].drop_duplicates().to_list()\n",
    "activity = ['kick', 'stand', 'wave']\n",
    "num_classes = len(activity)\n",
    "\n",
    "activity, num_classes"
   ]
  },
  {
   "cell_type": "code",
   "execution_count": 4,
   "metadata": {},
   "outputs": [],
   "source": [
    "df = df[df['class'].isin(activity)]"
   ]
  },
  {
   "cell_type": "code",
   "execution_count": 5,
   "metadata": {},
   "outputs": [
    {
     "data": {
      "text/plain": [
       "array([['kick', 525],\n",
       "       ['stand', 861],\n",
       "       ['wave', 829]], dtype=object)"
      ]
     },
     "execution_count": 5,
     "metadata": {},
     "output_type": "execute_result"
    }
   ],
   "source": [
    "unique, counts = np.unique(df['class'], return_counts=True)\n",
    "itemfreq = np.vstack((unique, counts)).T\n",
    "\n",
    "itemfreq"
   ]
  },
  {
   "cell_type": "code",
   "execution_count": 6,
   "metadata": {},
   "outputs": [
    {
     "data": {
      "text/plain": [
       "(2215, 36)"
      ]
     },
     "execution_count": 6,
     "metadata": {},
     "output_type": "execute_result"
    }
   ],
   "source": [
    "X_2d = df.iloc[:,:-1].to_numpy()\n",
    "X_2d.shape"
   ]
  },
  {
   "cell_type": "code",
   "execution_count": 7,
   "metadata": {},
   "outputs": [
    {
     "data": {
      "text/plain": [
       "(2215,)"
      ]
     },
     "execution_count": 7,
     "metadata": {},
     "output_type": "execute_result"
    }
   ],
   "source": [
    "y_2d = df['class'].to_numpy()\n",
    "\n",
    "y_2d.shape"
   ]
  },
  {
   "cell_type": "code",
   "execution_count": 8,
   "metadata": {},
   "outputs": [],
   "source": [
    "label_2d = LabelEncoder().fit_transform(y_2d)"
   ]
  },
  {
   "cell_type": "code",
   "execution_count": 9,
   "metadata": {},
   "outputs": [
    {
     "data": {
      "text/plain": [
       "((886, 36), (886, 36), (443, 36), (886,), (886,), (443,))"
      ]
     },
     "execution_count": 9,
     "metadata": {},
     "output_type": "execute_result"
    }
   ],
   "source": [
    "train_size = 0.8\n",
    "test_size = 0.2\n",
    "random_state = 0\n",
    "X_2d_train_temp, X_2d_test, y_2d_train_temp, y_2d_test = train_test_split(X_2d, label_2d, train_size=train_size, test_size=test_size, random_state=random_state, stratify=label_2d)\n",
    "\n",
    "train_size_temp = 0.5\n",
    "validate_size = 0.5\n",
    "X_2d_train, X_2d_validate, y_2d_train, y_2d_validate = train_test_split(X_2d_train_temp, y_2d_train_temp, train_size=train_size_temp, test_size=validate_size, random_state=random_state, stratify=y_2d_train_temp)\n",
    "\n",
    "X_2d_train.shape, X_2d_validate.shape, X_2d_test.shape, y_2d_train.shape, y_2d_validate.shape, y_2d_test.shape"
   ]
  },
  {
   "cell_type": "code",
   "execution_count": 10,
   "metadata": {},
   "outputs": [],
   "source": [
    "def process_create_WindowTimeSeries(activity, df, activity_start, activity_len, time_window, n_feature, step_stride):\n",
    "    df_series = df[df['class'] == activity].iloc[:,:-1][activity_start:(activity_start+activity_len)]\n",
    "    segments = []\n",
    "    labels = []\n",
    "\n",
    "    for i in range(0, df_series.shape[0] - time_window, step_stride):\n",
    "        df_series_feature = df_series.iloc[i: i + time_window]\n",
    "        segments.append(df_series_feature.to_numpy())\n",
    "\n",
    "    segments = np.asarray(segments)\n",
    "    reshaped_segments = np.asarray(segments, dtype= np.float32).reshape(-1, time_window, n_feature, 1)\n",
    "\n",
    "    labels = np.repeat(activity, reshaped_segments.shape[0])\n",
    "\n",
    "    return reshaped_segments, labels"
   ]
  },
  {
   "cell_type": "code",
   "execution_count": 11,
   "metadata": {},
   "outputs": [
    {
     "data": {
      "text/plain": [
       "((2316, 100, 3, 1), (2316,))"
      ]
     },
     "execution_count": 11,
     "metadata": {},
     "output_type": "execute_result"
    }
   ],
   "source": [
    "activity_start = 0\n",
    "activity_len = df.shape[0]\n",
    "time_window = 100\n",
    "n_feature = num_classes\n",
    "step_stride = 10\n",
    "\n",
    "X_3d = []\n",
    "y_3d = []\n",
    "\n",
    "for i in activity:\n",
    "    reshaped_segments, labels = process_create_WindowTimeSeries(i, df, activity_start, activity_len, time_window, n_feature, step_stride)\n",
    "    X_3d.append(reshaped_segments)\n",
    "    y_3d.append(labels)\n",
    "    \n",
    "X_3d = np.concatenate(X_3d)\n",
    "y_3d = np.concatenate(y_3d)\n",
    "\n",
    "X_3d.shape, y_3d.shape"
   ]
  },
  {
   "cell_type": "code",
   "execution_count": 12,
   "metadata": {},
   "outputs": [],
   "source": [
    "label_3d = LabelEncoder().fit_transform(y_3d)\n",
    "\n",
    "onehot_3d = np.zeros((label_3d.shape[0], num_classes))\n",
    "onehot_3d[np.arange(label_3d.shape[0]), label_3d] = 1"
   ]
  },
  {
   "cell_type": "code",
   "execution_count": 13,
   "metadata": {},
   "outputs": [
    {
     "data": {
      "text/plain": [
       "((926, 100, 3, 1),\n",
       " (926, 100, 3, 1),\n",
       " (464, 100, 3, 1),\n",
       " (926, 3),\n",
       " (926, 3),\n",
       " (464, 3))"
      ]
     },
     "execution_count": 13,
     "metadata": {},
     "output_type": "execute_result"
    }
   ],
   "source": [
    "X_3d_train_temp, X_3d_test, y_3d_train_temp, y_3d_test = train_test_split(X_3d, onehot_3d, train_size=train_size, test_size=test_size, random_state=random_state, stratify=onehot_3d)\n",
    "X_3d_train, X_3d_validate, y_3d_train, y_3d_validate = train_test_split(X_3d_train_temp, y_3d_train_temp, train_size=train_size_temp, test_size=validate_size, random_state=random_state, stratify=y_3d_train_temp)\n",
    "\n",
    "X_3d_train.shape, X_3d_validate.shape, X_3d_test.shape, y_3d_train.shape, y_3d_validate.shape, y_3d_test.shape"
   ]
  },
  {
   "cell_type": "markdown",
   "metadata": {},
   "source": [
    "# SVC"
   ]
  },
  {
   "cell_type": "code",
   "execution_count": 14,
   "metadata": {},
   "outputs": [],
   "source": [
    "k = 10\n",
    "seed = random_state\n",
    "\n",
    "skfold = StratifiedKFold(n_splits=k, shuffle=True, random_state=seed)"
   ]
  },
  {
   "cell_type": "code",
   "execution_count": 15,
   "metadata": {},
   "outputs": [],
   "source": [
    "c_val = 100\n",
    "gmm = 0.1\n",
    "\n",
    "SVC_lin = SVC(kernel='linear', C=c_val)\n",
    "SVC_rbf = SVC(kernel='rbf', C=c_val, gamma=gmm)"
   ]
  },
  {
   "cell_type": "code",
   "execution_count": 16,
   "metadata": {},
   "outputs": [],
   "source": [
    "score_lin = cross_val_score(SVC_lin, X_2d_train, y_2d_train, cv=skfold)\n",
    "score_rbf = cross_val_score(SVC_rbf, X_2d_train, y_2d_train, cv=skfold)"
   ]
  },
  {
   "cell_type": "code",
   "execution_count": 17,
   "metadata": {},
   "outputs": [
    {
     "data": {
      "text/plain": [
       "<matplotlib.axes._subplots.AxesSubplot at 0x7f0203470090>"
      ]
     },
     "execution_count": 17,
     "metadata": {},
     "output_type": "execute_result"
    },
    {
     "data": {
      "image/png": "[encoded data removed]",
      "text/plain": [
       "<Figure size 432x288 with 1 Axes>"
      ]
     },
     "metadata": {
      "needs_background": "light"
     },
     "output_type": "display_data"
    }
   ],
   "source": [
    "score_all = pd.DataFrame({'SVC_linear':score_lin, 'SVC_rbf': score_rbf })\n",
    "score_all.plot()"
   ]
  },
  {
   "cell_type": "code",
   "execution_count": 18,
   "metadata": {},
   "outputs": [],
   "source": [
    "lin_pred = SVC_lin.fit(X_2d_train, y_2d_train).predict(X_2d_validate)\n",
    "rbf_pred = SVC_rbf.fit(X_2d_train, y_2d_train).predict(X_2d_validate)"
   ]
  },
  {
   "cell_type": "code",
   "execution_count": 19,
   "metadata": {},
   "outputs": [
    {
     "name": "stdout",
     "output_type": "stream",
     "text": [
      "              precision    recall  f1-score   support\n",
      "\n",
      "           0       1.00      0.99      0.99       210\n",
      "           1       0.99      1.00      1.00       345\n",
      "           2       1.00      1.00      1.00       331\n",
      "\n",
      "    accuracy                           1.00       886\n",
      "   macro avg       1.00      1.00      1.00       886\n",
      "weighted avg       1.00      1.00      1.00       886\n",
      "\n",
      "              precision    recall  f1-score   support\n",
      "\n",
      "           0       1.00      0.99      0.99       210\n",
      "           1       0.99      1.00      0.99       345\n",
      "           2       1.00      1.00      1.00       331\n",
      "\n",
      "    accuracy                           1.00       886\n",
      "   macro avg       1.00      0.99      0.99       886\n",
      "weighted avg       1.00      1.00      1.00       886\n",
      "\n"
     ]
    }
   ],
   "source": [
    "print(classification_report(y_2d_validate, lin_pred))\n",
    "print(classification_report(y_2d_validate, rbf_pred))"
   ]
  },
  {
   "cell_type": "code",
   "execution_count": 20,
   "metadata": {},
   "outputs": [
    {
     "name": "stdout",
     "output_type": "stream",
     "text": [
      "[[207   3   0]\n",
      " [  0 345   0]\n",
      " [  0   0 331]]\n",
      "[[207   3   0]\n",
      " [  1 344   0]\n",
      " [  0   0 331]]\n"
     ]
    }
   ],
   "source": [
    "print(confusion_matrix(y_2d_validate, lin_pred))\n",
    "print(confusion_matrix(y_2d_validate, rbf_pred))"
   ]
  },
  {
   "cell_type": "code",
   "execution_count": 21,
   "metadata": {},
   "outputs": [],
   "source": [
    "lin_pred = SVC_lin.fit(X_2d_train, y_2d_train).predict(X_2d_test)\n",
    "rbf_pred = SVC_rbf.fit(X_2d_train, y_2d_train).predict(X_2d_test)"
   ]
  },
  {
   "cell_type": "code",
   "execution_count": 22,
   "metadata": {},
   "outputs": [
    {
     "name": "stdout",
     "output_type": "stream",
     "text": [
      "              precision    recall  f1-score   support\n",
      "\n",
      "           0       0.99      0.99      0.99       105\n",
      "           1       0.99      0.99      0.99       172\n",
      "           2       1.00      1.00      1.00       166\n",
      "\n",
      "    accuracy                           1.00       443\n",
      "   macro avg       0.99      0.99      0.99       443\n",
      "weighted avg       1.00      1.00      1.00       443\n",
      "\n",
      "              precision    recall  f1-score   support\n",
      "\n",
      "           0       1.00      0.99      1.00       105\n",
      "           1       0.99      1.00      1.00       172\n",
      "           2       1.00      1.00      1.00       166\n",
      "\n",
      "    accuracy                           1.00       443\n",
      "   macro avg       1.00      1.00      1.00       443\n",
      "weighted avg       1.00      1.00      1.00       443\n",
      "\n"
     ]
    }
   ],
   "source": [
    "print(classification_report(y_2d_test, lin_pred))\n",
    "print(classification_report(y_2d_test, rbf_pred))"
   ]
  },
  {
   "cell_type": "code",
   "execution_count": 23,
   "metadata": {},
   "outputs": [
    {
     "name": "stdout",
     "output_type": "stream",
     "text": [
      "[[104   1   0]\n",
      " [  1 171   0]\n",
      " [  0   0 166]]\n",
      "[[104   1   0]\n",
      " [  0 172   0]\n",
      " [  0   0 166]]\n"
     ]
    }
   ],
   "source": [
    "print(confusion_matrix(y_2d_test, lin_pred))\n",
    "print(confusion_matrix(y_2d_test, rbf_pred))"
   ]
  },
  {
   "cell_type": "markdown",
   "metadata": {},
   "source": [
    "# CNN"
   ]
  },
  {
   "cell_type": "code",
   "execution_count": 24,
   "metadata": {},
   "outputs": [],
   "source": [
    "mlp = MLPClassifier(hidden_layer_sizes=(30,30,30), max_iter=500, solver='sgd')"
   ]
  },
  {
   "cell_type": "code",
   "execution_count": 25,
   "metadata": {},
   "outputs": [
    {
     "name": "stderr",
     "output_type": "stream",
     "text": [
      "/home/j/.local/lib/python3.7/site-packages/sklearn/neural_network/multilayer_perceptron.py:566: ConvergenceWarning: Stochastic Optimizer: Maximum iterations (500) reached and the optimization hasn't converged yet.\n",
      "  % self.max_iter, ConvergenceWarning)\n"
     ]
    },
    {
     "data": {
      "text/plain": [
       "MLPClassifier(activation='relu', alpha=0.0001, batch_size='auto', beta_1=0.9,\n",
       "              beta_2=0.999, early_stopping=False, epsilon=1e-08,\n",
       "              hidden_layer_sizes=(30, 30, 30), learning_rate='constant',\n",
       "              learning_rate_init=0.001, max_iter=500, momentum=0.9,\n",
       "              n_iter_no_change=10, nesterovs_momentum=True, power_t=0.5,\n",
       "              random_state=None, shuffle=True, solver='sgd', tol=0.0001,\n",
       "              validation_fraction=0.1, verbose=False, warm_start=False)"
      ]
     },
     "execution_count": 25,
     "metadata": {},
     "output_type": "execute_result"
    }
   ],
   "source": [
    "mlp.fit(X_2d_train, y_2d_train)"
   ]
  },
  {
   "cell_type": "code",
   "execution_count": 26,
   "metadata": {},
   "outputs": [],
   "source": [
    "mlp_pred = mlp.predict(X_2d_test)"
   ]
  },
  {
   "cell_type": "code",
   "execution_count": 27,
   "metadata": {},
   "outputs": [
    {
     "name": "stdout",
     "output_type": "stream",
     "text": [
      "(926, 100, 3, 1)\n"
     ]
    },
    {
     "ename": "ValueError",
     "evalue": "Input 0 is incompatible with layer conv2d_1: expected ndim=4, found ndim=5",
     "output_type": "error",
     "traceback": [
      "\u001b[0;31m---------------------------------------------------------------------------\u001b[0m",
      "\u001b[0;31mValueError\u001b[0m                                Traceback (most recent call last)",
      "\u001b[0;32m<ipython-input-27-6e1d3d05f2b5>\u001b[0m in \u001b[0;36m<module>\u001b[0;34m\u001b[0m\n\u001b[1;32m     10\u001b[0m \u001b[0mmodel\u001b[0m \u001b[0;34m=\u001b[0m \u001b[0mSequential\u001b[0m\u001b[0;34m(\u001b[0m\u001b[0;34m)\u001b[0m\u001b[0;34m\u001b[0m\u001b[0;34m\u001b[0m\u001b[0m\n\u001b[1;32m     11\u001b[0m \u001b[0;34m\u001b[0m\u001b[0m\n\u001b[0;32m---> 12\u001b[0;31m \u001b[0mmodel\u001b[0m\u001b[0;34m.\u001b[0m\u001b[0madd\u001b[0m\u001b[0;34m(\u001b[0m\u001b[0mConv2D\u001b[0m\u001b[0;34m(\u001b[0m\u001b[0mCNN_L1\u001b[0m\u001b[0;34m,\u001b[0m \u001b[0mkernel_size\u001b[0m\u001b[0;34m=\u001b[0m\u001b[0mKer_size\u001b[0m\u001b[0;34m,\u001b[0m \u001b[0mactivation\u001b[0m\u001b[0;34m=\u001b[0m\u001b[0mAct_func\u001b[0m\u001b[0;34m,\u001b[0m \u001b[0minput_shape\u001b[0m\u001b[0;34m=\u001b[0m\u001b[0mInput_shape\u001b[0m\u001b[0;34m,\u001b[0m\u001b[0mpadding\u001b[0m\u001b[0;34m=\u001b[0m\u001b[0;34m'same'\u001b[0m\u001b[0;34m)\u001b[0m\u001b[0;34m)\u001b[0m\u001b[0;34m\u001b[0m\u001b[0;34m\u001b[0m\u001b[0m\n\u001b[0m\u001b[1;32m     13\u001b[0m \u001b[0mmodel\u001b[0m\u001b[0;34m.\u001b[0m\u001b[0madd\u001b[0m\u001b[0;34m(\u001b[0m\u001b[0mMaxPooling2D\u001b[0m\u001b[0;34m(\u001b[0m\u001b[0mpool_size\u001b[0m\u001b[0;34m=\u001b[0m\u001b[0mP_size\u001b[0m\u001b[0;34m)\u001b[0m\u001b[0;34m)\u001b[0m\u001b[0;34m\u001b[0m\u001b[0;34m\u001b[0m\u001b[0m\n\u001b[1;32m     14\u001b[0m \u001b[0mmodel\u001b[0m\u001b[0;34m.\u001b[0m\u001b[0madd\u001b[0m\u001b[0;34m(\u001b[0m\u001b[0mDropout\u001b[0m\u001b[0;34m(\u001b[0m\u001b[0;36m0.2\u001b[0m\u001b[0;34m)\u001b[0m\u001b[0;34m)\u001b[0m\u001b[0;34m\u001b[0m\u001b[0;34m\u001b[0m\u001b[0m\n",
      "\u001b[0;32m~/.local/lib/python3.7/site-packages/keras/engine/sequential.py\u001b[0m in \u001b[0;36madd\u001b[0;34m(self, layer)\u001b[0m\n\u001b[1;32m    164\u001b[0m                     \u001b[0;31m# and create the node connecting the current layer\u001b[0m\u001b[0;34m\u001b[0m\u001b[0;34m\u001b[0m\u001b[0;34m\u001b[0m\u001b[0m\n\u001b[1;32m    165\u001b[0m                     \u001b[0;31m# to the input layer we just created.\u001b[0m\u001b[0;34m\u001b[0m\u001b[0;34m\u001b[0m\u001b[0;34m\u001b[0m\u001b[0m\n\u001b[0;32m--> 166\u001b[0;31m                     \u001b[0mlayer\u001b[0m\u001b[0;34m(\u001b[0m\u001b[0mx\u001b[0m\u001b[0;34m)\u001b[0m\u001b[0;34m\u001b[0m\u001b[0;34m\u001b[0m\u001b[0m\n\u001b[0m\u001b[1;32m    167\u001b[0m                     \u001b[0mset_inputs\u001b[0m \u001b[0;34m=\u001b[0m \u001b[0;32mTrue\u001b[0m\u001b[0;34m\u001b[0m\u001b[0;34m\u001b[0m\u001b[0m\n\u001b[1;32m    168\u001b[0m             \u001b[0;32melse\u001b[0m\u001b[0;34m:\u001b[0m\u001b[0;34m\u001b[0m\u001b[0;34m\u001b[0m\u001b[0m\n",
      "\u001b[0;32m~/.local/lib/python3.7/site-packages/keras/backend/tensorflow_backend.py\u001b[0m in \u001b[0;36msymbolic_fn_wrapper\u001b[0;34m(*args, **kwargs)\u001b[0m\n\u001b[1;32m     73\u001b[0m         \u001b[0;32mif\u001b[0m \u001b[0m_SYMBOLIC_SCOPE\u001b[0m\u001b[0;34m.\u001b[0m\u001b[0mvalue\u001b[0m\u001b[0;34m:\u001b[0m\u001b[0;34m\u001b[0m\u001b[0;34m\u001b[0m\u001b[0m\n\u001b[1;32m     74\u001b[0m             \u001b[0;32mwith\u001b[0m \u001b[0mget_graph\u001b[0m\u001b[0;34m(\u001b[0m\u001b[0;34m)\u001b[0m\u001b[0;34m.\u001b[0m\u001b[0mas_default\u001b[0m\u001b[0;34m(\u001b[0m\u001b[0;34m)\u001b[0m\u001b[0;34m:\u001b[0m\u001b[0;34m\u001b[0m\u001b[0;34m\u001b[0m\u001b[0m\n\u001b[0;32m---> 75\u001b[0;31m                 \u001b[0;32mreturn\u001b[0m \u001b[0mfunc\u001b[0m\u001b[0;34m(\u001b[0m\u001b[0;34m*\u001b[0m\u001b[0margs\u001b[0m\u001b[0;34m,\u001b[0m \u001b[0;34m**\u001b[0m\u001b[0mkwargs\u001b[0m\u001b[0;34m)\u001b[0m\u001b[0;34m\u001b[0m\u001b[0;34m\u001b[0m\u001b[0m\n\u001b[0m\u001b[1;32m     76\u001b[0m         \u001b[0;32melse\u001b[0m\u001b[0;34m:\u001b[0m\u001b[0;34m\u001b[0m\u001b[0;34m\u001b[0m\u001b[0m\n\u001b[1;32m     77\u001b[0m             \u001b[0;32mreturn\u001b[0m \u001b[0mfunc\u001b[0m\u001b[0;34m(\u001b[0m\u001b[0;34m*\u001b[0m\u001b[0margs\u001b[0m\u001b[0;34m,\u001b[0m \u001b[0;34m**\u001b[0m\u001b[0mkwargs\u001b[0m\u001b[0;34m)\u001b[0m\u001b[0;34m\u001b[0m\u001b[0;34m\u001b[0m\u001b[0m\n",
      "\u001b[0;32m~/.local/lib/python3.7/site-packages/keras/engine/base_layer.py\u001b[0m in \u001b[0;36m__call__\u001b[0;34m(self, inputs, **kwargs)\u001b[0m\n\u001b[1;32m    444\u001b[0m                 \u001b[0;31m# Raise exceptions in case the input is not compatible\u001b[0m\u001b[0;34m\u001b[0m\u001b[0;34m\u001b[0m\u001b[0;34m\u001b[0m\u001b[0m\n\u001b[1;32m    445\u001b[0m                 \u001b[0;31m# with the input_spec specified in the layer constructor.\u001b[0m\u001b[0;34m\u001b[0m\u001b[0;34m\u001b[0m\u001b[0;34m\u001b[0m\u001b[0m\n\u001b[0;32m--> 446\u001b[0;31m                 \u001b[0mself\u001b[0m\u001b[0;34m.\u001b[0m\u001b[0massert_input_compatibility\u001b[0m\u001b[0;34m(\u001b[0m\u001b[0minputs\u001b[0m\u001b[0;34m)\u001b[0m\u001b[0;34m\u001b[0m\u001b[0;34m\u001b[0m\u001b[0m\n\u001b[0m\u001b[1;32m    447\u001b[0m \u001b[0;34m\u001b[0m\u001b[0m\n\u001b[1;32m    448\u001b[0m                 \u001b[0;31m# Collect input shapes to build layer.\u001b[0m\u001b[0;34m\u001b[0m\u001b[0;34m\u001b[0m\u001b[0;34m\u001b[0m\u001b[0m\n",
      "\u001b[0;32m~/.local/lib/python3.7/site-packages/keras/engine/base_layer.py\u001b[0m in \u001b[0;36massert_input_compatibility\u001b[0;34m(self, inputs)\u001b[0m\n\u001b[1;32m    340\u001b[0m                                      \u001b[0mself\u001b[0m\u001b[0;34m.\u001b[0m\u001b[0mname\u001b[0m \u001b[0;34m+\u001b[0m \u001b[0;34m': expected ndim='\u001b[0m \u001b[0;34m+\u001b[0m\u001b[0;34m\u001b[0m\u001b[0;34m\u001b[0m\u001b[0m\n\u001b[1;32m    341\u001b[0m                                      \u001b[0mstr\u001b[0m\u001b[0;34m(\u001b[0m\u001b[0mspec\u001b[0m\u001b[0;34m.\u001b[0m\u001b[0mndim\u001b[0m\u001b[0;34m)\u001b[0m \u001b[0;34m+\u001b[0m \u001b[0;34m', found ndim='\u001b[0m \u001b[0;34m+\u001b[0m\u001b[0;34m\u001b[0m\u001b[0;34m\u001b[0m\u001b[0m\n\u001b[0;32m--> 342\u001b[0;31m                                      str(K.ndim(x)))\n\u001b[0m\u001b[1;32m    343\u001b[0m             \u001b[0;32mif\u001b[0m \u001b[0mspec\u001b[0m\u001b[0;34m.\u001b[0m\u001b[0mmax_ndim\u001b[0m \u001b[0;32mis\u001b[0m \u001b[0;32mnot\u001b[0m \u001b[0;32mNone\u001b[0m\u001b[0;34m:\u001b[0m\u001b[0;34m\u001b[0m\u001b[0;34m\u001b[0m\u001b[0m\n\u001b[1;32m    344\u001b[0m                 \u001b[0mndim\u001b[0m \u001b[0;34m=\u001b[0m \u001b[0mK\u001b[0m\u001b[0;34m.\u001b[0m\u001b[0mndim\u001b[0m\u001b[0;34m(\u001b[0m\u001b[0mx\u001b[0m\u001b[0;34m)\u001b[0m\u001b[0;34m\u001b[0m\u001b[0;34m\u001b[0m\u001b[0m\n",
      "\u001b[0;31mValueError\u001b[0m: Input 0 is incompatible with layer conv2d_1: expected ndim=4, found ndim=5"
     ]
    }
   ],
   "source": [
    "CNN_L1 = 100\n",
    "CNN_L = 50\n",
    "Ker_size = (4, 4)\n",
    "Act_func = 'relu'\n",
    "Input_shape = X_3d_train.shape\n",
    "print(Input_shape)\n",
    "P_size = (2, 2)\n",
    "Dense_size = 20\n",
    "\n",
    "model = Sequential()\n",
    "\n",
    "model.add(Conv2D(CNN_L1, kernel_size=Ker_size, activation=Act_func, input_shape=Input_shape,padding='same'))\n",
    "model.add(MaxPooling2D(pool_size=P_size))\n",
    "model.add(Dropout(0.2))\n",
    "\n",
    "model.add(Conv2D(CNN_L, kernel_size=Ker_size, activation=Act_func,input_shape=Input_shape,padding='same'))\n",
    "model.add(MaxPooling2D(pool_size=P_size))\n",
    "model.add(Dropout(0.2))\n",
    "\n",
    "model.add(Flatten())\n",
    "model.add(Dense(Dense_size , activation= Act_func ))\n",
    "model.add(Dropout(0.4))\n",
    "model.add(Dense(num_classes, activation='sigmoid'))"
   ]
  },
  {
   "cell_type": "code",
   "execution_count": null,
   "metadata": {},
   "outputs": [],
   "source": [
    "model.compile(loss='categorical_crossentropy', \n",
    "              optimizer=optimizers.Adam(lr=0.001, beta_1=0.9, beta_2=0.999, amsgrad=False),\n",
    "              metrics=['accuracy'])\n",
    "\n",
    "model.summary()"
   ]
  },
  {
   "cell_type": "code",
   "execution_count": null,
   "metadata": {},
   "outputs": [],
   "source": [
    "Ep = 10\n",
    "Bs = 10\n",
    "\n",
    "print(X_3d_train.shape)\n",
    "\n",
    "history = model.fit(X_3d_train, y_3d_train, epochs=Ep,batch_size=Bs, validation_data=(X_3d_test, y_3d_test), verbose=1)"
   ]
  },
  {
   "cell_type": "code",
   "execution_count": null,
   "metadata": {},
   "outputs": [],
   "source": [
    "cnn_pred = model.predict(X_3d_test)\n",
    "cnn_pred_single = [np.argmax(p) for p in cnn_pred]\n",
    "y_test_single = [np.argmax(p) for p in y_test]"
   ]
  },
  {
   "cell_type": "code",
   "execution_count": null,
   "metadata": {},
   "outputs": [],
   "source": [
    "classification_report(y_3d_test, mlp_pred)"
   ]
  },
  {
   "cell_type": "code",
   "execution_count": null,
   "metadata": {},
   "outputs": [],
   "source": [
    "classification_report(y_3d_test_single, cnn_pred_single)"
   ]
  },
  {
   "cell_type": "code",
   "execution_count": null,
   "metadata": {},
   "outputs": [],
   "source": [
    "confusion_matrix(y_3d_test, mlp_pred)"
   ]
  },
  {
   "cell_type": "code",
   "execution_count": null,
   "metadata": {},
   "outputs": [],
   "source": [
    "confusion_matrix(y_3d_test_single, cnn_pred_single)"
   ]
  },
  {
   "cell_type": "markdown",
   "metadata": {},
   "source": [
    "# Tune Paraameter"
   ]
  },
  {
   "cell_type": "code",
   "execution_count": null,
   "metadata": {},
   "outputs": [],
   "source": []
  }
 ],
 "metadata": {
  "kernelspec": {
   "display_name": "Python 3",
   "language": "python",
   "name": "python3"
  },
  "language_info": {
   "codemirror_mode": {
    "name": "ipython",
    "version": 3
   },
   "file_extension": ".py",
   "mimetype": "text/x-python",
   "name": "python",
   "nbconvert_exporter": "python",
   "pygments_lexer": "ipython3",
   "version": "3.7.4"
  }
 },
 "nbformat": 4,
 "nbformat_minor": 4
}
