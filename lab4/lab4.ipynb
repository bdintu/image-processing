{
 "cells": [
  {
   "cell_type": "code",
   "execution_count": 1,
   "metadata": {},
   "outputs": [
    {
     "name": "stderr",
     "output_type": "stream",
     "text": [
      "Using TensorFlow backend.\n"
     ]
    }
   ],
   "source": [
    "import numpy as np\n",
    "import pandas as pd\n",
    "import matplotlib.pyplot as plt\n",
    "\n",
    "from sklearn.model_selection import train_test_split, cross_val_score, StratifiedKFold, GridSearchCV\n",
    "from sklearn.preprocessing import LabelEncoder\n",
    "from sklearn.metrics import classification_report, confusion_matrix\n",
    "from sklearn.svm import SVC\n",
    "from sklearn.neural_network import MLPClassifier\n",
    "\n",
    "from keras.models import Sequential\n",
    "from keras.layers import Conv2D, MaxPooling2D, Flatten, Dense, Dropout\n",
    "from keras import optimizers\n",
    "\n",
    "%matplotlib notebook"
   ]
  },
  {
   "cell_type": "markdown",
   "metadata": {},
   "source": [
    "# Preprocessing Data"
   ]
  },
  {
   "cell_type": "code",
   "execution_count": 2,
   "metadata": {},
   "outputs": [
    {
     "data": {
      "text/html": [
       "<div>\n",
       "<style scoped>\n",
       "    .dataframe tbody tr th:only-of-type {\n",
       "        vertical-align: middle;\n",
       "    }\n",
       "\n",
       "    .dataframe tbody tr th {\n",
       "        vertical-align: top;\n",
       "    }\n",
       "\n",
       "    .dataframe thead th {\n",
       "        text-align: right;\n",
       "    }\n",
       "</style>\n",
       "<table border=\"1\" class=\"dataframe\">\n",
       "  <thead>\n",
       "    <tr style=\"text-align: right;\">\n",
       "      <th></th>\n",
       "      <th>nose_x</th>\n",
       "      <th>nose_y</th>\n",
       "      <th>neck_x</th>\n",
       "      <th>neck_y</th>\n",
       "      <th>Rshoulder_x</th>\n",
       "      <th>Rshoulder_y</th>\n",
       "      <th>Relbow_x</th>\n",
       "      <th>Relbow_y</th>\n",
       "      <th>Rwrist_x</th>\n",
       "      <th>RWrist_y</th>\n",
       "      <th>...</th>\n",
       "      <th>LAnkle_y</th>\n",
       "      <th>REye_x</th>\n",
       "      <th>REye_y</th>\n",
       "      <th>LEye_x</th>\n",
       "      <th>LEye_y</th>\n",
       "      <th>REar_x</th>\n",
       "      <th>REar_y</th>\n",
       "      <th>LEar_x</th>\n",
       "      <th>LEar_y</th>\n",
       "      <th>class</th>\n",
       "    </tr>\n",
       "  </thead>\n",
       "  <tbody>\n",
       "    <tr>\n",
       "      <th>0</th>\n",
       "      <td>0.643519</td>\n",
       "      <td>0.157609</td>\n",
       "      <td>0.634259</td>\n",
       "      <td>0.250000</td>\n",
       "      <td>0.587963</td>\n",
       "      <td>0.244565</td>\n",
       "      <td>0.555556</td>\n",
       "      <td>0.342391</td>\n",
       "      <td>0.550926</td>\n",
       "      <td>0.434783</td>\n",
       "      <td>...</td>\n",
       "      <td>0.755435</td>\n",
       "      <td>0.629630</td>\n",
       "      <td>0.146739</td>\n",
       "      <td>0.652778</td>\n",
       "      <td>0.146739</td>\n",
       "      <td>0.615741</td>\n",
       "      <td>0.157609</td>\n",
       "      <td>0.666667</td>\n",
       "      <td>0.152174</td>\n",
       "      <td>kick</td>\n",
       "    </tr>\n",
       "    <tr>\n",
       "      <th>1</th>\n",
       "      <td>0.643519</td>\n",
       "      <td>0.157609</td>\n",
       "      <td>0.634259</td>\n",
       "      <td>0.250000</td>\n",
       "      <td>0.587963</td>\n",
       "      <td>0.244565</td>\n",
       "      <td>0.560185</td>\n",
       "      <td>0.342391</td>\n",
       "      <td>0.555556</td>\n",
       "      <td>0.429348</td>\n",
       "      <td>...</td>\n",
       "      <td>0.766304</td>\n",
       "      <td>0.629630</td>\n",
       "      <td>0.146739</td>\n",
       "      <td>0.652778</td>\n",
       "      <td>0.146739</td>\n",
       "      <td>0.615741</td>\n",
       "      <td>0.157609</td>\n",
       "      <td>0.666667</td>\n",
       "      <td>0.152174</td>\n",
       "      <td>kick</td>\n",
       "    </tr>\n",
       "    <tr>\n",
       "      <th>2</th>\n",
       "      <td>0.643519</td>\n",
       "      <td>0.157609</td>\n",
       "      <td>0.638889</td>\n",
       "      <td>0.250000</td>\n",
       "      <td>0.587963</td>\n",
       "      <td>0.244565</td>\n",
       "      <td>0.560185</td>\n",
       "      <td>0.342391</td>\n",
       "      <td>0.555556</td>\n",
       "      <td>0.429348</td>\n",
       "      <td>...</td>\n",
       "      <td>0.760870</td>\n",
       "      <td>0.634259</td>\n",
       "      <td>0.146739</td>\n",
       "      <td>0.652778</td>\n",
       "      <td>0.146739</td>\n",
       "      <td>0.615741</td>\n",
       "      <td>0.157609</td>\n",
       "      <td>0.671296</td>\n",
       "      <td>0.152174</td>\n",
       "      <td>kick</td>\n",
       "    </tr>\n",
       "    <tr>\n",
       "      <th>3</th>\n",
       "      <td>0.643519</td>\n",
       "      <td>0.157609</td>\n",
       "      <td>0.638889</td>\n",
       "      <td>0.250000</td>\n",
       "      <td>0.587963</td>\n",
       "      <td>0.244565</td>\n",
       "      <td>0.560185</td>\n",
       "      <td>0.342391</td>\n",
       "      <td>0.555556</td>\n",
       "      <td>0.429348</td>\n",
       "      <td>...</td>\n",
       "      <td>0.755435</td>\n",
       "      <td>0.629630</td>\n",
       "      <td>0.146739</td>\n",
       "      <td>0.652778</td>\n",
       "      <td>0.146739</td>\n",
       "      <td>0.615741</td>\n",
       "      <td>0.157609</td>\n",
       "      <td>0.666667</td>\n",
       "      <td>0.152174</td>\n",
       "      <td>kick</td>\n",
       "    </tr>\n",
       "    <tr>\n",
       "      <th>4</th>\n",
       "      <td>0.643519</td>\n",
       "      <td>0.157609</td>\n",
       "      <td>0.638889</td>\n",
       "      <td>0.250000</td>\n",
       "      <td>0.587963</td>\n",
       "      <td>0.244565</td>\n",
       "      <td>0.560185</td>\n",
       "      <td>0.342391</td>\n",
       "      <td>0.555556</td>\n",
       "      <td>0.429348</td>\n",
       "      <td>...</td>\n",
       "      <td>0.760870</td>\n",
       "      <td>0.629630</td>\n",
       "      <td>0.146739</td>\n",
       "      <td>0.652778</td>\n",
       "      <td>0.146739</td>\n",
       "      <td>0.615741</td>\n",
       "      <td>0.157609</td>\n",
       "      <td>0.666667</td>\n",
       "      <td>0.152174</td>\n",
       "      <td>kick</td>\n",
       "    </tr>\n",
       "    <tr>\n",
       "      <th>...</th>\n",
       "      <td>...</td>\n",
       "      <td>...</td>\n",
       "      <td>...</td>\n",
       "      <td>...</td>\n",
       "      <td>...</td>\n",
       "      <td>...</td>\n",
       "      <td>...</td>\n",
       "      <td>...</td>\n",
       "      <td>...</td>\n",
       "      <td>...</td>\n",
       "      <td>...</td>\n",
       "      <td>...</td>\n",
       "      <td>...</td>\n",
       "      <td>...</td>\n",
       "      <td>...</td>\n",
       "      <td>...</td>\n",
       "      <td>...</td>\n",
       "      <td>...</td>\n",
       "      <td>...</td>\n",
       "      <td>...</td>\n",
       "      <td>...</td>\n",
       "    </tr>\n",
       "    <tr>\n",
       "      <th>3219</th>\n",
       "      <td>0.587963</td>\n",
       "      <td>0.152174</td>\n",
       "      <td>0.587963</td>\n",
       "      <td>0.233696</td>\n",
       "      <td>0.541667</td>\n",
       "      <td>0.217391</td>\n",
       "      <td>0.500000</td>\n",
       "      <td>0.163043</td>\n",
       "      <td>0.486111</td>\n",
       "      <td>0.092391</td>\n",
       "      <td>...</td>\n",
       "      <td>0.755435</td>\n",
       "      <td>0.578704</td>\n",
       "      <td>0.141304</td>\n",
       "      <td>0.597222</td>\n",
       "      <td>0.141304</td>\n",
       "      <td>0.564815</td>\n",
       "      <td>0.152174</td>\n",
       "      <td>0.620370</td>\n",
       "      <td>0.146739</td>\n",
       "      <td>wave</td>\n",
       "    </tr>\n",
       "    <tr>\n",
       "      <th>3220</th>\n",
       "      <td>0.583333</td>\n",
       "      <td>0.157609</td>\n",
       "      <td>0.587963</td>\n",
       "      <td>0.233696</td>\n",
       "      <td>0.541667</td>\n",
       "      <td>0.222826</td>\n",
       "      <td>0.490741</td>\n",
       "      <td>0.179348</td>\n",
       "      <td>0.458333</td>\n",
       "      <td>0.114130</td>\n",
       "      <td>...</td>\n",
       "      <td>0.755435</td>\n",
       "      <td>0.574074</td>\n",
       "      <td>0.141304</td>\n",
       "      <td>0.597222</td>\n",
       "      <td>0.141304</td>\n",
       "      <td>0.564815</td>\n",
       "      <td>0.152174</td>\n",
       "      <td>0.615741</td>\n",
       "      <td>0.146739</td>\n",
       "      <td>wave</td>\n",
       "    </tr>\n",
       "    <tr>\n",
       "      <th>3221</th>\n",
       "      <td>0.583333</td>\n",
       "      <td>0.157609</td>\n",
       "      <td>0.587963</td>\n",
       "      <td>0.228261</td>\n",
       "      <td>0.537037</td>\n",
       "      <td>0.222826</td>\n",
       "      <td>0.481481</td>\n",
       "      <td>0.179348</td>\n",
       "      <td>0.439815</td>\n",
       "      <td>0.108696</td>\n",
       "      <td>...</td>\n",
       "      <td>0.755435</td>\n",
       "      <td>0.574074</td>\n",
       "      <td>0.141304</td>\n",
       "      <td>0.000000</td>\n",
       "      <td>0.000000</td>\n",
       "      <td>0.560185</td>\n",
       "      <td>0.146739</td>\n",
       "      <td>0.615741</td>\n",
       "      <td>0.146739</td>\n",
       "      <td>wave</td>\n",
       "    </tr>\n",
       "    <tr>\n",
       "      <th>3222</th>\n",
       "      <td>0.578704</td>\n",
       "      <td>0.157609</td>\n",
       "      <td>0.583333</td>\n",
       "      <td>0.228261</td>\n",
       "      <td>0.532407</td>\n",
       "      <td>0.222826</td>\n",
       "      <td>0.476852</td>\n",
       "      <td>0.184783</td>\n",
       "      <td>0.421296</td>\n",
       "      <td>0.125000</td>\n",
       "      <td>...</td>\n",
       "      <td>0.755435</td>\n",
       "      <td>0.569444</td>\n",
       "      <td>0.146739</td>\n",
       "      <td>0.592593</td>\n",
       "      <td>0.141304</td>\n",
       "      <td>0.560185</td>\n",
       "      <td>0.152174</td>\n",
       "      <td>0.611111</td>\n",
       "      <td>0.146739</td>\n",
       "      <td>wave</td>\n",
       "    </tr>\n",
       "    <tr>\n",
       "      <th>3223</th>\n",
       "      <td>0.574074</td>\n",
       "      <td>0.157609</td>\n",
       "      <td>0.583333</td>\n",
       "      <td>0.228261</td>\n",
       "      <td>0.532407</td>\n",
       "      <td>0.222826</td>\n",
       "      <td>0.476852</td>\n",
       "      <td>0.190217</td>\n",
       "      <td>0.412037</td>\n",
       "      <td>0.130435</td>\n",
       "      <td>...</td>\n",
       "      <td>0.750000</td>\n",
       "      <td>0.564815</td>\n",
       "      <td>0.146739</td>\n",
       "      <td>0.583333</td>\n",
       "      <td>0.141304</td>\n",
       "      <td>0.555556</td>\n",
       "      <td>0.152174</td>\n",
       "      <td>0.606481</td>\n",
       "      <td>0.146739</td>\n",
       "      <td>wave</td>\n",
       "    </tr>\n",
       "  </tbody>\n",
       "</table>\n",
       "<p>3224 rows × 37 columns</p>\n",
       "</div>"
      ],
      "text/plain": [
       "        nose_x    nose_y    neck_x    neck_y  Rshoulder_x  Rshoulder_y  \\\n",
       "0     0.643519  0.157609  0.634259  0.250000     0.587963     0.244565   \n",
       "1     0.643519  0.157609  0.634259  0.250000     0.587963     0.244565   \n",
       "2     0.643519  0.157609  0.638889  0.250000     0.587963     0.244565   \n",
       "3     0.643519  0.157609  0.638889  0.250000     0.587963     0.244565   \n",
       "4     0.643519  0.157609  0.638889  0.250000     0.587963     0.244565   \n",
       "...        ...       ...       ...       ...          ...          ...   \n",
       "3219  0.587963  0.152174  0.587963  0.233696     0.541667     0.217391   \n",
       "3220  0.583333  0.157609  0.587963  0.233696     0.541667     0.222826   \n",
       "3221  0.583333  0.157609  0.587963  0.228261     0.537037     0.222826   \n",
       "3222  0.578704  0.157609  0.583333  0.228261     0.532407     0.222826   \n",
       "3223  0.574074  0.157609  0.583333  0.228261     0.532407     0.222826   \n",
       "\n",
       "      Relbow_x  Relbow_y  Rwrist_x  RWrist_y  ...  LAnkle_y    REye_x  \\\n",
       "0     0.555556  0.342391  0.550926  0.434783  ...  0.755435  0.629630   \n",
       "1     0.560185  0.342391  0.555556  0.429348  ...  0.766304  0.629630   \n",
       "2     0.560185  0.342391  0.555556  0.429348  ...  0.760870  0.634259   \n",
       "3     0.560185  0.342391  0.555556  0.429348  ...  0.755435  0.629630   \n",
       "4     0.560185  0.342391  0.555556  0.429348  ...  0.760870  0.629630   \n",
       "...        ...       ...       ...       ...  ...       ...       ...   \n",
       "3219  0.500000  0.163043  0.486111  0.092391  ...  0.755435  0.578704   \n",
       "3220  0.490741  0.179348  0.458333  0.114130  ...  0.755435  0.574074   \n",
       "3221  0.481481  0.179348  0.439815  0.108696  ...  0.755435  0.574074   \n",
       "3222  0.476852  0.184783  0.421296  0.125000  ...  0.755435  0.569444   \n",
       "3223  0.476852  0.190217  0.412037  0.130435  ...  0.750000  0.564815   \n",
       "\n",
       "        REye_y    LEye_x    LEye_y    REar_x    REar_y    LEar_x    LEar_y  \\\n",
       "0     0.146739  0.652778  0.146739  0.615741  0.157609  0.666667  0.152174   \n",
       "1     0.146739  0.652778  0.146739  0.615741  0.157609  0.666667  0.152174   \n",
       "2     0.146739  0.652778  0.146739  0.615741  0.157609  0.671296  0.152174   \n",
       "3     0.146739  0.652778  0.146739  0.615741  0.157609  0.666667  0.152174   \n",
       "4     0.146739  0.652778  0.146739  0.615741  0.157609  0.666667  0.152174   \n",
       "...        ...       ...       ...       ...       ...       ...       ...   \n",
       "3219  0.141304  0.597222  0.141304  0.564815  0.152174  0.620370  0.146739   \n",
       "3220  0.141304  0.597222  0.141304  0.564815  0.152174  0.615741  0.146739   \n",
       "3221  0.141304  0.000000  0.000000  0.560185  0.146739  0.615741  0.146739   \n",
       "3222  0.146739  0.592593  0.141304  0.560185  0.152174  0.611111  0.146739   \n",
       "3223  0.146739  0.583333  0.141304  0.555556  0.152174  0.606481  0.146739   \n",
       "\n",
       "      class  \n",
       "0      kick  \n",
       "1      kick  \n",
       "2      kick  \n",
       "3      kick  \n",
       "4      kick  \n",
       "...     ...  \n",
       "3219   wave  \n",
       "3220   wave  \n",
       "3221   wave  \n",
       "3222   wave  \n",
       "3223   wave  \n",
       "\n",
       "[3224 rows x 37 columns]"
      ]
     },
     "execution_count": 2,
     "metadata": {},
     "output_type": "execute_result"
    }
   ],
   "source": [
    "df = pd.read_csv('data/skeleton_filtered.csv')\n",
    "\n",
    "df"
   ]
  },
  {
   "cell_type": "code",
   "execution_count": 3,
   "metadata": {},
   "outputs": [
    {
     "data": {
      "text/plain": [
       "['kick', 'stand', 'wave']"
      ]
     },
     "execution_count": 3,
     "metadata": {},
     "output_type": "execute_result"
    }
   ],
   "source": [
    "# activity = df['class'].drop_duplicates().to_list()\n",
    "activity = ['kick', 'stand', 'wave']\n",
    "\n",
    "activity"
   ]
  },
  {
   "cell_type": "code",
   "execution_count": 4,
   "metadata": {},
   "outputs": [
    {
     "data": {
      "text/plain": [
       "array([['kick', 525],\n",
       "       ['punch', 438],\n",
       "       ['squat', 571],\n",
       "       ['stand', 861],\n",
       "       ['wave', 829]], dtype=object)"
      ]
     },
     "execution_count": 4,
     "metadata": {},
     "output_type": "execute_result"
    }
   ],
   "source": [
    "unique, counts = np.unique(df['class'], return_counts=True)\n",
    "itemfreq = np.vstack((unique, counts)).T\n",
    "\n",
    "itemfreq"
   ]
  },
  {
   "cell_type": "code",
   "execution_count": 5,
   "metadata": {},
   "outputs": [
    {
     "data": {
      "text/plain": [
       "(3224, 36)"
      ]
     },
     "execution_count": 5,
     "metadata": {},
     "output_type": "execute_result"
    }
   ],
   "source": [
    "X_2d = df.iloc[:,:-1].to_numpy()\n",
    "X_2d.shape"
   ]
  },
  {
   "cell_type": "code",
   "execution_count": 6,
   "metadata": {},
   "outputs": [
    {
     "data": {
      "text/plain": [
       "(3224,)"
      ]
     },
     "execution_count": 6,
     "metadata": {},
     "output_type": "execute_result"
    }
   ],
   "source": [
    "y_2d = df['class'].to_numpy()\n",
    "\n",
    "y_2d.shape"
   ]
  },
  {
   "cell_type": "code",
   "execution_count": 7,
   "metadata": {},
   "outputs": [],
   "source": [
    "label_2d = LabelEncoder().fit_transform(y_2d)"
   ]
  },
  {
   "cell_type": "code",
   "execution_count": 8,
   "metadata": {},
   "outputs": [
    {
     "data": {
      "text/plain": [
       "((1289, 36), (1290, 36), (645, 36), (1289,), (1290,), (645,))"
      ]
     },
     "execution_count": 8,
     "metadata": {},
     "output_type": "execute_result"
    }
   ],
   "source": [
    "train_size = 0.8\n",
    "test_size = 0.2\n",
    "random_state = 0\n",
    "X_2d_train_temp, X_2d_test, y_2d_train_temp, y_2d_test = train_test_split(X_2d, label_2d, train_size=train_size, test_size=test_size, random_state=random_state, stratify=label_2d)\n",
    "\n",
    "train_size_temp = 0.5\n",
    "validate_size = 0.5\n",
    "X_2d_train, X_2d_validate, y_2d_train, y_2d_validate = train_test_split(X_2d_train_temp, y_2d_train_temp, train_size=train_size_temp, test_size=validate_size, random_state=random_state, stratify=y_2d_train_temp)\n",
    "\n",
    "X_2d_train.shape, X_2d_validate.shape, X_2d_test.shape, y_2d_train.shape, y_2d_validate.shape, y_2d_test.shape"
   ]
  },
  {
   "cell_type": "code",
   "execution_count": 9,
   "metadata": {},
   "outputs": [],
   "source": [
    "def process_create_WindowTimeSeries(activity, df, activity_start, activity_len, time_window, n_feature, step_stride):\n",
    "    df_series = df[df['class'] == activity].iloc[:,:-1][activity_start:(activity_start+activity_len)]\n",
    "    segments = []\n",
    "    labels = []\n",
    "\n",
    "    for i in range(0, df_series.shape[0] - time_window, step_stride):\n",
    "        df_series_feature = df_series.iloc[i: i + time_window]\n",
    "        segments.append(df_series_feature.to_numpy())\n",
    "\n",
    "    segments = np.asarray(segments)\n",
    "    reshaped_segments = np.asarray(segments, dtype= np.float32).reshape(-1, time_window, n_feature)\n",
    "\n",
    "    labels = np.repeat(activity, reshaped_segments.shape[0])\n",
    "\n",
    "    return reshaped_segments, labels"
   ]
  },
  {
   "cell_type": "code",
   "execution_count": 10,
   "metadata": {},
   "outputs": [
    {
     "data": {
      "text/plain": [
       "((2316, 100, 3), (2316,))"
      ]
     },
     "execution_count": 10,
     "metadata": {},
     "output_type": "execute_result"
    }
   ],
   "source": [
    "activity_start = 0\n",
    "activity_len = df.shape[0]\n",
    "time_window = 100\n",
    "n_feature = len(activity)\n",
    "step_stride = 10\n",
    "\n",
    "X_3d = []\n",
    "y_3d = []\n",
    "\n",
    "for i in activity:\n",
    "    reshaped_segments, labels = process_create_WindowTimeSeries(i, df, activity_start, activity_len, time_window, n_feature, step_stride)\n",
    "    X_3d.append(reshaped_segments)\n",
    "    y_3d.append(labels)\n",
    "    \n",
    "X_3d = np.concatenate(X_3d)\n",
    "y_3d = np.concatenate(y_3d)\n",
    "\n",
    "X_3d.shape, y_3d.shape"
   ]
  },
  {
   "cell_type": "code",
   "execution_count": 11,
   "metadata": {},
   "outputs": [],
   "source": [
    "label_3d = LabelEncoder().fit_transform(y_3d)\n",
    "\n",
    "onehot_3d = np.zeros((label_3d.shape[0], len(activity)))\n",
    "onehot_3d[np.arange(label_3d.shape[0]), label_3d] = 1"
   ]
  },
  {
   "cell_type": "code",
   "execution_count": 12,
   "metadata": {},
   "outputs": [
    {
     "data": {
      "text/plain": [
       "((926, 100, 3), (926, 100, 3), (464, 100, 3), (926, 3), (926, 3), (464, 3))"
      ]
     },
     "execution_count": 12,
     "metadata": {},
     "output_type": "execute_result"
    }
   ],
   "source": [
    "X_3d_train_temp, X_3d_test, y_3d_train_temp, y_3d_test = train_test_split(X_3d, onehot_3d, train_size=train_size, test_size=test_size, random_state=random_state, stratify=onehot_3d)\n",
    "X_3d_train, X_3d_validate, y_3d_train, y_3d_validate = train_test_split(X_3d_train_temp, y_3d_train_temp, train_size=train_size_temp, test_size=validate_size, random_state=random_state, stratify=y_3d_train_temp)\n",
    "\n",
    "X_3d_train.shape, X_3d_validate.shape, X_3d_test.shape, y_3d_train.shape, y_3d_validate.shape, y_3d_test.shape"
   ]
  },
  {
   "cell_type": "markdown",
   "metadata": {},
   "source": [
    "# SVC"
   ]
  },
  {
   "cell_type": "code",
   "execution_count": 13,
   "metadata": {},
   "outputs": [],
   "source": [
    "k = 10\n",
    "seed = random_state\n",
    "\n",
    "skfold = StratifiedKFold(n_splits=k, shuffle=True, random_state=seed)"
   ]
  },
  {
   "cell_type": "code",
   "execution_count": 14,
   "metadata": {},
   "outputs": [],
   "source": [
    "c_val = 100\n",
    "gmm = 0.1\n",
    "\n",
    "SVC_lin = SVC(kernel='linear', C=c_val)\n",
    "SVC_rbf = SVC(kernel='rbf', C=c_val, gamma=gmm)"
   ]
  },
  {
   "cell_type": "code",
   "execution_count": 15,
   "metadata": {},
   "outputs": [],
   "source": [
    "score_lin = cross_val_score(SVC_lin, X_2d_train, y_2d_train, cv=skfold)\n",
    "score_rbf = cross_val_score(SVC_rbf, X_2d_train, y_2d_train, cv=skfold)"
   ]
  },
  {
   "cell_type": "code",
   "execution_count": 16,
   "metadata": {},
   "outputs": [
    {
     "data": {
      "text/plain": [
       "<matplotlib.axes._subplots.AxesSubplot at 0x7f7fe28f7c10>"
      ]
     },
     "execution_count": 16,
     "metadata": {},
     "output_type": "execute_result"
    },
    {
     "data": {
      "image/png": "[encoded data removed]",
      "text/plain": [
       "<Figure size 432x288 with 1 Axes>"
      ]
     },
     "metadata": {
      "needs_background": "light"
     },
     "output_type": "display_data"
    }
   ],
   "source": [
    "score_all = pd.DataFrame({'SVC_linear':score_lin, 'SVC_rbf': score_rbf })\n",
    "score_all.plot()"
   ]
  },
  {
   "cell_type": "code",
   "execution_count": 17,
   "metadata": {},
   "outputs": [],
   "source": [
    "lin_pred = SVC_lin.fit(X_2d_train, y_2d_train).predict(X_2d_validate)\n",
    "rbf_pred = SVC_rbf.fit(X_2d_train, y_2d_train).predict(X_2d_validate)"
   ]
  },
  {
   "cell_type": "code",
   "execution_count": 18,
   "metadata": {},
   "outputs": [
    {
     "name": "stdout",
     "output_type": "stream",
     "text": [
      "              precision    recall  f1-score   support\n",
      "\n",
      "           0       1.00      1.00      1.00       210\n",
      "           1       0.97      0.86      0.91       175\n",
      "           2       1.00      1.00      1.00       228\n",
      "           3       1.00      1.00      1.00       345\n",
      "           4       0.93      0.98      0.96       332\n",
      "\n",
      "    accuracy                           0.98      1290\n",
      "   macro avg       0.98      0.97      0.97      1290\n",
      "weighted avg       0.98      0.98      0.97      1290\n",
      "\n",
      "              precision    recall  f1-score   support\n",
      "\n",
      "           0       1.00      1.00      1.00       210\n",
      "           1       0.97      0.89      0.93       175\n",
      "           2       1.00      1.00      1.00       228\n",
      "           3       1.00      1.00      1.00       345\n",
      "           4       0.94      0.99      0.96       332\n",
      "\n",
      "    accuracy                           0.98      1290\n",
      "   macro avg       0.98      0.97      0.98      1290\n",
      "weighted avg       0.98      0.98      0.98      1290\n",
      "\n"
     ]
    }
   ],
   "source": [
    "print(classification_report(y_2d_validate, lin_pred))\n",
    "print(classification_report(y_2d_validate, rbf_pred))"
   ]
  },
  {
   "cell_type": "code",
   "execution_count": 19,
   "metadata": {},
   "outputs": [
    {
     "name": "stdout",
     "output_type": "stream",
     "text": [
      "[[209   0   0   1   0]\n",
      " [  0 150   0   0  25]\n",
      " [  0   0 228   0   0]\n",
      " [  1   0   0 344   0]\n",
      " [  0   5   0   0 327]]\n",
      "[[209   0   0   1   0]\n",
      " [  0 155   0   0  20]\n",
      " [  0   0 228   0   0]\n",
      " [  0   0   0 345   0]\n",
      " [  0   4   0   0 328]]\n"
     ]
    }
   ],
   "source": [
    "print(confusion_matrix(y_2d_validate, lin_pred))\n",
    "print(confusion_matrix(y_2d_validate, rbf_pred))"
   ]
  },
  {
   "cell_type": "code",
   "execution_count": 20,
   "metadata": {},
   "outputs": [],
   "source": [
    "lin_pred = SVC_lin.fit(X_2d_train, y_2d_train).predict(X_2d_test)\n",
    "rbf_pred = SVC_rbf.fit(X_2d_train, y_2d_train).predict(X_2d_test)"
   ]
  },
  {
   "cell_type": "code",
   "execution_count": 21,
   "metadata": {},
   "outputs": [
    {
     "name": "stdout",
     "output_type": "stream",
     "text": [
      "              precision    recall  f1-score   support\n",
      "\n",
      "           0       1.00      0.99      1.00       105\n",
      "           1       0.94      0.76      0.84        88\n",
      "           2       1.00      1.00      1.00       114\n",
      "           3       0.99      1.00      1.00       172\n",
      "           4       0.89      0.98      0.93       166\n",
      "\n",
      "    accuracy                           0.96       645\n",
      "   macro avg       0.96      0.95      0.95       645\n",
      "weighted avg       0.96      0.96      0.96       645\n",
      "\n",
      "              precision    recall  f1-score   support\n",
      "\n",
      "           0       1.00      0.99      1.00       105\n",
      "           1       0.97      0.78      0.87        88\n",
      "           2       1.00      1.00      1.00       114\n",
      "           3       0.99      1.00      1.00       172\n",
      "           4       0.90      0.99      0.94       166\n",
      "\n",
      "    accuracy                           0.97       645\n",
      "   macro avg       0.97      0.95      0.96       645\n",
      "weighted avg       0.97      0.97      0.96       645\n",
      "\n"
     ]
    }
   ],
   "source": [
    "print(classification_report(y_2d_test, lin_pred))\n",
    "print(classification_report(y_2d_test, rbf_pred))"
   ]
  },
  {
   "cell_type": "code",
   "execution_count": 22,
   "metadata": {},
   "outputs": [
    {
     "name": "stdout",
     "output_type": "stream",
     "text": [
      "[[104   0   0   1   0]\n",
      " [  0  67   0   0  21]\n",
      " [  0   0 114   0   0]\n",
      " [  0   0   0 172   0]\n",
      " [  0   4   0   0 162]]\n",
      "[[104   0   0   1   0]\n",
      " [  0  69   0   0  19]\n",
      " [  0   0 114   0   0]\n",
      " [  0   0   0 172   0]\n",
      " [  0   2   0   0 164]]\n"
     ]
    }
   ],
   "source": [
    "print(confusion_matrix(y_2d_test, lin_pred))\n",
    "print(confusion_matrix(y_2d_test, rbf_pred))"
   ]
  },
  {
   "cell_type": "markdown",
   "metadata": {},
   "source": [
    "# CNN"
   ]
  },
  {
   "cell_type": "code",
   "execution_count": 23,
   "metadata": {},
   "outputs": [],
   "source": [
    "mlp = MLPClassifier(hidden_layer_sizes=(30,30,30), max_iter=500, solver='sgd')"
   ]
  },
  {
   "cell_type": "code",
   "execution_count": 24,
   "metadata": {},
   "outputs": [
    {
     "ename": "SyntaxError",
     "evalue": "invalid syntax (<ipython-input-24-18cf30b86410>, line 7)",
     "output_type": "error",
     "traceback": [
      "\u001b[0;36m  File \u001b[0;32m\"<ipython-input-24-18cf30b86410>\"\u001b[0;36m, line \u001b[0;32m7\u001b[0m\n\u001b[0;31m    model.add(Conv2D(CNN_L,n kernel_size=Ker_size, activation=Act_func,input_shape=Input_shape,padding='same'))\u001b[0m\n\u001b[0m                                       ^\u001b[0m\n\u001b[0;31mSyntaxError\u001b[0m\u001b[0;31m:\u001b[0m invalid syntax\n"
     ]
    }
   ],
   "source": [
    "\n",
    "\n",
    "model = Sequential()\n",
    "\n",
    "model.add(Conv2D(CNN_L1, kernel_size=Ker_size, activation=Act_func, input_shape=Input_shape,padding='same'))\n",
    "model.add(MaxPooling2D(pool_size=P_size))\n",
    "model.add(Dropout(0.2))\n",
    "\n",
    "model.add(Conv2D(CNN_L,n kernel_size=Ker_size, activation=Act_func,input_shape=Input_shape,padding='same'))\n",
    "model.add(MaxPooling2D(pool_size=P_size))\n",
    "model.add(Dropout(0.2))\n",
    "\n",
    "model.add(Flatten())\n",
    "model.add(Dense(Dense_size , activation= Act_func ))\n",
    "model.add(Dense(#output_class, activation='sigmoid'))\n",
    "model.compile(loss='categorical_crossentropy',\n",
    "optimizer=optimizers.Adam(lr=0.001, beta_1=0.9, beta_2=0.999,\n",
    "amsgrad=False), metrics=['accuracy'])"
   ]
  },
  {
   "cell_type": "code",
   "execution_count": null,
   "metadata": {},
   "outputs": [],
   "source": [
    "mlp.fit(X_train, y_train)"
   ]
  },
  {
   "cell_type": "code",
   "execution_count": null,
   "metadata": {},
   "outputs": [],
   "source": [
    "mlp_pred = mlp.predict(X_test)"
   ]
  },
  {
   "cell_type": "code",
   "execution_count": null,
   "metadata": {},
   "outputs": [],
   "source": [
    "model.summary()\n",
    "history = model.fit(X_train,y_train, epochs=#Ep,batch_size=#Bs, validation_data=(X_test,y_test), verbose=1)"
   ]
  },
  {
   "cell_type": "code",
   "execution_count": null,
   "metadata": {},
   "outputs": [],
   "source": [
    "cnn_pred = model.predict(X_test)\n",
    "cnn_pred_single = [np.argmax(p) for p in cnn_pred]\n",
    "y_test_single = [np.argmax(p) for p in y_test]"
   ]
  },
  {
   "cell_type": "code",
   "execution_count": null,
   "metadata": {},
   "outputs": [],
   "source": [
    "classification_report(y_test, mlp_pred)"
   ]
  },
  {
   "cell_type": "code",
   "execution_count": null,
   "metadata": {},
   "outputs": [],
   "source": [
    "classification_report(y_test_single, cnn_pred_single)"
   ]
  },
  {
   "cell_type": "code",
   "execution_count": null,
   "metadata": {},
   "outputs": [],
   "source": [
    "confusion_matrix(y_test, mlp_pred)"
   ]
  },
  {
   "cell_type": "code",
   "execution_count": null,
   "metadata": {},
   "outputs": [],
   "source": [
    "confusion_matrix(y_test_single, cnn_pred_single)"
   ]
  },
  {
   "cell_type": "markdown",
   "metadata": {},
   "source": [
    "# Tune Paraameter"
   ]
  },
  {
   "cell_type": "code",
   "execution_count": null,
   "metadata": {},
   "outputs": [],
   "source": []
  }
 ],
 "metadata": {
  "kernelspec": {
   "display_name": "Python 3",
   "language": "python",
   "name": "python3"
  },
  "language_info": {
   "codemirror_mode": {
    "name": "ipython",
    "version": 3
   },
   "file_extension": ".py",
   "mimetype": "text/x-python",
   "name": "python",
   "nbconvert_exporter": "python",
   "pygments_lexer": "ipython3",
   "version": "3.7.4"
  }
 },
 "nbformat": 4,
 "nbformat_minor": 4
}
