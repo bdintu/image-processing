{
 "cells": [
  {
   "cell_type": "code",
   "execution_count": 1,
   "metadata": {},
   "outputs": [],
   "source": [
    "import numpy as np\n",
    "import pandas as pd\n",
    "import matplotlib.pyplot as plt\n",
    "\n",
    "from sklearn.model_selection import train_test_split, cross_val_score, StratifiedKFold, GridSearchCV\n",
    "from sklearn.preprocessing import LabelEncoder\n",
    "from sklearn.svm import SVC\n",
    "from sklearn.neural_network import MLPClassifier\n",
    "from sklearn.metrics import classification_report, confusion_matrix\n",
    "\n",
    "from tensorflow.keras.models import Sequential\n",
    "from tensorflow.keras.layers import Conv2D, MaxPooling2D, Flatten, Dense, Dropout\n",
    "from tensorflow.keras import optimizers\n",
    "from tensorflow.keras.wrappers.scikit_learn import KerasClassifier\n",
    "\n",
    "%matplotlib notebook"
   ]
  },
  {
   "cell_type": "markdown",
   "metadata": {},
   "source": [
    "# Preprocessing Data"
   ]
  },
  {
   "cell_type": "code",
   "execution_count": 2,
   "metadata": {},
   "outputs": [
    {
     "data": {
      "text/html": [
       "<div>\n",
       "<style scoped>\n",
       "    .dataframe tbody tr th:only-of-type {\n",
       "        vertical-align: middle;\n",
       "    }\n",
       "\n",
       "    .dataframe tbody tr th {\n",
       "        vertical-align: top;\n",
       "    }\n",
       "\n",
       "    .dataframe thead th {\n",
       "        text-align: right;\n",
       "    }\n",
       "</style>\n",
       "<table border=\"1\" class=\"dataframe\">\n",
       "  <thead>\n",
       "    <tr style=\"text-align: right;\">\n",
       "      <th></th>\n",
       "      <th>nose_x</th>\n",
       "      <th>nose_y</th>\n",
       "      <th>neck_x</th>\n",
       "      <th>neck_y</th>\n",
       "      <th>Rshoulder_x</th>\n",
       "      <th>Rshoulder_y</th>\n",
       "      <th>Relbow_x</th>\n",
       "      <th>Relbow_y</th>\n",
       "      <th>Rwrist_x</th>\n",
       "      <th>RWrist_y</th>\n",
       "      <th>...</th>\n",
       "      <th>LAnkle_y</th>\n",
       "      <th>REye_x</th>\n",
       "      <th>REye_y</th>\n",
       "      <th>LEye_x</th>\n",
       "      <th>LEye_y</th>\n",
       "      <th>REar_x</th>\n",
       "      <th>REar_y</th>\n",
       "      <th>LEar_x</th>\n",
       "      <th>LEar_y</th>\n",
       "      <th>class</th>\n",
       "    </tr>\n",
       "  </thead>\n",
       "  <tbody>\n",
       "    <tr>\n",
       "      <th>0</th>\n",
       "      <td>0.643519</td>\n",
       "      <td>0.157609</td>\n",
       "      <td>0.634259</td>\n",
       "      <td>0.250000</td>\n",
       "      <td>0.587963</td>\n",
       "      <td>0.244565</td>\n",
       "      <td>0.555556</td>\n",
       "      <td>0.342391</td>\n",
       "      <td>0.550926</td>\n",
       "      <td>0.434783</td>\n",
       "      <td>...</td>\n",
       "      <td>0.755435</td>\n",
       "      <td>0.629630</td>\n",
       "      <td>0.146739</td>\n",
       "      <td>0.652778</td>\n",
       "      <td>0.146739</td>\n",
       "      <td>0.615741</td>\n",
       "      <td>0.157609</td>\n",
       "      <td>0.666667</td>\n",
       "      <td>0.152174</td>\n",
       "      <td>kick</td>\n",
       "    </tr>\n",
       "    <tr>\n",
       "      <th>1</th>\n",
       "      <td>0.643519</td>\n",
       "      <td>0.157609</td>\n",
       "      <td>0.634259</td>\n",
       "      <td>0.250000</td>\n",
       "      <td>0.587963</td>\n",
       "      <td>0.244565</td>\n",
       "      <td>0.560185</td>\n",
       "      <td>0.342391</td>\n",
       "      <td>0.555556</td>\n",
       "      <td>0.429348</td>\n",
       "      <td>...</td>\n",
       "      <td>0.766304</td>\n",
       "      <td>0.629630</td>\n",
       "      <td>0.146739</td>\n",
       "      <td>0.652778</td>\n",
       "      <td>0.146739</td>\n",
       "      <td>0.615741</td>\n",
       "      <td>0.157609</td>\n",
       "      <td>0.666667</td>\n",
       "      <td>0.152174</td>\n",
       "      <td>kick</td>\n",
       "    </tr>\n",
       "    <tr>\n",
       "      <th>2</th>\n",
       "      <td>0.643519</td>\n",
       "      <td>0.157609</td>\n",
       "      <td>0.638889</td>\n",
       "      <td>0.250000</td>\n",
       "      <td>0.587963</td>\n",
       "      <td>0.244565</td>\n",
       "      <td>0.560185</td>\n",
       "      <td>0.342391</td>\n",
       "      <td>0.555556</td>\n",
       "      <td>0.429348</td>\n",
       "      <td>...</td>\n",
       "      <td>0.760870</td>\n",
       "      <td>0.634259</td>\n",
       "      <td>0.146739</td>\n",
       "      <td>0.652778</td>\n",
       "      <td>0.146739</td>\n",
       "      <td>0.615741</td>\n",
       "      <td>0.157609</td>\n",
       "      <td>0.671296</td>\n",
       "      <td>0.152174</td>\n",
       "      <td>kick</td>\n",
       "    </tr>\n",
       "    <tr>\n",
       "      <th>3</th>\n",
       "      <td>0.643519</td>\n",
       "      <td>0.157609</td>\n",
       "      <td>0.638889</td>\n",
       "      <td>0.250000</td>\n",
       "      <td>0.587963</td>\n",
       "      <td>0.244565</td>\n",
       "      <td>0.560185</td>\n",
       "      <td>0.342391</td>\n",
       "      <td>0.555556</td>\n",
       "      <td>0.429348</td>\n",
       "      <td>...</td>\n",
       "      <td>0.755435</td>\n",
       "      <td>0.629630</td>\n",
       "      <td>0.146739</td>\n",
       "      <td>0.652778</td>\n",
       "      <td>0.146739</td>\n",
       "      <td>0.615741</td>\n",
       "      <td>0.157609</td>\n",
       "      <td>0.666667</td>\n",
       "      <td>0.152174</td>\n",
       "      <td>kick</td>\n",
       "    </tr>\n",
       "    <tr>\n",
       "      <th>4</th>\n",
       "      <td>0.643519</td>\n",
       "      <td>0.157609</td>\n",
       "      <td>0.638889</td>\n",
       "      <td>0.250000</td>\n",
       "      <td>0.587963</td>\n",
       "      <td>0.244565</td>\n",
       "      <td>0.560185</td>\n",
       "      <td>0.342391</td>\n",
       "      <td>0.555556</td>\n",
       "      <td>0.429348</td>\n",
       "      <td>...</td>\n",
       "      <td>0.760870</td>\n",
       "      <td>0.629630</td>\n",
       "      <td>0.146739</td>\n",
       "      <td>0.652778</td>\n",
       "      <td>0.146739</td>\n",
       "      <td>0.615741</td>\n",
       "      <td>0.157609</td>\n",
       "      <td>0.666667</td>\n",
       "      <td>0.152174</td>\n",
       "      <td>kick</td>\n",
       "    </tr>\n",
       "    <tr>\n",
       "      <th>...</th>\n",
       "      <td>...</td>\n",
       "      <td>...</td>\n",
       "      <td>...</td>\n",
       "      <td>...</td>\n",
       "      <td>...</td>\n",
       "      <td>...</td>\n",
       "      <td>...</td>\n",
       "      <td>...</td>\n",
       "      <td>...</td>\n",
       "      <td>...</td>\n",
       "      <td>...</td>\n",
       "      <td>...</td>\n",
       "      <td>...</td>\n",
       "      <td>...</td>\n",
       "      <td>...</td>\n",
       "      <td>...</td>\n",
       "      <td>...</td>\n",
       "      <td>...</td>\n",
       "      <td>...</td>\n",
       "      <td>...</td>\n",
       "      <td>...</td>\n",
       "    </tr>\n",
       "    <tr>\n",
       "      <th>3219</th>\n",
       "      <td>0.587963</td>\n",
       "      <td>0.152174</td>\n",
       "      <td>0.587963</td>\n",
       "      <td>0.233696</td>\n",
       "      <td>0.541667</td>\n",
       "      <td>0.217391</td>\n",
       "      <td>0.500000</td>\n",
       "      <td>0.163043</td>\n",
       "      <td>0.486111</td>\n",
       "      <td>0.092391</td>\n",
       "      <td>...</td>\n",
       "      <td>0.755435</td>\n",
       "      <td>0.578704</td>\n",
       "      <td>0.141304</td>\n",
       "      <td>0.597222</td>\n",
       "      <td>0.141304</td>\n",
       "      <td>0.564815</td>\n",
       "      <td>0.152174</td>\n",
       "      <td>0.620370</td>\n",
       "      <td>0.146739</td>\n",
       "      <td>wave</td>\n",
       "    </tr>\n",
       "    <tr>\n",
       "      <th>3220</th>\n",
       "      <td>0.583333</td>\n",
       "      <td>0.157609</td>\n",
       "      <td>0.587963</td>\n",
       "      <td>0.233696</td>\n",
       "      <td>0.541667</td>\n",
       "      <td>0.222826</td>\n",
       "      <td>0.490741</td>\n",
       "      <td>0.179348</td>\n",
       "      <td>0.458333</td>\n",
       "      <td>0.114130</td>\n",
       "      <td>...</td>\n",
       "      <td>0.755435</td>\n",
       "      <td>0.574074</td>\n",
       "      <td>0.141304</td>\n",
       "      <td>0.597222</td>\n",
       "      <td>0.141304</td>\n",
       "      <td>0.564815</td>\n",
       "      <td>0.152174</td>\n",
       "      <td>0.615741</td>\n",
       "      <td>0.146739</td>\n",
       "      <td>wave</td>\n",
       "    </tr>\n",
       "    <tr>\n",
       "      <th>3221</th>\n",
       "      <td>0.583333</td>\n",
       "      <td>0.157609</td>\n",
       "      <td>0.587963</td>\n",
       "      <td>0.228261</td>\n",
       "      <td>0.537037</td>\n",
       "      <td>0.222826</td>\n",
       "      <td>0.481481</td>\n",
       "      <td>0.179348</td>\n",
       "      <td>0.439815</td>\n",
       "      <td>0.108696</td>\n",
       "      <td>...</td>\n",
       "      <td>0.755435</td>\n",
       "      <td>0.574074</td>\n",
       "      <td>0.141304</td>\n",
       "      <td>0.000000</td>\n",
       "      <td>0.000000</td>\n",
       "      <td>0.560185</td>\n",
       "      <td>0.146739</td>\n",
       "      <td>0.615741</td>\n",
       "      <td>0.146739</td>\n",
       "      <td>wave</td>\n",
       "    </tr>\n",
       "    <tr>\n",
       "      <th>3222</th>\n",
       "      <td>0.578704</td>\n",
       "      <td>0.157609</td>\n",
       "      <td>0.583333</td>\n",
       "      <td>0.228261</td>\n",
       "      <td>0.532407</td>\n",
       "      <td>0.222826</td>\n",
       "      <td>0.476852</td>\n",
       "      <td>0.184783</td>\n",
       "      <td>0.421296</td>\n",
       "      <td>0.125000</td>\n",
       "      <td>...</td>\n",
       "      <td>0.755435</td>\n",
       "      <td>0.569444</td>\n",
       "      <td>0.146739</td>\n",
       "      <td>0.592593</td>\n",
       "      <td>0.141304</td>\n",
       "      <td>0.560185</td>\n",
       "      <td>0.152174</td>\n",
       "      <td>0.611111</td>\n",
       "      <td>0.146739</td>\n",
       "      <td>wave</td>\n",
       "    </tr>\n",
       "    <tr>\n",
       "      <th>3223</th>\n",
       "      <td>0.574074</td>\n",
       "      <td>0.157609</td>\n",
       "      <td>0.583333</td>\n",
       "      <td>0.228261</td>\n",
       "      <td>0.532407</td>\n",
       "      <td>0.222826</td>\n",
       "      <td>0.476852</td>\n",
       "      <td>0.190217</td>\n",
       "      <td>0.412037</td>\n",
       "      <td>0.130435</td>\n",
       "      <td>...</td>\n",
       "      <td>0.750000</td>\n",
       "      <td>0.564815</td>\n",
       "      <td>0.146739</td>\n",
       "      <td>0.583333</td>\n",
       "      <td>0.141304</td>\n",
       "      <td>0.555556</td>\n",
       "      <td>0.152174</td>\n",
       "      <td>0.606481</td>\n",
       "      <td>0.146739</td>\n",
       "      <td>wave</td>\n",
       "    </tr>\n",
       "  </tbody>\n",
       "</table>\n",
       "<p>3224 rows × 37 columns</p>\n",
       "</div>"
      ],
      "text/plain": [
       "        nose_x    nose_y    neck_x    neck_y  Rshoulder_x  Rshoulder_y  \\\n",
       "0     0.643519  0.157609  0.634259  0.250000     0.587963     0.244565   \n",
       "1     0.643519  0.157609  0.634259  0.250000     0.587963     0.244565   \n",
       "2     0.643519  0.157609  0.638889  0.250000     0.587963     0.244565   \n",
       "3     0.643519  0.157609  0.638889  0.250000     0.587963     0.244565   \n",
       "4     0.643519  0.157609  0.638889  0.250000     0.587963     0.244565   \n",
       "...        ...       ...       ...       ...          ...          ...   \n",
       "3219  0.587963  0.152174  0.587963  0.233696     0.541667     0.217391   \n",
       "3220  0.583333  0.157609  0.587963  0.233696     0.541667     0.222826   \n",
       "3221  0.583333  0.157609  0.587963  0.228261     0.537037     0.222826   \n",
       "3222  0.578704  0.157609  0.583333  0.228261     0.532407     0.222826   \n",
       "3223  0.574074  0.157609  0.583333  0.228261     0.532407     0.222826   \n",
       "\n",
       "      Relbow_x  Relbow_y  Rwrist_x  RWrist_y  ...  LAnkle_y    REye_x  \\\n",
       "0     0.555556  0.342391  0.550926  0.434783  ...  0.755435  0.629630   \n",
       "1     0.560185  0.342391  0.555556  0.429348  ...  0.766304  0.629630   \n",
       "2     0.560185  0.342391  0.555556  0.429348  ...  0.760870  0.634259   \n",
       "3     0.560185  0.342391  0.555556  0.429348  ...  0.755435  0.629630   \n",
       "4     0.560185  0.342391  0.555556  0.429348  ...  0.760870  0.629630   \n",
       "...        ...       ...       ...       ...  ...       ...       ...   \n",
       "3219  0.500000  0.163043  0.486111  0.092391  ...  0.755435  0.578704   \n",
       "3220  0.490741  0.179348  0.458333  0.114130  ...  0.755435  0.574074   \n",
       "3221  0.481481  0.179348  0.439815  0.108696  ...  0.755435  0.574074   \n",
       "3222  0.476852  0.184783  0.421296  0.125000  ...  0.755435  0.569444   \n",
       "3223  0.476852  0.190217  0.412037  0.130435  ...  0.750000  0.564815   \n",
       "\n",
       "        REye_y    LEye_x    LEye_y    REar_x    REar_y    LEar_x    LEar_y  \\\n",
       "0     0.146739  0.652778  0.146739  0.615741  0.157609  0.666667  0.152174   \n",
       "1     0.146739  0.652778  0.146739  0.615741  0.157609  0.666667  0.152174   \n",
       "2     0.146739  0.652778  0.146739  0.615741  0.157609  0.671296  0.152174   \n",
       "3     0.146739  0.652778  0.146739  0.615741  0.157609  0.666667  0.152174   \n",
       "4     0.146739  0.652778  0.146739  0.615741  0.157609  0.666667  0.152174   \n",
       "...        ...       ...       ...       ...       ...       ...       ...   \n",
       "3219  0.141304  0.597222  0.141304  0.564815  0.152174  0.620370  0.146739   \n",
       "3220  0.141304  0.597222  0.141304  0.564815  0.152174  0.615741  0.146739   \n",
       "3221  0.141304  0.000000  0.000000  0.560185  0.146739  0.615741  0.146739   \n",
       "3222  0.146739  0.592593  0.141304  0.560185  0.152174  0.611111  0.146739   \n",
       "3223  0.146739  0.583333  0.141304  0.555556  0.152174  0.606481  0.146739   \n",
       "\n",
       "      class  \n",
       "0      kick  \n",
       "1      kick  \n",
       "2      kick  \n",
       "3      kick  \n",
       "4      kick  \n",
       "...     ...  \n",
       "3219   wave  \n",
       "3220   wave  \n",
       "3221   wave  \n",
       "3222   wave  \n",
       "3223   wave  \n",
       "\n",
       "[3224 rows x 37 columns]"
      ]
     },
     "execution_count": 2,
     "metadata": {},
     "output_type": "execute_result"
    }
   ],
   "source": [
    "df = pd.read_csv('data/skeleton_filtered.csv')\n",
    "\n",
    "df"
   ]
  },
  {
   "cell_type": "code",
   "execution_count": 3,
   "metadata": {},
   "outputs": [
    {
     "data": {
      "text/plain": [
       "(['kick', 'stand', 'wave'], 3)"
      ]
     },
     "execution_count": 3,
     "metadata": {},
     "output_type": "execute_result"
    }
   ],
   "source": [
    "# activity = df['class'].drop_duplicates().to_list()\n",
    "activity = ['kick', 'stand', 'wave']\n",
    "num_classes = len(activity)\n",
    "\n",
    "activity, num_classes"
   ]
  },
  {
   "cell_type": "code",
   "execution_count": 4,
   "metadata": {},
   "outputs": [],
   "source": [
    "df = df[df['class'].isin(activity)]"
   ]
  },
  {
   "cell_type": "code",
   "execution_count": 5,
   "metadata": {},
   "outputs": [
    {
     "data": {
      "text/plain": [
       "array([['kick', 525],\n",
       "       ['stand', 861],\n",
       "       ['wave', 829]], dtype=object)"
      ]
     },
     "execution_count": 5,
     "metadata": {},
     "output_type": "execute_result"
    }
   ],
   "source": [
    "unique, counts = np.unique(df['class'], return_counts=True)\n",
    "itemfreq = np.vstack((unique, counts)).T\n",
    "\n",
    "itemfreq"
   ]
  },
  {
   "cell_type": "code",
   "execution_count": 6,
   "metadata": {},
   "outputs": [
    {
     "data": {
      "text/plain": [
       "(2215, 36)"
      ]
     },
     "execution_count": 6,
     "metadata": {},
     "output_type": "execute_result"
    }
   ],
   "source": [
    "X_2d = df.iloc[:,:-1].to_numpy()\n",
    "\n",
    "X_2d.shape"
   ]
  },
  {
   "cell_type": "code",
   "execution_count": 7,
   "metadata": {},
   "outputs": [
    {
     "data": {
      "text/plain": [
       "(2215,)"
      ]
     },
     "execution_count": 7,
     "metadata": {},
     "output_type": "execute_result"
    }
   ],
   "source": [
    "y_2d = df['class'].to_numpy()\n",
    "\n",
    "y_2d.shape"
   ]
  },
  {
   "cell_type": "code",
   "execution_count": 8,
   "metadata": {},
   "outputs": [],
   "source": [
    "label_2d = LabelEncoder().fit_transform(y_2d)"
   ]
  },
  {
   "cell_type": "code",
   "execution_count": 9,
   "metadata": {},
   "outputs": [
    {
     "data": {
      "text/plain": [
       "((886, 36), (886, 36), (443, 36), (886,), (886,), (443,))"
      ]
     },
     "execution_count": 9,
     "metadata": {},
     "output_type": "execute_result"
    }
   ],
   "source": [
    "train_size = 0.8\n",
    "test_size = 0.2\n",
    "random_state = 0\n",
    "X_2d_train_temp, X_2d_test, y_2d_train_temp, y_2d_test = train_test_split(X_2d, label_2d, train_size=train_size, test_size=test_size, random_state=random_state, stratify=label_2d)\n",
    "\n",
    "train_size_temp = 0.5\n",
    "validate_size = 0.5\n",
    "X_2d_train, X_2d_validate, y_2d_train, y_2d_validate = train_test_split(X_2d_train_temp, y_2d_train_temp, train_size=train_size_temp, test_size=validate_size, random_state=random_state, stratify=y_2d_train_temp)\n",
    "\n",
    "X_2d_train.shape, X_2d_validate.shape, X_2d_test.shape, y_2d_train.shape, y_2d_validate.shape, y_2d_test.shape"
   ]
  },
  {
   "cell_type": "code",
   "execution_count": 10,
   "metadata": {},
   "outputs": [],
   "source": [
    "def process_create_WindowTimeSeries(activity, df, activity_start, activity_len, time_window, n_feature, step_stride):\n",
    "    df_series = df[df['class'] == activity].iloc[:,:-1][activity_start:(activity_start+activity_len)]\n",
    "    segments = []\n",
    "    labels = []\n",
    "\n",
    "    for i in range(0, df_series.shape[0] - time_window, step_stride):\n",
    "        df_series_feature = df_series.iloc[i: i + time_window]\n",
    "        segments.append(df_series_feature.to_numpy())\n",
    "\n",
    "    segments = np.asarray(segments)\n",
    "    reshaped_segments = np.asarray(segments, dtype= np.float32).reshape(-1, time_window, n_feature, 1)\n",
    "\n",
    "    labels = np.repeat(activity, reshaped_segments.shape[0])\n",
    "\n",
    "    return reshaped_segments, labels"
   ]
  },
  {
   "cell_type": "code",
   "execution_count": 11,
   "metadata": {},
   "outputs": [
    {
     "data": {
      "text/plain": [
       "((193, 100, 36, 1), (193,))"
      ]
     },
     "execution_count": 11,
     "metadata": {},
     "output_type": "execute_result"
    }
   ],
   "source": [
    "activity_start = 0\n",
    "activity_len = df.shape[0]\n",
    "time_window = 100\n",
    "n_feature = 36\n",
    "step_stride = 10\n",
    "\n",
    "X_3d = []\n",
    "y_3d = []\n",
    "\n",
    "for i in activity:\n",
    "    reshaped_segments, labels = process_create_WindowTimeSeries(i, df, activity_start, activity_len, time_window, n_feature, step_stride)\n",
    "    X_3d.append(reshaped_segments)\n",
    "    y_3d.append(labels)\n",
    "    \n",
    "X_3d = np.concatenate(X_3d)\n",
    "y_3d = np.concatenate(y_3d)\n",
    "\n",
    "X_3d.shape, y_3d.shape"
   ]
  },
  {
   "cell_type": "code",
   "execution_count": 12,
   "metadata": {},
   "outputs": [],
   "source": [
    "label_3d = LabelEncoder().fit_transform(y_3d)\n",
    "\n",
    "onehot_3d = np.zeros((label_3d.shape[0], num_classes))\n",
    "onehot_3d[np.arange(label_3d.shape[0]), label_3d] = 1"
   ]
  },
  {
   "cell_type": "code",
   "execution_count": 13,
   "metadata": {},
   "outputs": [
    {
     "data": {
      "text/plain": [
       "((77, 100, 36, 1),\n",
       " (77, 100, 36, 1),\n",
       " (39, 100, 36, 1),\n",
       " (77, 3),\n",
       " (77, 3),\n",
       " (39, 3))"
      ]
     },
     "execution_count": 13,
     "metadata": {},
     "output_type": "execute_result"
    }
   ],
   "source": [
    "X_3d_train_temp, X_3d_test, y_3d_train_temp, y_3d_test = train_test_split(X_3d, onehot_3d, train_size=train_size, test_size=test_size, random_state=random_state, stratify=onehot_3d)\n",
    "X_3d_train, X_3d_validate, y_3d_train, y_3d_validate = train_test_split(X_3d_train_temp, y_3d_train_temp, train_size=train_size_temp, test_size=validate_size, random_state=random_state, stratify=y_3d_train_temp)\n",
    "\n",
    "X_3d_train.shape, X_3d_validate.shape, X_3d_test.shape, y_3d_train.shape, y_3d_validate.shape, y_3d_test.shape"
   ]
  },
  {
   "cell_type": "markdown",
   "metadata": {},
   "source": [
    "# SVC"
   ]
  },
  {
   "cell_type": "code",
   "execution_count": 14,
   "metadata": {},
   "outputs": [],
   "source": [
    "k = 10\n",
    "seed = random_state\n",
    "\n",
    "skfold = StratifiedKFold(n_splits=k, shuffle=True, random_state=seed)"
   ]
  },
  {
   "cell_type": "code",
   "execution_count": 15,
   "metadata": {},
   "outputs": [],
   "source": [
    "c_val = 100\n",
    "gmm = 0.1\n",
    "\n",
    "SVC_lin = SVC(kernel='linear', C=c_val)\n",
    "SVC_rbf = SVC(kernel='rbf', C=c_val, gamma=gmm)"
   ]
  },
  {
   "cell_type": "code",
   "execution_count": 16,
   "metadata": {},
   "outputs": [],
   "source": [
    "score_lin = cross_val_score(SVC_lin, X_2d_train, y_2d_train, cv=skfold)\n",
    "score_rbf = cross_val_score(SVC_rbf, X_2d_train, y_2d_train, cv=skfold)"
   ]
  },
  {
   "cell_type": "code",
   "execution_count": 17,
   "metadata": {},
   "outputs": [
    {
     "data": {
      "text/plain": [
       "<matplotlib.axes._subplots.AxesSubplot at 0x7fbab725be10>"
      ]
     },
     "execution_count": 17,
     "metadata": {},
     "output_type": "execute_result"
    },
    {
     "data": {
      "image/png": "[encoded data removed]",
      "text/plain": [
       "<Figure size 432x288 with 1 Axes>"
      ]
     },
     "metadata": {
      "needs_background": "light"
     },
     "output_type": "display_data"
    }
   ],
   "source": [
    "score_all = pd.DataFrame({'SVC_linear':score_lin, 'SVC_rbf': score_rbf })\n",
    "score_all.plot()"
   ]
  },
  {
   "cell_type": "code",
   "execution_count": 18,
   "metadata": {},
   "outputs": [],
   "source": [
    "lin_valid = SVC_lin.fit(X_2d_train, y_2d_train).predict(X_2d_validate)\n",
    "rbf_valid = SVC_rbf.fit(X_2d_train, y_2d_train).predict(X_2d_validate)"
   ]
  },
  {
   "cell_type": "code",
   "execution_count": 19,
   "metadata": {},
   "outputs": [
    {
     "name": "stdout",
     "output_type": "stream",
     "text": [
      "              precision    recall  f1-score   support\n",
      "\n",
      "           0       1.00      0.99      0.99       210\n",
      "           1       0.99      1.00      1.00       345\n",
      "           2       1.00      1.00      1.00       331\n",
      "\n",
      "    accuracy                           1.00       886\n",
      "   macro avg       1.00      1.00      1.00       886\n",
      "weighted avg       1.00      1.00      1.00       886\n",
      "\n",
      "              precision    recall  f1-score   support\n",
      "\n",
      "           0       1.00      0.99      0.99       210\n",
      "           1       0.99      1.00      0.99       345\n",
      "           2       1.00      1.00      1.00       331\n",
      "\n",
      "    accuracy                           1.00       886\n",
      "   macro avg       1.00      0.99      0.99       886\n",
      "weighted avg       1.00      1.00      1.00       886\n",
      "\n"
     ]
    }
   ],
   "source": [
    "print(classification_report(y_2d_validate, lin_valid))\n",
    "print(classification_report(y_2d_validate, rbf_valid))"
   ]
  },
  {
   "cell_type": "code",
   "execution_count": 20,
   "metadata": {},
   "outputs": [
    {
     "name": "stdout",
     "output_type": "stream",
     "text": [
      "[[207   3   0]\n",
      " [  0 345   0]\n",
      " [  0   0 331]]\n",
      "[[207   3   0]\n",
      " [  1 344   0]\n",
      " [  0   0 331]]\n"
     ]
    }
   ],
   "source": [
    "print(confusion_matrix(y_2d_validate, lin_valid))\n",
    "print(confusion_matrix(y_2d_validate, rbf_valid))"
   ]
  },
  {
   "cell_type": "code",
   "execution_count": 21,
   "metadata": {},
   "outputs": [],
   "source": [
    "lin_test = SVC_lin.fit(X_2d_train, y_2d_train).predict(X_2d_test)\n",
    "rbf_test = SVC_rbf.fit(X_2d_train, y_2d_train).predict(X_2d_test)"
   ]
  },
  {
   "cell_type": "code",
   "execution_count": 22,
   "metadata": {},
   "outputs": [
    {
     "name": "stdout",
     "output_type": "stream",
     "text": [
      "              precision    recall  f1-score   support\n",
      "\n",
      "           0       0.99      0.99      0.99       105\n",
      "           1       0.99      0.99      0.99       172\n",
      "           2       1.00      1.00      1.00       166\n",
      "\n",
      "    accuracy                           1.00       443\n",
      "   macro avg       0.99      0.99      0.99       443\n",
      "weighted avg       1.00      1.00      1.00       443\n",
      "\n",
      "              precision    recall  f1-score   support\n",
      "\n",
      "           0       1.00      0.99      1.00       105\n",
      "           1       0.99      1.00      1.00       172\n",
      "           2       1.00      1.00      1.00       166\n",
      "\n",
      "    accuracy                           1.00       443\n",
      "   macro avg       1.00      1.00      1.00       443\n",
      "weighted avg       1.00      1.00      1.00       443\n",
      "\n"
     ]
    }
   ],
   "source": [
    "print(classification_report(y_2d_test, lin_test))\n",
    "print(classification_report(y_2d_test, rbf_test))"
   ]
  },
  {
   "cell_type": "code",
   "execution_count": 23,
   "metadata": {},
   "outputs": [
    {
     "name": "stdout",
     "output_type": "stream",
     "text": [
      "[[104   1   0]\n",
      " [  1 171   0]\n",
      " [  0   0 166]]\n",
      "[[104   1   0]\n",
      " [  0 172   0]\n",
      " [  0   0 166]]\n"
     ]
    }
   ],
   "source": [
    "print(confusion_matrix(y_2d_test, lin_test))\n",
    "print(confusion_matrix(y_2d_test, rbf_test))"
   ]
  },
  {
   "cell_type": "markdown",
   "metadata": {},
   "source": [
    "# CNN"
   ]
  },
  {
   "cell_type": "code",
   "execution_count": 24,
   "metadata": {},
   "outputs": [],
   "source": [
    "mlp = MLPClassifier(hidden_layer_sizes=(30,30,30), max_iter=500, solver='sgd')"
   ]
  },
  {
   "cell_type": "code",
   "execution_count": 25,
   "metadata": {},
   "outputs": [
    {
     "name": "stderr",
     "output_type": "stream",
     "text": [
      "/usr/local/lib/python3.6/dist-packages/sklearn/neural_network/multilayer_perceptron.py:566: ConvergenceWarning: Stochastic Optimizer: Maximum iterations (500) reached and the optimization hasn't converged yet.\n",
      "  % self.max_iter, ConvergenceWarning)\n"
     ]
    },
    {
     "data": {
      "text/plain": [
       "MLPClassifier(activation='relu', alpha=0.0001, batch_size='auto', beta_1=0.9,\n",
       "              beta_2=0.999, early_stopping=False, epsilon=1e-08,\n",
       "              hidden_layer_sizes=(30, 30, 30), learning_rate='constant',\n",
       "              learning_rate_init=0.001, max_iter=500, momentum=0.9,\n",
       "              n_iter_no_change=10, nesterovs_momentum=True, power_t=0.5,\n",
       "              random_state=None, shuffle=True, solver='sgd', tol=0.0001,\n",
       "              validation_fraction=0.1, verbose=False, warm_start=False)"
      ]
     },
     "execution_count": 25,
     "metadata": {},
     "output_type": "execute_result"
    }
   ],
   "source": [
    "mlp.fit(X_2d_train, y_2d_train)"
   ]
  },
  {
   "cell_type": "code",
   "execution_count": 26,
   "metadata": {},
   "outputs": [],
   "source": [
    "mlp_valid = mlp.predict(X_2d_validate)"
   ]
  },
  {
   "cell_type": "code",
   "execution_count": 27,
   "metadata": {},
   "outputs": [],
   "source": [
    "def create_model():\n",
    "    Input_shape = X_3d_train.shape[1:]\n",
    "\n",
    "    model = Sequential()\n",
    "\n",
    "    model.add(Conv2D(64, kernel_size=(3, 3), activation='relu', input_shape=Input_shape, padding='same'))\n",
    "    model.add(MaxPooling2D(pool_size=(2, 2), strides=(2,2)))\n",
    "\n",
    "    model.add(Conv2D(128, kernel_size=(3, 3), activation='relu', padding='same'))\n",
    "    model.add(MaxPooling2D(pool_size=(2, 2), strides=(2,2)))\n",
    "\n",
    "    model.add(Conv2D(256, kernel_size=(3, 3), activation='relu', padding='same'))\n",
    "    model.add(MaxPooling2D(pool_size=(2, 2), strides=(2,2)))\n",
    "\n",
    "    model.add(Flatten())\n",
    "\n",
    "    model.add(Dense(512, activation='relu'))\n",
    "    model.add(Dropout(0.2))\n",
    "\n",
    "    model.add(Dense(512, activation='relu'))\n",
    "    model.add(Dropout(0.2))\n",
    "\n",
    "    model.add(Dense(num_classes, activation='sigmoid'))\n",
    "    \n",
    "    return model"
   ]
  },
  {
   "cell_type": "code",
   "execution_count": 28,
   "metadata": {},
   "outputs": [
    {
     "name": "stdout",
     "output_type": "stream",
     "text": [
      "WARNING:tensorflow:From /usr/local/lib/python3.6/dist-packages/tensorflow_core/python/ops/resource_variable_ops.py:1630: calling BaseResourceVariable.__init__ (from tensorflow.python.ops.resource_variable_ops) with constraint is deprecated and will be removed in a future version.\n",
      "Instructions for updating:\n",
      "If using Keras pass *_constraint arguments to layers.\n",
      "Model: \"sequential\"\n",
      "_________________________________________________________________\n",
      "Layer (type)                 Output Shape              Param #   \n",
      "=================================================================\n",
      "conv2d (Conv2D)              (None, 100, 36, 64)       640       \n",
      "_________________________________________________________________\n",
      "max_pooling2d (MaxPooling2D) (None, 50, 18, 64)        0         \n",
      "_________________________________________________________________\n",
      "conv2d_1 (Conv2D)            (None, 50, 18, 128)       73856     \n",
      "_________________________________________________________________\n",
      "max_pooling2d_1 (MaxPooling2 (None, 25, 9, 128)        0         \n",
      "_________________________________________________________________\n",
      "conv2d_2 (Conv2D)            (None, 25, 9, 256)        295168    \n",
      "_________________________________________________________________\n",
      "max_pooling2d_2 (MaxPooling2 (None, 12, 4, 256)        0         \n",
      "_________________________________________________________________\n",
      "flatten (Flatten)            (None, 12288)             0         \n",
      "_________________________________________________________________\n",
      "dense (Dense)                (None, 512)               6291968   \n",
      "_________________________________________________________________\n",
      "dropout (Dropout)            (None, 512)               0         \n",
      "_________________________________________________________________\n",
      "dense_1 (Dense)              (None, 512)               262656    \n",
      "_________________________________________________________________\n",
      "dropout_1 (Dropout)          (None, 512)               0         \n",
      "_________________________________________________________________\n",
      "dense_2 (Dense)              (None, 3)                 1539      \n",
      "=================================================================\n",
      "Total params: 6,925,827\n",
      "Trainable params: 6,925,827\n",
      "Non-trainable params: 0\n",
      "_________________________________________________________________\n"
     ]
    }
   ],
   "source": [
    "model = create_model()\n",
    "model.compile(loss='categorical_crossentropy', \n",
    "              optimizer=optimizers.Adam(lr=0.001, beta_1=0.9, beta_2=0.999, amsgrad=False),\n",
    "              metrics=['accuracy'])\n",
    "\n",
    "model.summary()"
   ]
  },
  {
   "cell_type": "code",
   "execution_count": 29,
   "metadata": {},
   "outputs": [
    {
     "name": "stdout",
     "output_type": "stream",
     "text": [
      "(77, 100, 36, 1)\n",
      "(77, 3)\n",
      "WARNING:tensorflow:From /usr/local/lib/python3.6/dist-packages/tensorflow_core/python/ops/math_grad.py:1424: where (from tensorflow.python.ops.array_ops) is deprecated and will be removed in a future version.\n",
      "Instructions for updating:\n",
      "Use tf.where in 2.0, which has the same broadcast rule as np.where\n",
      "Train on 77 samples, validate on 77 samples\n",
      "Epoch 1/30\n",
      "77/77 [==============================] - 1s 9ms/sample - loss: 1.1122 - acc: 0.3117 - val_loss: 1.0811 - val_acc: 0.4026\n",
      "Epoch 2/30\n",
      "77/77 [==============================] - 0s 6ms/sample - loss: 1.0847 - acc: 0.3896 - val_loss: 1.0788 - val_acc: 0.4026\n",
      "Epoch 3/30\n",
      "77/77 [==============================] - 0s 5ms/sample - loss: 1.0769 - acc: 0.3896 - val_loss: 1.0649 - val_acc: 0.3766\n",
      "Epoch 4/30\n",
      "77/77 [==============================] - 0s 6ms/sample - loss: 1.0530 - acc: 0.4416 - val_loss: 1.0716 - val_acc: 0.5065\n",
      "Epoch 5/30\n",
      "77/77 [==============================] - 0s 5ms/sample - loss: 1.0599 - acc: 0.5844 - val_loss: 1.0310 - val_acc: 0.7143\n",
      "Epoch 6/30\n",
      "77/77 [==============================] - 0s 5ms/sample - loss: 1.0155 - acc: 0.6623 - val_loss: 1.0218 - val_acc: 0.7792\n",
      "Epoch 7/30\n",
      "77/77 [==============================] - 0s 5ms/sample - loss: 0.9994 - acc: 0.7013 - val_loss: 0.9578 - val_acc: 0.5195\n",
      "Epoch 8/30\n",
      "77/77 [==============================] - 0s 5ms/sample - loss: 0.9147 - acc: 0.5844 - val_loss: 0.7969 - val_acc: 0.7403\n",
      "Epoch 9/30\n",
      "77/77 [==============================] - 0s 5ms/sample - loss: 0.7324 - acc: 0.7273 - val_loss: 0.7065 - val_acc: 0.6234\n",
      "Epoch 10/30\n",
      "77/77 [==============================] - 0s 6ms/sample - loss: 0.6072 - acc: 0.7143 - val_loss: 0.6180 - val_acc: 0.6883\n",
      "Epoch 11/30\n",
      "77/77 [==============================] - 0s 5ms/sample - loss: 0.5012 - acc: 0.7662 - val_loss: 0.5145 - val_acc: 0.7532\n",
      "Epoch 12/30\n",
      "77/77 [==============================] - 0s 5ms/sample - loss: 0.4611 - acc: 0.7792 - val_loss: 0.4740 - val_acc: 0.7662\n",
      "Epoch 13/30\n",
      "77/77 [==============================] - 1s 7ms/sample - loss: 0.4268 - acc: 0.7792 - val_loss: 0.4992 - val_acc: 0.7532\n",
      "Epoch 14/30\n",
      "77/77 [==============================] - 0s 5ms/sample - loss: 0.4273 - acc: 0.7792 - val_loss: 0.4090 - val_acc: 0.7792\n",
      "Epoch 15/30\n",
      "77/77 [==============================] - 0s 6ms/sample - loss: 0.4405 - acc: 0.7662 - val_loss: 0.3882 - val_acc: 0.8312\n",
      "Epoch 16/30\n",
      "77/77 [==============================] - 0s 5ms/sample - loss: 0.3965 - acc: 0.7922 - val_loss: 0.4249 - val_acc: 0.7792\n",
      "Epoch 17/30\n",
      "77/77 [==============================] - 0s 5ms/sample - loss: 0.4073 - acc: 0.7792 - val_loss: 0.4971 - val_acc: 0.7403\n",
      "Epoch 18/30\n",
      "77/77 [==============================] - 0s 6ms/sample - loss: 0.4150 - acc: 0.7792 - val_loss: 0.4093 - val_acc: 0.7792\n",
      "Epoch 19/30\n",
      "77/77 [==============================] - 0s 5ms/sample - loss: 0.3868 - acc: 0.7792 - val_loss: 0.4266 - val_acc: 0.7792\n",
      "Epoch 20/30\n",
      "77/77 [==============================] - 0s 6ms/sample - loss: 0.3982 - acc: 0.7792 - val_loss: 0.3773 - val_acc: 0.7792\n",
      "Epoch 21/30\n",
      "77/77 [==============================] - 0s 5ms/sample - loss: 0.3665 - acc: 0.7922 - val_loss: 0.3661 - val_acc: 0.7922\n",
      "Epoch 22/30\n",
      "77/77 [==============================] - 0s 5ms/sample - loss: 0.3569 - acc: 0.8442 - val_loss: 0.3653 - val_acc: 0.7922\n",
      "Epoch 23/30\n",
      "77/77 [==============================] - 0s 6ms/sample - loss: 0.3443 - acc: 0.8312 - val_loss: 0.2927 - val_acc: 0.8182\n",
      "Epoch 24/30\n",
      "77/77 [==============================] - 0s 5ms/sample - loss: 0.3422 - acc: 0.8182 - val_loss: 0.2653 - val_acc: 0.8831\n",
      "Epoch 25/30\n",
      "77/77 [==============================] - 1s 7ms/sample - loss: 0.3476 - acc: 0.8182 - val_loss: 0.2502 - val_acc: 0.9351\n",
      "Epoch 26/30\n",
      "77/77 [==============================] - 0s 6ms/sample - loss: 0.3166 - acc: 0.8312 - val_loss: 0.2300 - val_acc: 0.9610\n",
      "Epoch 27/30\n",
      "77/77 [==============================] - 0s 6ms/sample - loss: 0.2689 - acc: 0.8571 - val_loss: 0.3000 - val_acc: 0.8182\n",
      "Epoch 28/30\n",
      "77/77 [==============================] - 1s 7ms/sample - loss: 0.2757 - acc: 0.8312 - val_loss: 0.1679 - val_acc: 0.9870\n",
      "Epoch 29/30\n",
      "77/77 [==============================] - 0s 5ms/sample - loss: 0.2356 - acc: 0.9221 - val_loss: 0.2251 - val_acc: 0.9091\n",
      "Epoch 30/30\n",
      "77/77 [==============================] - 1s 8ms/sample - loss: 0.2440 - acc: 0.8831 - val_loss: 0.2611 - val_acc: 0.9091\n"
     ]
    }
   ],
   "source": [
    "Ep = 30\n",
    "Bs = 50\n",
    "\n",
    "print(X_3d_train.shape)\n",
    "print(y_3d_train.shape)\n",
    "\n",
    "history = model.fit(X_3d_train, y_3d_train, epochs=Ep,batch_size=Bs, validation_data=(X_3d_validate, y_3d_validate), verbose=1)"
   ]
  },
  {
   "cell_type": "code",
   "execution_count": 30,
   "metadata": {},
   "outputs": [],
   "source": [
    "cnn_valid = model.predict(X_3d_validate)\n",
    "cnn_valid_single = [np.argmax(p) for p in cnn_valid]\n",
    "y_valid_single = [np.argmax(p) for p in y_3d_validate]"
   ]
  },
  {
   "cell_type": "code",
   "execution_count": 31,
   "metadata": {},
   "outputs": [
    {
     "name": "stdout",
     "output_type": "stream",
     "text": [
      "              precision    recall  f1-score   support\n",
      "\n",
      "           0       1.00      0.10      0.18       210\n",
      "           1       0.65      1.00      0.78       345\n",
      "           2       1.00      1.00      1.00       331\n",
      "\n",
      "    accuracy                           0.79       886\n",
      "   macro avg       0.88      0.70      0.66       886\n",
      "weighted avg       0.86      0.79      0.72       886\n",
      "\n",
      "              precision    recall  f1-score   support\n",
      "\n",
      "           0       1.00      0.59      0.74        17\n",
      "           1       0.82      1.00      0.90        31\n",
      "           2       1.00      1.00      1.00        29\n",
      "\n",
      "    accuracy                           0.91        77\n",
      "   macro avg       0.94      0.86      0.88        77\n",
      "weighted avg       0.93      0.91      0.90        77\n",
      "\n"
     ]
    }
   ],
   "source": [
    "print(classification_report(y_2d_validate, mlp_valid))\n",
    "print(classification_report(y_valid_single, cnn_valid_single))"
   ]
  },
  {
   "cell_type": "code",
   "execution_count": 32,
   "metadata": {},
   "outputs": [
    {
     "name": "stdout",
     "output_type": "stream",
     "text": [
      "[[ 21 189   0]\n",
      " [  0 345   0]\n",
      " [  0   0 331]]\n",
      "[[10  7  0]\n",
      " [ 0 31  0]\n",
      " [ 0  0 29]]\n"
     ]
    }
   ],
   "source": [
    "print(confusion_matrix(y_2d_validate, mlp_valid))\n",
    "print(confusion_matrix(y_valid_single, cnn_valid_single))"
   ]
  },
  {
   "cell_type": "code",
   "execution_count": 33,
   "metadata": {},
   "outputs": [],
   "source": [
    "mlp_test = mlp.predict(X_2d_test)"
   ]
  },
  {
   "cell_type": "code",
   "execution_count": 34,
   "metadata": {},
   "outputs": [],
   "source": [
    "cnn_test = model.predict(X_3d_test)\n",
    "cnn_test_single = [np.argmax(p) for p in cnn_test]\n",
    "y_test_single = [np.argmax(p) for p in y_3d_test]"
   ]
  },
  {
   "cell_type": "code",
   "execution_count": 35,
   "metadata": {},
   "outputs": [
    {
     "name": "stdout",
     "output_type": "stream",
     "text": [
      "              precision    recall  f1-score   support\n",
      "\n",
      "           0       1.00      0.10      0.19       105\n",
      "           1       0.65      1.00      0.79       172\n",
      "           2       1.00      1.00      1.00       166\n",
      "\n",
      "    accuracy                           0.79       443\n",
      "   macro avg       0.88      0.70      0.66       443\n",
      "weighted avg       0.86      0.79      0.72       443\n",
      "\n",
      "              precision    recall  f1-score   support\n",
      "\n",
      "           0       1.00      0.67      0.80         9\n",
      "           1       0.83      1.00      0.91        15\n",
      "           2       1.00      1.00      1.00        15\n",
      "\n",
      "    accuracy                           0.92        39\n",
      "   macro avg       0.94      0.89      0.90        39\n",
      "weighted avg       0.94      0.92      0.92        39\n",
      "\n"
     ]
    }
   ],
   "source": [
    "print(classification_report(y_2d_test, mlp_test))\n",
    "print(classification_report(y_test_single, cnn_test_single))"
   ]
  },
  {
   "cell_type": "code",
   "execution_count": 36,
   "metadata": {},
   "outputs": [
    {
     "name": "stdout",
     "output_type": "stream",
     "text": [
      "[[ 11  94   0]\n",
      " [  0 172   0]\n",
      " [  0   0 166]]\n",
      "[[ 6  3  0]\n",
      " [ 0 15  0]\n",
      " [ 0  0 15]]\n"
     ]
    }
   ],
   "source": [
    "print(confusion_matrix(y_2d_test, mlp_test))\n",
    "print(confusion_matrix(y_test_single, cnn_test_single))"
   ]
  },
  {
   "cell_type": "markdown",
   "metadata": {},
   "source": [
    "# Grid Search"
   ]
  },
  {
   "cell_type": "code",
   "execution_count": 37,
   "metadata": {},
   "outputs": [],
   "source": [
    "param_grid_svc = [{\n",
    "    'kernel': ['rbf'],\n",
    "    'C': [0.1, 1, 100, 1000],\n",
    "    'gamma': [0.01, 0.1, 0.5]\n",
    "}]\n",
    "\n",
    "param_grid_mlp = [{\n",
    "    'hidden_layer_sizes': [(10,10), (20,20), (30,30,30)],\n",
    "    'max_iter' : [200, 300, 500],\n",
    "    'solver': ['adam','sgd','lbfgs']\n",
    "}]\n",
    "\n",
    "param_grid_cnn = [{\n",
    "    'batch_size' : [10, 20, 40, 60, 80, 100],\n",
    "    'epochs' : [10, 50, 100],\n",
    "    'optimizers' : ['adam', 'adadelta']\n",
    "}]"
   ]
  },
  {
   "cell_type": "code",
   "execution_count": 38,
   "metadata": {},
   "outputs": [],
   "source": [
    "skfold = StratifiedKFold(n_splits=10, shuffle=True, random_state=seed)\n",
    "\n",
    "gsCV_SVC = GridSearchCV(estimator=SVC(), param_grid=param_grid_svc, cv=skfold)\n",
    "gsCV_MLP = GridSearchCV(estimator=MLPClassifier(), param_grid=param_grid_mlp, cv=skfold)\n",
    "\n",
    "k_model = KerasClassifier(create_model(), verbose=0,  epochs=5, batch_size=10)\n",
    "gsCV_CNN = GridSearchCV(estimator=k_model, param_grid=param_grid_cnn, scoring='accuracy', n_jobs=2, cv=3)"
   ]
  },
  {
   "cell_type": "code",
   "execution_count": 39,
   "metadata": {},
   "outputs": [
    {
     "data": {
      "text/plain": [
       "GridSearchCV(cv=StratifiedKFold(n_splits=10, random_state=0, shuffle=True),\n",
       "             error_score='raise-deprecating',\n",
       "             estimator=SVC(C=1.0, cache_size=200, class_weight=None, coef0=0.0,\n",
       "                           decision_function_shape='ovr', degree=3,\n",
       "                           gamma='auto_deprecated', kernel='rbf', max_iter=-1,\n",
       "                           probability=False, random_state=None, shrinking=True,\n",
       "                           tol=0.001, verbose=False),\n",
       "             iid='warn', n_jobs=None,\n",
       "             param_grid=[{'C': [0.1, 1, 100, 1000], 'gamma': [0.01, 0.1, 0.5],\n",
       "                          'kernel': ['rbf']}],\n",
       "             pre_dispatch='2*n_jobs', refit=True, return_train_score=False,\n",
       "             scoring=None, verbose=0)"
      ]
     },
     "execution_count": 39,
     "metadata": {},
     "output_type": "execute_result"
    }
   ],
   "source": [
    "gsCV_SVC.fit(X_2d_train, y_2d_train)"
   ]
  },
  {
   "cell_type": "code",
   "execution_count": 40,
   "metadata": {},
   "outputs": [
    {
     "name": "stderr",
     "output_type": "stream",
     "text": [
      "/usr/local/lib/python3.6/dist-packages/sklearn/neural_network/multilayer_perceptron.py:566: ConvergenceWarning: Stochastic Optimizer: Maximum iterations (200) reached and the optimization hasn't converged yet.\n",
      "  % self.max_iter, ConvergenceWarning)\n",
      "/usr/local/lib/python3.6/dist-packages/sklearn/neural_network/multilayer_perceptron.py:566: ConvergenceWarning: Stochastic Optimizer: Maximum iterations (200) reached and the optimization hasn't converged yet.\n",
      "  % self.max_iter, ConvergenceWarning)\n",
      "/usr/local/lib/python3.6/dist-packages/sklearn/neural_network/multilayer_perceptron.py:566: ConvergenceWarning: Stochastic Optimizer: Maximum iterations (200) reached and the optimization hasn't converged yet.\n",
      "  % self.max_iter, ConvergenceWarning)\n",
      "/usr/local/lib/python3.6/dist-packages/sklearn/neural_network/multilayer_perceptron.py:566: ConvergenceWarning: Stochastic Optimizer: Maximum iterations (200) reached and the optimization hasn't converged yet.\n",
      "  % self.max_iter, ConvergenceWarning)\n",
      "/usr/local/lib/python3.6/dist-packages/sklearn/neural_network/multilayer_perceptron.py:566: ConvergenceWarning: Stochastic Optimizer: Maximum iterations (200) reached and the optimization hasn't converged yet.\n",
      "  % self.max_iter, ConvergenceWarning)\n",
      "/usr/local/lib/python3.6/dist-packages/sklearn/neural_network/multilayer_perceptron.py:566: ConvergenceWarning: Stochastic Optimizer: Maximum iterations (200) reached and the optimization hasn't converged yet.\n",
      "  % self.max_iter, ConvergenceWarning)\n",
      "/usr/local/lib/python3.6/dist-packages/sklearn/neural_network/multilayer_perceptron.py:566: ConvergenceWarning: Stochastic Optimizer: Maximum iterations (200) reached and the optimization hasn't converged yet.\n",
      "  % self.max_iter, ConvergenceWarning)\n",
      "/usr/local/lib/python3.6/dist-packages/sklearn/neural_network/multilayer_perceptron.py:566: ConvergenceWarning: Stochastic Optimizer: Maximum iterations (200) reached and the optimization hasn't converged yet.\n",
      "  % self.max_iter, ConvergenceWarning)\n",
      "/usr/local/lib/python3.6/dist-packages/sklearn/neural_network/multilayer_perceptron.py:566: ConvergenceWarning: Stochastic Optimizer: Maximum iterations (200) reached and the optimization hasn't converged yet.\n",
      "  % self.max_iter, ConvergenceWarning)\n",
      "/usr/local/lib/python3.6/dist-packages/sklearn/neural_network/multilayer_perceptron.py:566: ConvergenceWarning: Stochastic Optimizer: Maximum iterations (200) reached and the optimization hasn't converged yet.\n",
      "  % self.max_iter, ConvergenceWarning)\n",
      "/usr/local/lib/python3.6/dist-packages/sklearn/neural_network/multilayer_perceptron.py:566: ConvergenceWarning: Stochastic Optimizer: Maximum iterations (200) reached and the optimization hasn't converged yet.\n",
      "  % self.max_iter, ConvergenceWarning)\n",
      "/usr/local/lib/python3.6/dist-packages/sklearn/neural_network/multilayer_perceptron.py:566: ConvergenceWarning: Stochastic Optimizer: Maximum iterations (200) reached and the optimization hasn't converged yet.\n",
      "  % self.max_iter, ConvergenceWarning)\n",
      "/usr/local/lib/python3.6/dist-packages/sklearn/neural_network/multilayer_perceptron.py:566: ConvergenceWarning: Stochastic Optimizer: Maximum iterations (200) reached and the optimization hasn't converged yet.\n",
      "  % self.max_iter, ConvergenceWarning)\n",
      "/usr/local/lib/python3.6/dist-packages/sklearn/neural_network/multilayer_perceptron.py:566: ConvergenceWarning: Stochastic Optimizer: Maximum iterations (200) reached and the optimization hasn't converged yet.\n",
      "  % self.max_iter, ConvergenceWarning)\n",
      "/usr/local/lib/python3.6/dist-packages/sklearn/neural_network/multilayer_perceptron.py:566: ConvergenceWarning: Stochastic Optimizer: Maximum iterations (200) reached and the optimization hasn't converged yet.\n",
      "  % self.max_iter, ConvergenceWarning)\n",
      "/usr/local/lib/python3.6/dist-packages/sklearn/neural_network/multilayer_perceptron.py:566: ConvergenceWarning: Stochastic Optimizer: Maximum iterations (200) reached and the optimization hasn't converged yet.\n",
      "  % self.max_iter, ConvergenceWarning)\n",
      "/usr/local/lib/python3.6/dist-packages/sklearn/neural_network/multilayer_perceptron.py:566: ConvergenceWarning: Stochastic Optimizer: Maximum iterations (200) reached and the optimization hasn't converged yet.\n",
      "  % self.max_iter, ConvergenceWarning)\n",
      "/usr/local/lib/python3.6/dist-packages/sklearn/neural_network/multilayer_perceptron.py:566: ConvergenceWarning: Stochastic Optimizer: Maximum iterations (200) reached and the optimization hasn't converged yet.\n",
      "  % self.max_iter, ConvergenceWarning)\n",
      "/usr/local/lib/python3.6/dist-packages/sklearn/neural_network/multilayer_perceptron.py:566: ConvergenceWarning: Stochastic Optimizer: Maximum iterations (200) reached and the optimization hasn't converged yet.\n",
      "  % self.max_iter, ConvergenceWarning)\n",
      "/usr/local/lib/python3.6/dist-packages/sklearn/neural_network/multilayer_perceptron.py:566: ConvergenceWarning: Stochastic Optimizer: Maximum iterations (200) reached and the optimization hasn't converged yet.\n",
      "  % self.max_iter, ConvergenceWarning)\n",
      "/usr/local/lib/python3.6/dist-packages/sklearn/neural_network/multilayer_perceptron.py:566: ConvergenceWarning: Stochastic Optimizer: Maximum iterations (300) reached and the optimization hasn't converged yet.\n",
      "  % self.max_iter, ConvergenceWarning)\n",
      "/usr/local/lib/python3.6/dist-packages/sklearn/neural_network/multilayer_perceptron.py:566: ConvergenceWarning: Stochastic Optimizer: Maximum iterations (300) reached and the optimization hasn't converged yet.\n",
      "  % self.max_iter, ConvergenceWarning)\n",
      "/usr/local/lib/python3.6/dist-packages/sklearn/neural_network/multilayer_perceptron.py:566: ConvergenceWarning: Stochastic Optimizer: Maximum iterations (300) reached and the optimization hasn't converged yet.\n",
      "  % self.max_iter, ConvergenceWarning)\n",
      "/usr/local/lib/python3.6/dist-packages/sklearn/neural_network/multilayer_perceptron.py:566: ConvergenceWarning: Stochastic Optimizer: Maximum iterations (300) reached and the optimization hasn't converged yet.\n",
      "  % self.max_iter, ConvergenceWarning)\n",
      "/usr/local/lib/python3.6/dist-packages/sklearn/neural_network/multilayer_perceptron.py:566: ConvergenceWarning: Stochastic Optimizer: Maximum iterations (300) reached and the optimization hasn't converged yet.\n",
      "  % self.max_iter, ConvergenceWarning)\n",
      "/usr/local/lib/python3.6/dist-packages/sklearn/neural_network/multilayer_perceptron.py:566: ConvergenceWarning: Stochastic Optimizer: Maximum iterations (300) reached and the optimization hasn't converged yet.\n",
      "  % self.max_iter, ConvergenceWarning)\n",
      "/usr/local/lib/python3.6/dist-packages/sklearn/neural_network/multilayer_perceptron.py:566: ConvergenceWarning: Stochastic Optimizer: Maximum iterations (300) reached and the optimization hasn't converged yet.\n",
      "  % self.max_iter, ConvergenceWarning)\n",
      "/usr/local/lib/python3.6/dist-packages/sklearn/neural_network/multilayer_perceptron.py:566: ConvergenceWarning: Stochastic Optimizer: Maximum iterations (300) reached and the optimization hasn't converged yet.\n",
      "  % self.max_iter, ConvergenceWarning)\n",
      "/usr/local/lib/python3.6/dist-packages/sklearn/neural_network/multilayer_perceptron.py:566: ConvergenceWarning: Stochastic Optimizer: Maximum iterations (300) reached and the optimization hasn't converged yet.\n",
      "  % self.max_iter, ConvergenceWarning)\n",
      "/usr/local/lib/python3.6/dist-packages/sklearn/neural_network/multilayer_perceptron.py:566: ConvergenceWarning: Stochastic Optimizer: Maximum iterations (300) reached and the optimization hasn't converged yet.\n",
      "  % self.max_iter, ConvergenceWarning)\n",
      "/usr/local/lib/python3.6/dist-packages/sklearn/neural_network/multilayer_perceptron.py:566: ConvergenceWarning: Stochastic Optimizer: Maximum iterations (300) reached and the optimization hasn't converged yet.\n",
      "  % self.max_iter, ConvergenceWarning)\n",
      "/usr/local/lib/python3.6/dist-packages/sklearn/neural_network/multilayer_perceptron.py:566: ConvergenceWarning: Stochastic Optimizer: Maximum iterations (300) reached and the optimization hasn't converged yet.\n",
      "  % self.max_iter, ConvergenceWarning)\n",
      "/usr/local/lib/python3.6/dist-packages/sklearn/neural_network/multilayer_perceptron.py:566: ConvergenceWarning: Stochastic Optimizer: Maximum iterations (300) reached and the optimization hasn't converged yet.\n",
      "  % self.max_iter, ConvergenceWarning)\n",
      "/usr/local/lib/python3.6/dist-packages/sklearn/neural_network/multilayer_perceptron.py:566: ConvergenceWarning: Stochastic Optimizer: Maximum iterations (300) reached and the optimization hasn't converged yet.\n",
      "  % self.max_iter, ConvergenceWarning)\n",
      "/usr/local/lib/python3.6/dist-packages/sklearn/neural_network/multilayer_perceptron.py:566: ConvergenceWarning: Stochastic Optimizer: Maximum iterations (300) reached and the optimization hasn't converged yet.\n",
      "  % self.max_iter, ConvergenceWarning)\n",
      "/usr/local/lib/python3.6/dist-packages/sklearn/neural_network/multilayer_perceptron.py:566: ConvergenceWarning: Stochastic Optimizer: Maximum iterations (300) reached and the optimization hasn't converged yet.\n",
      "  % self.max_iter, ConvergenceWarning)\n",
      "/usr/local/lib/python3.6/dist-packages/sklearn/neural_network/multilayer_perceptron.py:566: ConvergenceWarning: Stochastic Optimizer: Maximum iterations (300) reached and the optimization hasn't converged yet.\n",
      "  % self.max_iter, ConvergenceWarning)\n",
      "/usr/local/lib/python3.6/dist-packages/sklearn/neural_network/multilayer_perceptron.py:566: ConvergenceWarning: Stochastic Optimizer: Maximum iterations (300) reached and the optimization hasn't converged yet.\n",
      "  % self.max_iter, ConvergenceWarning)\n",
      "/usr/local/lib/python3.6/dist-packages/sklearn/neural_network/multilayer_perceptron.py:566: ConvergenceWarning: Stochastic Optimizer: Maximum iterations (300) reached and the optimization hasn't converged yet.\n",
      "  % self.max_iter, ConvergenceWarning)\n",
      "/usr/local/lib/python3.6/dist-packages/sklearn/neural_network/multilayer_perceptron.py:566: ConvergenceWarning: Stochastic Optimizer: Maximum iterations (300) reached and the optimization hasn't converged yet.\n",
      "  % self.max_iter, ConvergenceWarning)\n",
      "/usr/local/lib/python3.6/dist-packages/sklearn/neural_network/multilayer_perceptron.py:566: ConvergenceWarning: Stochastic Optimizer: Maximum iterations (500) reached and the optimization hasn't converged yet.\n",
      "  % self.max_iter, ConvergenceWarning)\n",
      "/usr/local/lib/python3.6/dist-packages/sklearn/neural_network/multilayer_perceptron.py:566: ConvergenceWarning: Stochastic Optimizer: Maximum iterations (500) reached and the optimization hasn't converged yet.\n",
      "  % self.max_iter, ConvergenceWarning)\n",
      "/usr/local/lib/python3.6/dist-packages/sklearn/neural_network/multilayer_perceptron.py:566: ConvergenceWarning: Stochastic Optimizer: Maximum iterations (500) reached and the optimization hasn't converged yet.\n",
      "  % self.max_iter, ConvergenceWarning)\n",
      "/usr/local/lib/python3.6/dist-packages/sklearn/neural_network/multilayer_perceptron.py:566: ConvergenceWarning: Stochastic Optimizer: Maximum iterations (500) reached and the optimization hasn't converged yet.\n",
      "  % self.max_iter, ConvergenceWarning)\n",
      "/usr/local/lib/python3.6/dist-packages/sklearn/neural_network/multilayer_perceptron.py:566: ConvergenceWarning: Stochastic Optimizer: Maximum iterations (500) reached and the optimization hasn't converged yet.\n",
      "  % self.max_iter, ConvergenceWarning)\n",
      "/usr/local/lib/python3.6/dist-packages/sklearn/neural_network/multilayer_perceptron.py:566: ConvergenceWarning: Stochastic Optimizer: Maximum iterations (500) reached and the optimization hasn't converged yet.\n",
      "  % self.max_iter, ConvergenceWarning)\n",
      "/usr/local/lib/python3.6/dist-packages/sklearn/neural_network/multilayer_perceptron.py:566: ConvergenceWarning: Stochastic Optimizer: Maximum iterations (500) reached and the optimization hasn't converged yet.\n",
      "  % self.max_iter, ConvergenceWarning)\n",
      "/usr/local/lib/python3.6/dist-packages/sklearn/neural_network/multilayer_perceptron.py:566: ConvergenceWarning: Stochastic Optimizer: Maximum iterations (500) reached and the optimization hasn't converged yet.\n",
      "  % self.max_iter, ConvergenceWarning)\n",
      "/usr/local/lib/python3.6/dist-packages/sklearn/neural_network/multilayer_perceptron.py:566: ConvergenceWarning: Stochastic Optimizer: Maximum iterations (500) reached and the optimization hasn't converged yet.\n",
      "  % self.max_iter, ConvergenceWarning)\n",
      "/usr/local/lib/python3.6/dist-packages/sklearn/neural_network/multilayer_perceptron.py:566: ConvergenceWarning: Stochastic Optimizer: Maximum iterations (500) reached and the optimization hasn't converged yet.\n",
      "  % self.max_iter, ConvergenceWarning)\n",
      "/usr/local/lib/python3.6/dist-packages/sklearn/neural_network/multilayer_perceptron.py:566: ConvergenceWarning: Stochastic Optimizer: Maximum iterations (500) reached and the optimization hasn't converged yet.\n",
      "  % self.max_iter, ConvergenceWarning)\n",
      "/usr/local/lib/python3.6/dist-packages/sklearn/neural_network/multilayer_perceptron.py:566: ConvergenceWarning: Stochastic Optimizer: Maximum iterations (500) reached and the optimization hasn't converged yet.\n",
      "  % self.max_iter, ConvergenceWarning)\n",
      "/usr/local/lib/python3.6/dist-packages/sklearn/neural_network/multilayer_perceptron.py:566: ConvergenceWarning: Stochastic Optimizer: Maximum iterations (500) reached and the optimization hasn't converged yet.\n",
      "  % self.max_iter, ConvergenceWarning)\n",
      "/usr/local/lib/python3.6/dist-packages/sklearn/neural_network/multilayer_perceptron.py:566: ConvergenceWarning: Stochastic Optimizer: Maximum iterations (500) reached and the optimization hasn't converged yet.\n",
      "  % self.max_iter, ConvergenceWarning)\n",
      "/usr/local/lib/python3.6/dist-packages/sklearn/neural_network/multilayer_perceptron.py:566: ConvergenceWarning: Stochastic Optimizer: Maximum iterations (500) reached and the optimization hasn't converged yet.\n",
      "  % self.max_iter, ConvergenceWarning)\n",
      "/usr/local/lib/python3.6/dist-packages/sklearn/neural_network/multilayer_perceptron.py:566: ConvergenceWarning: Stochastic Optimizer: Maximum iterations (500) reached and the optimization hasn't converged yet.\n",
      "  % self.max_iter, ConvergenceWarning)\n",
      "/usr/local/lib/python3.6/dist-packages/sklearn/neural_network/multilayer_perceptron.py:566: ConvergenceWarning: Stochastic Optimizer: Maximum iterations (500) reached and the optimization hasn't converged yet.\n",
      "  % self.max_iter, ConvergenceWarning)\n",
      "/usr/local/lib/python3.6/dist-packages/sklearn/neural_network/multilayer_perceptron.py:566: ConvergenceWarning: Stochastic Optimizer: Maximum iterations (500) reached and the optimization hasn't converged yet.\n",
      "  % self.max_iter, ConvergenceWarning)\n",
      "/usr/local/lib/python3.6/dist-packages/sklearn/neural_network/multilayer_perceptron.py:566: ConvergenceWarning: Stochastic Optimizer: Maximum iterations (500) reached and the optimization hasn't converged yet.\n",
      "  % self.max_iter, ConvergenceWarning)\n",
      "/usr/local/lib/python3.6/dist-packages/sklearn/neural_network/multilayer_perceptron.py:566: ConvergenceWarning: Stochastic Optimizer: Maximum iterations (200) reached and the optimization hasn't converged yet.\n",
      "  % self.max_iter, ConvergenceWarning)\n",
      "/usr/local/lib/python3.6/dist-packages/sklearn/neural_network/multilayer_perceptron.py:566: ConvergenceWarning: Stochastic Optimizer: Maximum iterations (200) reached and the optimization hasn't converged yet.\n",
      "  % self.max_iter, ConvergenceWarning)\n",
      "/usr/local/lib/python3.6/dist-packages/sklearn/neural_network/multilayer_perceptron.py:566: ConvergenceWarning: Stochastic Optimizer: Maximum iterations (200) reached and the optimization hasn't converged yet.\n",
      "  % self.max_iter, ConvergenceWarning)\n",
      "/usr/local/lib/python3.6/dist-packages/sklearn/neural_network/multilayer_perceptron.py:566: ConvergenceWarning: Stochastic Optimizer: Maximum iterations (200) reached and the optimization hasn't converged yet.\n",
      "  % self.max_iter, ConvergenceWarning)\n",
      "/usr/local/lib/python3.6/dist-packages/sklearn/neural_network/multilayer_perceptron.py:566: ConvergenceWarning: Stochastic Optimizer: Maximum iterations (200) reached and the optimization hasn't converged yet.\n",
      "  % self.max_iter, ConvergenceWarning)\n",
      "/usr/local/lib/python3.6/dist-packages/sklearn/neural_network/multilayer_perceptron.py:566: ConvergenceWarning: Stochastic Optimizer: Maximum iterations (200) reached and the optimization hasn't converged yet.\n",
      "  % self.max_iter, ConvergenceWarning)\n",
      "/usr/local/lib/python3.6/dist-packages/sklearn/neural_network/multilayer_perceptron.py:566: ConvergenceWarning: Stochastic Optimizer: Maximum iterations (200) reached and the optimization hasn't converged yet.\n",
      "  % self.max_iter, ConvergenceWarning)\n",
      "/usr/local/lib/python3.6/dist-packages/sklearn/neural_network/multilayer_perceptron.py:566: ConvergenceWarning: Stochastic Optimizer: Maximum iterations (200) reached and the optimization hasn't converged yet.\n",
      "  % self.max_iter, ConvergenceWarning)\n",
      "/usr/local/lib/python3.6/dist-packages/sklearn/neural_network/multilayer_perceptron.py:566: ConvergenceWarning: Stochastic Optimizer: Maximum iterations (200) reached and the optimization hasn't converged yet.\n",
      "  % self.max_iter, ConvergenceWarning)\n",
      "/usr/local/lib/python3.6/dist-packages/sklearn/neural_network/multilayer_perceptron.py:566: ConvergenceWarning: Stochastic Optimizer: Maximum iterations (200) reached and the optimization hasn't converged yet.\n",
      "  % self.max_iter, ConvergenceWarning)\n",
      "/usr/local/lib/python3.6/dist-packages/sklearn/neural_network/multilayer_perceptron.py:566: ConvergenceWarning: Stochastic Optimizer: Maximum iterations (200) reached and the optimization hasn't converged yet.\n",
      "  % self.max_iter, ConvergenceWarning)\n",
      "/usr/local/lib/python3.6/dist-packages/sklearn/neural_network/multilayer_perceptron.py:566: ConvergenceWarning: Stochastic Optimizer: Maximum iterations (200) reached and the optimization hasn't converged yet.\n",
      "  % self.max_iter, ConvergenceWarning)\n",
      "/usr/local/lib/python3.6/dist-packages/sklearn/neural_network/multilayer_perceptron.py:566: ConvergenceWarning: Stochastic Optimizer: Maximum iterations (200) reached and the optimization hasn't converged yet.\n",
      "  % self.max_iter, ConvergenceWarning)\n",
      "/usr/local/lib/python3.6/dist-packages/sklearn/neural_network/multilayer_perceptron.py:566: ConvergenceWarning: Stochastic Optimizer: Maximum iterations (200) reached and the optimization hasn't converged yet.\n",
      "  % self.max_iter, ConvergenceWarning)\n",
      "/usr/local/lib/python3.6/dist-packages/sklearn/neural_network/multilayer_perceptron.py:566: ConvergenceWarning: Stochastic Optimizer: Maximum iterations (200) reached and the optimization hasn't converged yet.\n",
      "  % self.max_iter, ConvergenceWarning)\n",
      "/usr/local/lib/python3.6/dist-packages/sklearn/neural_network/multilayer_perceptron.py:566: ConvergenceWarning: Stochastic Optimizer: Maximum iterations (200) reached and the optimization hasn't converged yet.\n",
      "  % self.max_iter, ConvergenceWarning)\n",
      "/usr/local/lib/python3.6/dist-packages/sklearn/neural_network/multilayer_perceptron.py:566: ConvergenceWarning: Stochastic Optimizer: Maximum iterations (200) reached and the optimization hasn't converged yet.\n",
      "  % self.max_iter, ConvergenceWarning)\n",
      "/usr/local/lib/python3.6/dist-packages/sklearn/neural_network/multilayer_perceptron.py:566: ConvergenceWarning: Stochastic Optimizer: Maximum iterations (200) reached and the optimization hasn't converged yet.\n",
      "  % self.max_iter, ConvergenceWarning)\n",
      "/usr/local/lib/python3.6/dist-packages/sklearn/neural_network/multilayer_perceptron.py:566: ConvergenceWarning: Stochastic Optimizer: Maximum iterations (200) reached and the optimization hasn't converged yet.\n",
      "  % self.max_iter, ConvergenceWarning)\n",
      "/usr/local/lib/python3.6/dist-packages/sklearn/neural_network/multilayer_perceptron.py:566: ConvergenceWarning: Stochastic Optimizer: Maximum iterations (200) reached and the optimization hasn't converged yet.\n",
      "  % self.max_iter, ConvergenceWarning)\n",
      "/usr/local/lib/python3.6/dist-packages/sklearn/neural_network/multilayer_perceptron.py:566: ConvergenceWarning: Stochastic Optimizer: Maximum iterations (300) reached and the optimization hasn't converged yet.\n",
      "  % self.max_iter, ConvergenceWarning)\n",
      "/usr/local/lib/python3.6/dist-packages/sklearn/neural_network/multilayer_perceptron.py:566: ConvergenceWarning: Stochastic Optimizer: Maximum iterations (300) reached and the optimization hasn't converged yet.\n",
      "  % self.max_iter, ConvergenceWarning)\n",
      "/usr/local/lib/python3.6/dist-packages/sklearn/neural_network/multilayer_perceptron.py:566: ConvergenceWarning: Stochastic Optimizer: Maximum iterations (300) reached and the optimization hasn't converged yet.\n",
      "  % self.max_iter, ConvergenceWarning)\n",
      "/usr/local/lib/python3.6/dist-packages/sklearn/neural_network/multilayer_perceptron.py:566: ConvergenceWarning: Stochastic Optimizer: Maximum iterations (300) reached and the optimization hasn't converged yet.\n",
      "  % self.max_iter, ConvergenceWarning)\n",
      "/usr/local/lib/python3.6/dist-packages/sklearn/neural_network/multilayer_perceptron.py:566: ConvergenceWarning: Stochastic Optimizer: Maximum iterations (300) reached and the optimization hasn't converged yet.\n",
      "  % self.max_iter, ConvergenceWarning)\n",
      "/usr/local/lib/python3.6/dist-packages/sklearn/neural_network/multilayer_perceptron.py:566: ConvergenceWarning: Stochastic Optimizer: Maximum iterations (300) reached and the optimization hasn't converged yet.\n",
      "  % self.max_iter, ConvergenceWarning)\n",
      "/usr/local/lib/python3.6/dist-packages/sklearn/neural_network/multilayer_perceptron.py:566: ConvergenceWarning: Stochastic Optimizer: Maximum iterations (300) reached and the optimization hasn't converged yet.\n",
      "  % self.max_iter, ConvergenceWarning)\n",
      "/usr/local/lib/python3.6/dist-packages/sklearn/neural_network/multilayer_perceptron.py:566: ConvergenceWarning: Stochastic Optimizer: Maximum iterations (300) reached and the optimization hasn't converged yet.\n",
      "  % self.max_iter, ConvergenceWarning)\n",
      "/usr/local/lib/python3.6/dist-packages/sklearn/neural_network/multilayer_perceptron.py:566: ConvergenceWarning: Stochastic Optimizer: Maximum iterations (300) reached and the optimization hasn't converged yet.\n",
      "  % self.max_iter, ConvergenceWarning)\n",
      "/usr/local/lib/python3.6/dist-packages/sklearn/neural_network/multilayer_perceptron.py:566: ConvergenceWarning: Stochastic Optimizer: Maximum iterations (300) reached and the optimization hasn't converged yet.\n",
      "  % self.max_iter, ConvergenceWarning)\n",
      "/usr/local/lib/python3.6/dist-packages/sklearn/neural_network/multilayer_perceptron.py:566: ConvergenceWarning: Stochastic Optimizer: Maximum iterations (300) reached and the optimization hasn't converged yet.\n",
      "  % self.max_iter, ConvergenceWarning)\n",
      "/usr/local/lib/python3.6/dist-packages/sklearn/neural_network/multilayer_perceptron.py:566: ConvergenceWarning: Stochastic Optimizer: Maximum iterations (300) reached and the optimization hasn't converged yet.\n",
      "  % self.max_iter, ConvergenceWarning)\n",
      "/usr/local/lib/python3.6/dist-packages/sklearn/neural_network/multilayer_perceptron.py:566: ConvergenceWarning: Stochastic Optimizer: Maximum iterations (300) reached and the optimization hasn't converged yet.\n",
      "  % self.max_iter, ConvergenceWarning)\n",
      "/usr/local/lib/python3.6/dist-packages/sklearn/neural_network/multilayer_perceptron.py:566: ConvergenceWarning: Stochastic Optimizer: Maximum iterations (300) reached and the optimization hasn't converged yet.\n",
      "  % self.max_iter, ConvergenceWarning)\n",
      "/usr/local/lib/python3.6/dist-packages/sklearn/neural_network/multilayer_perceptron.py:566: ConvergenceWarning: Stochastic Optimizer: Maximum iterations (300) reached and the optimization hasn't converged yet.\n",
      "  % self.max_iter, ConvergenceWarning)\n",
      "/usr/local/lib/python3.6/dist-packages/sklearn/neural_network/multilayer_perceptron.py:566: ConvergenceWarning: Stochastic Optimizer: Maximum iterations (300) reached and the optimization hasn't converged yet.\n",
      "  % self.max_iter, ConvergenceWarning)\n",
      "/usr/local/lib/python3.6/dist-packages/sklearn/neural_network/multilayer_perceptron.py:566: ConvergenceWarning: Stochastic Optimizer: Maximum iterations (300) reached and the optimization hasn't converged yet.\n",
      "  % self.max_iter, ConvergenceWarning)\n",
      "/usr/local/lib/python3.6/dist-packages/sklearn/neural_network/multilayer_perceptron.py:566: ConvergenceWarning: Stochastic Optimizer: Maximum iterations (300) reached and the optimization hasn't converged yet.\n",
      "  % self.max_iter, ConvergenceWarning)\n",
      "/usr/local/lib/python3.6/dist-packages/sklearn/neural_network/multilayer_perceptron.py:566: ConvergenceWarning: Stochastic Optimizer: Maximum iterations (300) reached and the optimization hasn't converged yet.\n",
      "  % self.max_iter, ConvergenceWarning)\n",
      "/usr/local/lib/python3.6/dist-packages/sklearn/neural_network/multilayer_perceptron.py:566: ConvergenceWarning: Stochastic Optimizer: Maximum iterations (300) reached and the optimization hasn't converged yet.\n",
      "  % self.max_iter, ConvergenceWarning)\n",
      "/usr/local/lib/python3.6/dist-packages/sklearn/neural_network/multilayer_perceptron.py:566: ConvergenceWarning: Stochastic Optimizer: Maximum iterations (500) reached and the optimization hasn't converged yet.\n",
      "  % self.max_iter, ConvergenceWarning)\n",
      "/usr/local/lib/python3.6/dist-packages/sklearn/neural_network/multilayer_perceptron.py:566: ConvergenceWarning: Stochastic Optimizer: Maximum iterations (500) reached and the optimization hasn't converged yet.\n",
      "  % self.max_iter, ConvergenceWarning)\n",
      "/usr/local/lib/python3.6/dist-packages/sklearn/neural_network/multilayer_perceptron.py:566: ConvergenceWarning: Stochastic Optimizer: Maximum iterations (500) reached and the optimization hasn't converged yet.\n",
      "  % self.max_iter, ConvergenceWarning)\n",
      "/usr/local/lib/python3.6/dist-packages/sklearn/neural_network/multilayer_perceptron.py:566: ConvergenceWarning: Stochastic Optimizer: Maximum iterations (500) reached and the optimization hasn't converged yet.\n",
      "  % self.max_iter, ConvergenceWarning)\n",
      "/usr/local/lib/python3.6/dist-packages/sklearn/neural_network/multilayer_perceptron.py:566: ConvergenceWarning: Stochastic Optimizer: Maximum iterations (500) reached and the optimization hasn't converged yet.\n",
      "  % self.max_iter, ConvergenceWarning)\n",
      "/usr/local/lib/python3.6/dist-packages/sklearn/neural_network/multilayer_perceptron.py:566: ConvergenceWarning: Stochastic Optimizer: Maximum iterations (500) reached and the optimization hasn't converged yet.\n",
      "  % self.max_iter, ConvergenceWarning)\n",
      "/usr/local/lib/python3.6/dist-packages/sklearn/neural_network/multilayer_perceptron.py:566: ConvergenceWarning: Stochastic Optimizer: Maximum iterations (500) reached and the optimization hasn't converged yet.\n",
      "  % self.max_iter, ConvergenceWarning)\n",
      "/usr/local/lib/python3.6/dist-packages/sklearn/neural_network/multilayer_perceptron.py:566: ConvergenceWarning: Stochastic Optimizer: Maximum iterations (500) reached and the optimization hasn't converged yet.\n",
      "  % self.max_iter, ConvergenceWarning)\n",
      "/usr/local/lib/python3.6/dist-packages/sklearn/neural_network/multilayer_perceptron.py:566: ConvergenceWarning: Stochastic Optimizer: Maximum iterations (500) reached and the optimization hasn't converged yet.\n",
      "  % self.max_iter, ConvergenceWarning)\n",
      "/usr/local/lib/python3.6/dist-packages/sklearn/neural_network/multilayer_perceptron.py:566: ConvergenceWarning: Stochastic Optimizer: Maximum iterations (500) reached and the optimization hasn't converged yet.\n",
      "  % self.max_iter, ConvergenceWarning)\n",
      "/usr/local/lib/python3.6/dist-packages/sklearn/neural_network/multilayer_perceptron.py:566: ConvergenceWarning: Stochastic Optimizer: Maximum iterations (500) reached and the optimization hasn't converged yet.\n",
      "  % self.max_iter, ConvergenceWarning)\n",
      "/usr/local/lib/python3.6/dist-packages/sklearn/neural_network/multilayer_perceptron.py:566: ConvergenceWarning: Stochastic Optimizer: Maximum iterations (500) reached and the optimization hasn't converged yet.\n",
      "  % self.max_iter, ConvergenceWarning)\n",
      "/usr/local/lib/python3.6/dist-packages/sklearn/neural_network/multilayer_perceptron.py:566: ConvergenceWarning: Stochastic Optimizer: Maximum iterations (500) reached and the optimization hasn't converged yet.\n",
      "  % self.max_iter, ConvergenceWarning)\n",
      "/usr/local/lib/python3.6/dist-packages/sklearn/neural_network/multilayer_perceptron.py:566: ConvergenceWarning: Stochastic Optimizer: Maximum iterations (500) reached and the optimization hasn't converged yet.\n",
      "  % self.max_iter, ConvergenceWarning)\n",
      "/usr/local/lib/python3.6/dist-packages/sklearn/neural_network/multilayer_perceptron.py:566: ConvergenceWarning: Stochastic Optimizer: Maximum iterations (500) reached and the optimization hasn't converged yet.\n",
      "  % self.max_iter, ConvergenceWarning)\n",
      "/usr/local/lib/python3.6/dist-packages/sklearn/neural_network/multilayer_perceptron.py:566: ConvergenceWarning: Stochastic Optimizer: Maximum iterations (500) reached and the optimization hasn't converged yet.\n",
      "  % self.max_iter, ConvergenceWarning)\n",
      "/usr/local/lib/python3.6/dist-packages/sklearn/neural_network/multilayer_perceptron.py:566: ConvergenceWarning: Stochastic Optimizer: Maximum iterations (500) reached and the optimization hasn't converged yet.\n",
      "  % self.max_iter, ConvergenceWarning)\n",
      "/usr/local/lib/python3.6/dist-packages/sklearn/neural_network/multilayer_perceptron.py:566: ConvergenceWarning: Stochastic Optimizer: Maximum iterations (500) reached and the optimization hasn't converged yet.\n",
      "  % self.max_iter, ConvergenceWarning)\n",
      "/usr/local/lib/python3.6/dist-packages/sklearn/neural_network/multilayer_perceptron.py:566: ConvergenceWarning: Stochastic Optimizer: Maximum iterations (500) reached and the optimization hasn't converged yet.\n",
      "  % self.max_iter, ConvergenceWarning)\n",
      "/usr/local/lib/python3.6/dist-packages/sklearn/neural_network/multilayer_perceptron.py:566: ConvergenceWarning: Stochastic Optimizer: Maximum iterations (200) reached and the optimization hasn't converged yet.\n",
      "  % self.max_iter, ConvergenceWarning)\n",
      "/usr/local/lib/python3.6/dist-packages/sklearn/neural_network/multilayer_perceptron.py:566: ConvergenceWarning: Stochastic Optimizer: Maximum iterations (200) reached and the optimization hasn't converged yet.\n",
      "  % self.max_iter, ConvergenceWarning)\n",
      "/usr/local/lib/python3.6/dist-packages/sklearn/neural_network/multilayer_perceptron.py:566: ConvergenceWarning: Stochastic Optimizer: Maximum iterations (200) reached and the optimization hasn't converged yet.\n",
      "  % self.max_iter, ConvergenceWarning)\n",
      "/usr/local/lib/python3.6/dist-packages/sklearn/neural_network/multilayer_perceptron.py:566: ConvergenceWarning: Stochastic Optimizer: Maximum iterations (200) reached and the optimization hasn't converged yet.\n",
      "  % self.max_iter, ConvergenceWarning)\n",
      "/usr/local/lib/python3.6/dist-packages/sklearn/neural_network/multilayer_perceptron.py:566: ConvergenceWarning: Stochastic Optimizer: Maximum iterations (200) reached and the optimization hasn't converged yet.\n",
      "  % self.max_iter, ConvergenceWarning)\n",
      "/usr/local/lib/python3.6/dist-packages/sklearn/neural_network/multilayer_perceptron.py:566: ConvergenceWarning: Stochastic Optimizer: Maximum iterations (200) reached and the optimization hasn't converged yet.\n",
      "  % self.max_iter, ConvergenceWarning)\n",
      "/usr/local/lib/python3.6/dist-packages/sklearn/neural_network/multilayer_perceptron.py:566: ConvergenceWarning: Stochastic Optimizer: Maximum iterations (200) reached and the optimization hasn't converged yet.\n",
      "  % self.max_iter, ConvergenceWarning)\n",
      "/usr/local/lib/python3.6/dist-packages/sklearn/neural_network/multilayer_perceptron.py:566: ConvergenceWarning: Stochastic Optimizer: Maximum iterations (200) reached and the optimization hasn't converged yet.\n",
      "  % self.max_iter, ConvergenceWarning)\n",
      "/usr/local/lib/python3.6/dist-packages/sklearn/neural_network/multilayer_perceptron.py:566: ConvergenceWarning: Stochastic Optimizer: Maximum iterations (200) reached and the optimization hasn't converged yet.\n",
      "  % self.max_iter, ConvergenceWarning)\n",
      "/usr/local/lib/python3.6/dist-packages/sklearn/neural_network/multilayer_perceptron.py:566: ConvergenceWarning: Stochastic Optimizer: Maximum iterations (200) reached and the optimization hasn't converged yet.\n",
      "  % self.max_iter, ConvergenceWarning)\n",
      "/usr/local/lib/python3.6/dist-packages/sklearn/neural_network/multilayer_perceptron.py:566: ConvergenceWarning: Stochastic Optimizer: Maximum iterations (200) reached and the optimization hasn't converged yet.\n",
      "  % self.max_iter, ConvergenceWarning)\n",
      "/usr/local/lib/python3.6/dist-packages/sklearn/neural_network/multilayer_perceptron.py:566: ConvergenceWarning: Stochastic Optimizer: Maximum iterations (200) reached and the optimization hasn't converged yet.\n",
      "  % self.max_iter, ConvergenceWarning)\n",
      "/usr/local/lib/python3.6/dist-packages/sklearn/neural_network/multilayer_perceptron.py:566: ConvergenceWarning: Stochastic Optimizer: Maximum iterations (200) reached and the optimization hasn't converged yet.\n",
      "  % self.max_iter, ConvergenceWarning)\n",
      "/usr/local/lib/python3.6/dist-packages/sklearn/neural_network/multilayer_perceptron.py:566: ConvergenceWarning: Stochastic Optimizer: Maximum iterations (200) reached and the optimization hasn't converged yet.\n",
      "  % self.max_iter, ConvergenceWarning)\n",
      "/usr/local/lib/python3.6/dist-packages/sklearn/neural_network/multilayer_perceptron.py:566: ConvergenceWarning: Stochastic Optimizer: Maximum iterations (200) reached and the optimization hasn't converged yet.\n",
      "  % self.max_iter, ConvergenceWarning)\n",
      "/usr/local/lib/python3.6/dist-packages/sklearn/neural_network/multilayer_perceptron.py:566: ConvergenceWarning: Stochastic Optimizer: Maximum iterations (200) reached and the optimization hasn't converged yet.\n",
      "  % self.max_iter, ConvergenceWarning)\n",
      "/usr/local/lib/python3.6/dist-packages/sklearn/neural_network/multilayer_perceptron.py:566: ConvergenceWarning: Stochastic Optimizer: Maximum iterations (200) reached and the optimization hasn't converged yet.\n",
      "  % self.max_iter, ConvergenceWarning)\n",
      "/usr/local/lib/python3.6/dist-packages/sklearn/neural_network/multilayer_perceptron.py:566: ConvergenceWarning: Stochastic Optimizer: Maximum iterations (200) reached and the optimization hasn't converged yet.\n",
      "  % self.max_iter, ConvergenceWarning)\n",
      "/usr/local/lib/python3.6/dist-packages/sklearn/neural_network/multilayer_perceptron.py:566: ConvergenceWarning: Stochastic Optimizer: Maximum iterations (300) reached and the optimization hasn't converged yet.\n",
      "  % self.max_iter, ConvergenceWarning)\n",
      "/usr/local/lib/python3.6/dist-packages/sklearn/neural_network/multilayer_perceptron.py:566: ConvergenceWarning: Stochastic Optimizer: Maximum iterations (300) reached and the optimization hasn't converged yet.\n",
      "  % self.max_iter, ConvergenceWarning)\n",
      "/usr/local/lib/python3.6/dist-packages/sklearn/neural_network/multilayer_perceptron.py:566: ConvergenceWarning: Stochastic Optimizer: Maximum iterations (300) reached and the optimization hasn't converged yet.\n",
      "  % self.max_iter, ConvergenceWarning)\n",
      "/usr/local/lib/python3.6/dist-packages/sklearn/neural_network/multilayer_perceptron.py:566: ConvergenceWarning: Stochastic Optimizer: Maximum iterations (300) reached and the optimization hasn't converged yet.\n",
      "  % self.max_iter, ConvergenceWarning)\n",
      "/usr/local/lib/python3.6/dist-packages/sklearn/neural_network/multilayer_perceptron.py:566: ConvergenceWarning: Stochastic Optimizer: Maximum iterations (300) reached and the optimization hasn't converged yet.\n",
      "  % self.max_iter, ConvergenceWarning)\n",
      "/usr/local/lib/python3.6/dist-packages/sklearn/neural_network/multilayer_perceptron.py:566: ConvergenceWarning: Stochastic Optimizer: Maximum iterations (300) reached and the optimization hasn't converged yet.\n",
      "  % self.max_iter, ConvergenceWarning)\n",
      "/usr/local/lib/python3.6/dist-packages/sklearn/neural_network/multilayer_perceptron.py:566: ConvergenceWarning: Stochastic Optimizer: Maximum iterations (300) reached and the optimization hasn't converged yet.\n",
      "  % self.max_iter, ConvergenceWarning)\n",
      "/usr/local/lib/python3.6/dist-packages/sklearn/neural_network/multilayer_perceptron.py:566: ConvergenceWarning: Stochastic Optimizer: Maximum iterations (300) reached and the optimization hasn't converged yet.\n",
      "  % self.max_iter, ConvergenceWarning)\n",
      "/usr/local/lib/python3.6/dist-packages/sklearn/neural_network/multilayer_perceptron.py:566: ConvergenceWarning: Stochastic Optimizer: Maximum iterations (300) reached and the optimization hasn't converged yet.\n",
      "  % self.max_iter, ConvergenceWarning)\n",
      "/usr/local/lib/python3.6/dist-packages/sklearn/neural_network/multilayer_perceptron.py:566: ConvergenceWarning: Stochastic Optimizer: Maximum iterations (300) reached and the optimization hasn't converged yet.\n",
      "  % self.max_iter, ConvergenceWarning)\n",
      "/usr/local/lib/python3.6/dist-packages/sklearn/neural_network/multilayer_perceptron.py:566: ConvergenceWarning: Stochastic Optimizer: Maximum iterations (300) reached and the optimization hasn't converged yet.\n",
      "  % self.max_iter, ConvergenceWarning)\n",
      "/usr/local/lib/python3.6/dist-packages/sklearn/neural_network/multilayer_perceptron.py:566: ConvergenceWarning: Stochastic Optimizer: Maximum iterations (300) reached and the optimization hasn't converged yet.\n",
      "  % self.max_iter, ConvergenceWarning)\n",
      "/usr/local/lib/python3.6/dist-packages/sklearn/neural_network/multilayer_perceptron.py:566: ConvergenceWarning: Stochastic Optimizer: Maximum iterations (300) reached and the optimization hasn't converged yet.\n",
      "  % self.max_iter, ConvergenceWarning)\n",
      "/usr/local/lib/python3.6/dist-packages/sklearn/neural_network/multilayer_perceptron.py:566: ConvergenceWarning: Stochastic Optimizer: Maximum iterations (300) reached and the optimization hasn't converged yet.\n",
      "  % self.max_iter, ConvergenceWarning)\n",
      "/usr/local/lib/python3.6/dist-packages/sklearn/neural_network/multilayer_perceptron.py:566: ConvergenceWarning: Stochastic Optimizer: Maximum iterations (300) reached and the optimization hasn't converged yet.\n",
      "  % self.max_iter, ConvergenceWarning)\n",
      "/usr/local/lib/python3.6/dist-packages/sklearn/neural_network/multilayer_perceptron.py:566: ConvergenceWarning: Stochastic Optimizer: Maximum iterations (300) reached and the optimization hasn't converged yet.\n",
      "  % self.max_iter, ConvergenceWarning)\n",
      "/usr/local/lib/python3.6/dist-packages/sklearn/neural_network/multilayer_perceptron.py:566: ConvergenceWarning: Stochastic Optimizer: Maximum iterations (500) reached and the optimization hasn't converged yet.\n",
      "  % self.max_iter, ConvergenceWarning)\n",
      "/usr/local/lib/python3.6/dist-packages/sklearn/neural_network/multilayer_perceptron.py:566: ConvergenceWarning: Stochastic Optimizer: Maximum iterations (500) reached and the optimization hasn't converged yet.\n",
      "  % self.max_iter, ConvergenceWarning)\n",
      "/usr/local/lib/python3.6/dist-packages/sklearn/neural_network/multilayer_perceptron.py:566: ConvergenceWarning: Stochastic Optimizer: Maximum iterations (500) reached and the optimization hasn't converged yet.\n",
      "  % self.max_iter, ConvergenceWarning)\n",
      "/usr/local/lib/python3.6/dist-packages/sklearn/neural_network/multilayer_perceptron.py:566: ConvergenceWarning: Stochastic Optimizer: Maximum iterations (500) reached and the optimization hasn't converged yet.\n",
      "  % self.max_iter, ConvergenceWarning)\n",
      "/usr/local/lib/python3.6/dist-packages/sklearn/neural_network/multilayer_perceptron.py:566: ConvergenceWarning: Stochastic Optimizer: Maximum iterations (500) reached and the optimization hasn't converged yet.\n",
      "  % self.max_iter, ConvergenceWarning)\n",
      "/usr/local/lib/python3.6/dist-packages/sklearn/neural_network/multilayer_perceptron.py:566: ConvergenceWarning: Stochastic Optimizer: Maximum iterations (500) reached and the optimization hasn't converged yet.\n",
      "  % self.max_iter, ConvergenceWarning)\n",
      "/usr/local/lib/python3.6/dist-packages/sklearn/neural_network/multilayer_perceptron.py:566: ConvergenceWarning: Stochastic Optimizer: Maximum iterations (500) reached and the optimization hasn't converged yet.\n",
      "  % self.max_iter, ConvergenceWarning)\n",
      "/usr/local/lib/python3.6/dist-packages/sklearn/neural_network/multilayer_perceptron.py:566: ConvergenceWarning: Stochastic Optimizer: Maximum iterations (500) reached and the optimization hasn't converged yet.\n",
      "  % self.max_iter, ConvergenceWarning)\n",
      "/usr/local/lib/python3.6/dist-packages/sklearn/neural_network/multilayer_perceptron.py:566: ConvergenceWarning: Stochastic Optimizer: Maximum iterations (500) reached and the optimization hasn't converged yet.\n",
      "  % self.max_iter, ConvergenceWarning)\n",
      "/usr/local/lib/python3.6/dist-packages/sklearn/neural_network/multilayer_perceptron.py:566: ConvergenceWarning: Stochastic Optimizer: Maximum iterations (500) reached and the optimization hasn't converged yet.\n",
      "  % self.max_iter, ConvergenceWarning)\n",
      "/usr/local/lib/python3.6/dist-packages/sklearn/model_selection/_search.py:814: DeprecationWarning: The default of the `iid` parameter will change from True to False in version 0.22 and will be removed in 0.24. This will change numeric results when test-set sizes are unequal.\n",
      "  DeprecationWarning)\n"
     ]
    },
    {
     "data": {
      "text/plain": [
       "GridSearchCV(cv=StratifiedKFold(n_splits=10, random_state=0, shuffle=True),\n",
       "             error_score='raise-deprecating',\n",
       "             estimator=MLPClassifier(activation='relu', alpha=0.0001,\n",
       "                                     batch_size='auto', beta_1=0.9,\n",
       "                                     beta_2=0.999, early_stopping=False,\n",
       "                                     epsilon=1e-08, hidden_layer_sizes=(100,),\n",
       "                                     learning_rate='constant',\n",
       "                                     learning_rate_init=0.001, max_iter=200,\n",
       "                                     momentum=0.9, n_iter_no_c...\n",
       "                                     nesterovs_momentum=True, power_t=0.5,\n",
       "                                     random_state=None, shuffle=True,\n",
       "                                     solver='adam', tol=0.0001,\n",
       "                                     validation_fraction=0.1, verbose=False,\n",
       "                                     warm_start=False),\n",
       "             iid='warn', n_jobs=None,\n",
       "             param_grid=[{'hidden_layer_sizes': [(10, 10), (20, 20),\n",
       "                                                 (30, 30, 30)],\n",
       "                          'max_iter': [200, 300, 500],\n",
       "                          'solver': ['adam', 'sgd', 'lbfgs']}],\n",
       "             pre_dispatch='2*n_jobs', refit=True, return_train_score=False,\n",
       "             scoring=None, verbose=0)"
      ]
     },
     "execution_count": 40,
     "metadata": {},
     "output_type": "execute_result"
    }
   ],
   "source": [
    "gsCV_MLP.fit(X_2d_train, y_2d_train)"
   ]
  },
  {
   "cell_type": "code",
   "execution_count": 41,
   "metadata": {},
   "outputs": [],
   "source": [
    "# gsCV_CNN.fit(X_2d_train, y_2d_train)"
   ]
  },
  {
   "cell_type": "code",
   "execution_count": 42,
   "metadata": {},
   "outputs": [
    {
     "data": {
      "text/plain": [
       "({'C': 100, 'gamma': 0.5, 'kernel': 'rbf'}, 0.9988713318284425)"
      ]
     },
     "execution_count": 42,
     "metadata": {},
     "output_type": "execute_result"
    }
   ],
   "source": [
    "gsCV_SVC.best_params_, gsCV_SVC.best_score_"
   ]
  },
  {
   "cell_type": "code",
   "execution_count": 43,
   "metadata": {},
   "outputs": [
    {
     "data": {
      "text/plain": [
       "({'hidden_layer_sizes': (30, 30, 30), 'max_iter': 300, 'solver': 'adam'},\n",
       " 0.9887133182844243)"
      ]
     },
     "execution_count": 43,
     "metadata": {},
     "output_type": "execute_result"
    }
   ],
   "source": [
    "gsCV_MLP.best_params_, gsCV_MLP.best_score_"
   ]
  },
  {
   "cell_type": "code",
   "execution_count": 44,
   "metadata": {},
   "outputs": [],
   "source": [
    "# gsCV_CNN.best_params_, gsCV_CNN.best_score_"
   ]
  },
  {
   "cell_type": "code",
   "execution_count": 45,
   "metadata": {},
   "outputs": [],
   "source": [
    "svc_valid = gsCV_SVC.predict(X_2d_validate)\n",
    "mlp_valid = gsCV_MLP.predict(X_2d_validate)\n",
    "# cnn_valid = gsCV_CNN.predict(X_3d_validate)"
   ]
  },
  {
   "cell_type": "code",
   "execution_count": 46,
   "metadata": {},
   "outputs": [],
   "source": [
    "svc_test = gsCV_SVC.predict(X_2d_test)\n",
    "mlp_test = gsCV_MLP.predict(X_2d_test)\n",
    "# cnn_test = gsCV_CNN.predict(X_3d_test)"
   ]
  },
  {
   "cell_type": "code",
   "execution_count": 47,
   "metadata": {},
   "outputs": [
    {
     "name": "stdout",
     "output_type": "stream",
     "text": [
      "              precision    recall  f1-score   support\n",
      "\n",
      "           0       1.00      1.00      1.00       210\n",
      "           1       1.00      1.00      1.00       345\n",
      "           2       1.00      1.00      1.00       331\n",
      "\n",
      "    accuracy                           1.00       886\n",
      "   macro avg       1.00      1.00      1.00       886\n",
      "weighted avg       1.00      1.00      1.00       886\n",
      "\n",
      "              precision    recall  f1-score   support\n",
      "\n",
      "           0       0.89      0.98      0.93       210\n",
      "           1       0.99      0.92      0.96       345\n",
      "           2       1.00      1.00      1.00       331\n",
      "\n",
      "    accuracy                           0.97       886\n",
      "   macro avg       0.96      0.97      0.96       886\n",
      "weighted avg       0.97      0.97      0.97       886\n",
      "\n"
     ]
    }
   ],
   "source": [
    "print(classification_report(y_2d_validate, svc_valid))\n",
    "print(classification_report(y_2d_validate, mlp_valid))\n",
    "# print(classification_report(y_2d_validate, cnn_valid))"
   ]
  },
  {
   "cell_type": "code",
   "execution_count": 48,
   "metadata": {},
   "outputs": [
    {
     "name": "stdout",
     "output_type": "stream",
     "text": [
      "[[209   1   0]\n",
      " [  0 345   0]\n",
      " [  0   0 331]]\n",
      "[[206   4   0]\n",
      " [ 26 319   0]\n",
      " [  0   0 331]]\n"
     ]
    }
   ],
   "source": [
    "print(confusion_matrix(y_2d_validate, svc_valid))\n",
    "print(confusion_matrix(y_2d_validate, mlp_valid))\n",
    "# print(confusion_matrix(y_2d_validate, cnn_valid))"
   ]
  },
  {
   "cell_type": "code",
   "execution_count": 49,
   "metadata": {},
   "outputs": [
    {
     "name": "stdout",
     "output_type": "stream",
     "text": [
      "              precision    recall  f1-score   support\n",
      "\n",
      "           0       1.00      0.98      0.99       105\n",
      "           1       0.99      1.00      0.99       172\n",
      "           2       1.00      1.00      1.00       166\n",
      "\n",
      "    accuracy                           1.00       443\n",
      "   macro avg       1.00      0.99      0.99       443\n",
      "weighted avg       1.00      1.00      1.00       443\n",
      "\n",
      "              precision    recall  f1-score   support\n",
      "\n",
      "           0       0.92      0.98      0.95       105\n",
      "           1       0.99      0.95      0.97       172\n",
      "           2       1.00      1.00      1.00       166\n",
      "\n",
      "    accuracy                           0.98       443\n",
      "   macro avg       0.97      0.98      0.97       443\n",
      "weighted avg       0.98      0.98      0.98       443\n",
      "\n"
     ]
    }
   ],
   "source": [
    "print(classification_report(y_2d_test, svc_test))\n",
    "print(classification_report(y_2d_test, mlp_test))\n",
    "# print(classification_report(y_2d_test, cnn_test))"
   ]
  },
  {
   "cell_type": "code",
   "execution_count": 50,
   "metadata": {},
   "outputs": [
    {
     "name": "stdout",
     "output_type": "stream",
     "text": [
      "[[103   2   0]\n",
      " [  0 172   0]\n",
      " [  0   0 166]]\n",
      "[[103   2   0]\n",
      " [  9 163   0]\n",
      " [  0   0 166]]\n"
     ]
    }
   ],
   "source": [
    "print(confusion_matrix(y_2d_test, svc_test))\n",
    "print(confusion_matrix(y_2d_test, mlp_test))\n",
    "# print(confusion_matrix(y_2d_test, cnn_test))"
   ]
  }
 ],
 "metadata": {
  "kernelspec": {
   "display_name": "Python 3",
   "language": "python",
   "name": "python3"
  },
  "language_info": {
   "codemirror_mode": {
    "name": "ipython",
    "version": 3
   },
   "file_extension": ".py",
   "mimetype": "text/x-python",
   "name": "python",
   "nbconvert_exporter": "python",
   "pygments_lexer": "ipython3",
   "version": "3.6.9"
  }
 },
 "nbformat": 4,
 "nbformat_minor": 4
}
