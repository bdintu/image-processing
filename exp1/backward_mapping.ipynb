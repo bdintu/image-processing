{
 "cells": [
  {
   "cell_type": "markdown",
   "metadata": {},
   "source": [
    "# Assigment : Image rotation by the use of transformation matrix."
   ]
  },
  {
   "cell_type": "markdown",
   "metadata": {},
   "source": [
    "## Narin K. Bannasan, Telecommunication Engineering, 59010728"
   ]
  },
  {
   "cell_type": "markdown",
   "metadata": {},
   "source": [
    "### 1. Inclusions of libraries."
   ]
  },
  {
   "cell_type": "code",
   "execution_count": 1,
   "metadata": {},
   "outputs": [],
   "source": [
    "import cv2\n",
    "import numpy as np\n",
    "import random as rand\n",
    "import matplotlib.pyplot as plt\n",
    "import math\n",
    "\n",
    "%matplotlib notebook"
   ]
  },
  {
   "cell_type": "markdown",
   "metadata": {},
   "source": [
    "### 2. Image from random generation for a specified size."
   ]
  },
  {
   "cell_type": "code",
   "execution_count": 2,
   "metadata": {},
   "outputs": [],
   "source": [
    "# # Specify the image size.\n",
    "# image_size = [100,200]\n",
    "# #==============================================================\n",
    "# image = np.zeros([image_size[0],image_size[1]],dtype=np.uint8)\n",
    "# for x in range(0,image_size[0]):\n",
    "#     for y in range(0,image_size[1]):      \n",
    "#             image[x][y] = rand.randint(3,7)"
   ]
  },
  {
   "cell_type": "markdown",
   "metadata": {},
   "source": [
    "### 2. Image from source file."
   ]
  },
  {
   "cell_type": "code",
   "execution_count": 3,
   "metadata": {},
   "outputs": [
    {
     "name": "stdout",
     "output_type": "stream",
     "text": [
      "Image loaded as : GRAYSCALE\n",
      "Image size (W x H): 277 x 369\n"
     ]
    }
   ],
   "source": [
    "# Specify the image's path / filename.\n",
    "image_file = 'img.jpg'\n",
    "img_resizing_factor = 4\n",
    "#==============================================================\n",
    "image_file = cv2.imread(image_file)\n",
    "image = cv2.resize(image_file,(image_file.shape[1]//img_resizing_factor,image_file.shape[0]//img_resizing_factor))\n",
    "image = cv2.cvtColor(image, cv2.COLOR_BGR2GRAY)\n",
    "image_size = image.shape\n",
    "\n",
    "print(\"Image loaded as : GRAYSCALE\")\n",
    "print(\"Image size (W x H):\",image_size[1],\"x\",image_size[0])"
   ]
  },
  {
   "cell_type": "markdown",
   "metadata": {},
   "source": [
    "### 3. Angle of rotation (SPECIFY STUDENT ID FOR AN ANGLE OF ROTATION HERE)"
   ]
  },
  {
   "cell_type": "code",
   "execution_count": 4,
   "metadata": {},
   "outputs": [
    {
     "name": "stdout",
     "output_type": "stream",
     "text": [
      "Student ID : 59010728\n",
      "Last digit : 8\n",
      "Angle of rotation : 30 deg.\n",
      "Angle in radians : 0.524 rad.\n"
     ]
    }
   ],
   "source": [
    "# Specify the student ID.\n",
    "student_id = 59010728\n",
    "#==============================================================\n",
    "last_digit = student_id % 10\n",
    "zeta_index = last_digit % 4\n",
    "zeta_array = [30,60,120,150]\n",
    "zeta = zeta_array[zeta_index]\n",
    "zeta_rad = zeta * math.pi / 180.00\n",
    "\n",
    "print(\"Student ID :\",student_id)\n",
    "print(\"Last digit :\",last_digit)\n",
    "print(\"Angle of rotation :\",zeta,\"deg.\")\n",
    "print(\"Angle in radians : %.3f\" % zeta_rad,\"rad.\")"
   ]
  },
  {
   "cell_type": "markdown",
   "metadata": {},
   "source": [
    "### 4. Transform / Inverse matrix generation"
   ]
  },
  {
   "cell_type": "code",
   "execution_count": 5,
   "metadata": {},
   "outputs": [
    {
     "name": "stdout",
     "output_type": "stream",
     "text": [
      "[Forward transformation matrix]\n",
      "[[ 0.8660254 -0.5      ]\n",
      " [ 0.5        0.8660254]]\n",
      "[Backward transformation matrix]\n",
      "[[ 0.8660254  0.5      ]\n",
      " [-0.5        0.8660254]]\n"
     ]
    }
   ],
   "source": [
    "# Forward mapping matrix\n",
    "TF = np.array(([math.cos(zeta_rad),-math.sin(zeta_rad)],\n",
    "               [math.sin(zeta_rad),math.cos(zeta_rad)])) \n",
    "\n",
    "# Backward mapping matrix\n",
    "TB = np.array(([math.cos(zeta_rad),math.sin(zeta_rad)],\n",
    "               [-math.sin(zeta_rad),math.cos(zeta_rad)])) \n",
    "\n",
    "print(\"[Forward transformation matrix]\")\n",
    "print(TF)\n",
    "print(\"[Backward transformation matrix]\")\n",
    "print(TB) "
   ]
  },
  {
   "cell_type": "markdown",
   "metadata": {},
   "source": [
    "### 5. Forward mapping for all corner coordinates"
   ]
  },
  {
   "cell_type": "code",
   "execution_count": 6,
   "metadata": {},
   "outputs": [
    {
     "name": "stdout",
     "output_type": "stream",
     "text": [
      "Corner NW (x,y) : (0,0)\n",
      "Corner NE (x,y) : (-139,239)\n",
      "Corner SE (x,y) : (181,424)\n",
      "Corner SW (x,y) : (319,184)\n"
     ]
    }
   ],
   "source": [
    "corner_nw = np.array(([0],\n",
    "                      [0]))\n",
    "\n",
    "corner_ne = np.array(([0],\n",
    "                      [image_size[1]]))\n",
    "\n",
    "corner_se = np.array(([image_size[0]],\n",
    "                      [image_size[1]]))\n",
    "\n",
    "corner_sw = np.array(([image_size[0]],\n",
    "                      [0]))\n",
    "\n",
    "output_corner_nw = np.matmul(TF,corner_nw)\n",
    "output_corner_ne = np.matmul(TF,corner_ne)\n",
    "output_corner_se = np.matmul(TF,corner_se)\n",
    "output_corner_sw = np.matmul(TF,corner_sw)\n",
    "\n",
    "print(\"Corner NW (x,y) : (%d,%d)\" % (math.floor(output_corner_nw[0][0]),math.floor(output_corner_nw[1][0])))\n",
    "print(\"Corner NE (x,y) : (%d,%d)\" % (math.floor(output_corner_ne[0][0]),math.floor(output_corner_ne[1][0])))\n",
    "print(\"Corner SE (x,y) : (%d,%d)\" % (math.floor(output_corner_se[0][0]),math.floor(output_corner_se[1][0])))\n",
    "print(\"Corner SW (x,y) : (%d,%d)\" % (math.floor(output_corner_sw[0][0]),math.floor(output_corner_sw[1][0])))"
   ]
  },
  {
   "cell_type": "markdown",
   "metadata": {},
   "source": [
    "### 6. Generation of output image array"
   ]
  },
  {
   "cell_type": "code",
   "execution_count": 7,
   "metadata": {},
   "outputs": [
    {
     "name": "stdout",
     "output_type": "stream",
     "text": [
      "Output image created...\n",
      "Image size (W x H) : 425 x 459\n",
      "Image offset (x) : -138\n",
      "Image offset (y) : 0\n"
     ]
    }
   ],
   "source": [
    "corner_coordinates = np.concatenate([output_corner_nw,output_corner_ne,output_corner_se,output_corner_sw],axis=1)\n",
    "output_size = [math.ceil(np.max(corner_coordinates[0][:]) - np.min(corner_coordinates[0][:])),\n",
    "               math.ceil(np.max(corner_coordinates[1][:]) - np.min(corner_coordinates[1][:]))]\n",
    "\n",
    "output_offset_x = int(round(np.min(corner_coordinates[0][:])))\n",
    "output_offset_y = int(round(np.min(corner_coordinates[1][:])))\n",
    "                             \n",
    "output_zo = np.zeros([output_size[0],output_size[1]])\n",
    "output_bi = np.zeros([output_size[0],output_size[1]])\n",
    "\n",
    "print(\"Output image created...\")\n",
    "print(\"Image size (W x H) :\",output_size[1],\"x\",output_size[0])\n",
    "print(\"Image offset (x) :\",output_offset_x)\n",
    "print(\"Image offset (y) :\",output_offset_y)"
   ]
  },
  {
   "cell_type": "markdown",
   "metadata": {},
   "source": [
    "### 6. Bilinear interpolation backward mapping"
   ]
  },
  {
   "cell_type": "code",
   "execution_count": 8,
   "metadata": {},
   "outputs": [
    {
     "name": "stdout",
     "output_type": "stream",
     "text": [
      "output_bi[x,y] (uint8) :  177\n"
     ]
    },
    {
     "data": {
      "text/plain": [
       "True"
      ]
     },
     "execution_count": 8,
     "metadata": {},
     "output_type": "execute_result"
    },
    {
     "data": {
      "image/png": "[encoded data removed]",
      "text/plain": [
       "<Figure size 432x288 with 1 Axes>"
      ]
     },
     "metadata": {
      "needs_background": "light"
     },
     "output_type": "display_data"
    }
   ],
   "source": [
    "image = image.astype(np.float64)\n",
    "\n",
    "for x in range(0,output_size[0]):\n",
    "    for y in range(0,output_size[1]):\n",
    "        #backward mapping to find original coordinates\n",
    "        current_xy = np.array(([x+output_offset_x],[y+output_offset_y]))\n",
    "        original_xy = np.matmul(TB,current_xy)\n",
    "        \n",
    "        x0 = math.floor(original_xy[0])\n",
    "        y0 = math.floor(original_xy[1])\n",
    "        x1 = x0 + 1\n",
    "        y1 = y0 + 1\n",
    "        dx = original_xy[0] - x0\n",
    "        dy = original_xy[1] - y0\n",
    "            \n",
    "#         #zero-order interpolation\n",
    "#         if original_xy[0] <= 0 or original_xy[1] <= 0 or original_xy[0] >= math.floor(image_size[0]) or original_xy[1] >= math.floor(image_size[1]):\n",
    "#             output_zo[x][y] = 0\n",
    "#         else:\n",
    "#             output_zo[x][y] = image[x0][y0]\n",
    "        \n",
    "        #bilinear interpolation\n",
    "        if original_xy[0] < 0 or original_xy[1] < 0 or original_xy[0] >= math.floor(image_size[0])-1 or original_xy[1] >= math.floor(image_size[1])-1:\n",
    "            output_bi[x][y] = 0\n",
    "        else:\n",
    "            output_bi[x][y] = (image[x0][y0] + (image[x1][y0] - image[x0][y0])*dx + (image[x0][y1] - image[x0][y0])*dy + ((image[x0][y0]+image[x1][y1])-(image[x1][y0]+image[x0][y1]))*dx*dy)\n",
    "#             if(x in range(200,300) and y in range(200,300)):\n",
    "#                 print('-------------------------------------------')\n",
    "#                 print('1', image[x0][y0])\n",
    "#                 print('2', (image[x1][y0] - image[x0][y0])*dx)\n",
    "#                 print('3',  (image[x0][y1] - image[x0][y0])*dy)\n",
    "#                 print('4', ((image[x0][y0]+image[x1][y1])-(image[x1][y0]+image[x0][y1]))*dx*dy)\n",
    "#                 print('x : ',x)\n",
    "#                 print('y : ',y)\n",
    "#                 print('original x : ',original_xy[0])\n",
    "#                 print('original y : ',original_xy[1])\n",
    "#                 print('image[x0,y0] : ',image[x0][y0])\n",
    "#                 print('image[x1,y0] : ',image[x1][y0])\n",
    "#                 print('image[x0,y1] : ',image[x0][y1])\n",
    "#                 print('image[x1,y1] : ',image[x1][y1])\n",
    "#                 print('dx : ',dx)\n",
    "#                 print('dy : ',dy)\n",
    "#                 print('output_bi[x,y] : ',output_bi[x][y])\n",
    "\n",
    "output_bi = output_bi.astype(np.uint8)\n",
    "print('output_bi[x,y] (uint8) : ',output_bi[200][200])\n",
    "plt.figure(1)\n",
    "plt.title('Original Image')\n",
    "plt.imshow(image,'gray')\n",
    "\n",
    "# plt.figure(2)\n",
    "# plt.subplot(1,2,1)\n",
    "# plt.title('Rotated for %d deg. (Zero-order)' % zeta)\n",
    "# plt.imshow(output_zo,'gray')\n",
    "# cv2.imwrite('out_zo.jpg',output_zo)\n",
    "\n",
    "# plt.subplot(1,2,2)\n",
    "plt.title('Rotated for %d deg. (Bilinear)' % zeta)\n",
    "plt.imshow(output_bi,'gray')\n",
    "cv2.imwrite('out_bi.jpg',output_bi)"
   ]
  }
 ],
 "metadata": {
  "kernelspec": {
   "display_name": "Python 3",
   "language": "python",
   "name": "python3"
  },
  "language_info": {
   "codemirror_mode": {
    "name": "ipython",
    "version": 3
   },
   "file_extension": ".py",
   "mimetype": "text/x-python",
   "name": "python",
   "nbconvert_exporter": "python",
   "pygments_lexer": "ipython3",
   "version": "3.7.4"
  }
 },
 "nbformat": 4,
 "nbformat_minor": 4
}
